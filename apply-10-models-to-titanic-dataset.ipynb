{
 "cells": [
  {
   "cell_type": "code",
   "execution_count": 1,
   "id": "8e8096a5",
   "metadata": {
    "execution": {
     "iopub.execute_input": "2024-09-13T22:36:31.301661Z",
     "iopub.status.busy": "2024-09-13T22:36:31.301085Z",
     "iopub.status.idle": "2024-09-13T22:36:33.775061Z",
     "shell.execute_reply": "2024-09-13T22:36:33.773538Z"
    },
    "id": "KQ5JuyCcZEw1",
    "papermill": {
     "duration": 2.513044,
     "end_time": "2024-09-13T22:36:33.778253",
     "exception": false,
     "start_time": "2024-09-13T22:36:31.265209",
     "status": "completed"
    },
    "tags": []
   },
   "outputs": [],
   "source": [
    "import numpy as np\n",
    "import pandas as pd\n",
    "import matplotlib.pyplot as plt\n",
    "import seaborn as sns\n",
    "import warnings\n",
    "warnings.filterwarnings('ignore')"
   ]
  },
  {
   "cell_type": "code",
   "execution_count": 2,
   "id": "ca7e5161",
   "metadata": {
    "execution": {
     "iopub.execute_input": "2024-09-13T22:36:33.847694Z",
     "iopub.status.busy": "2024-09-13T22:36:33.847071Z",
     "iopub.status.idle": "2024-09-13T22:36:33.902660Z",
     "shell.execute_reply": "2024-09-13T22:36:33.901149Z"
    },
    "id": "i6Z2JwoNaPQ6",
    "outputId": "d233a572-f7c3-44b5-e1ec-a7b1b12d2afc",
    "papermill": {
     "duration": 0.093555,
     "end_time": "2024-09-13T22:36:33.905800",
     "exception": false,
     "start_time": "2024-09-13T22:36:33.812245",
     "status": "completed"
    },
    "tags": []
   },
   "outputs": [
    {
     "data": {
      "text/html": [
       "<div>\n",
       "<style scoped>\n",
       "    .dataframe tbody tr th:only-of-type {\n",
       "        vertical-align: middle;\n",
       "    }\n",
       "\n",
       "    .dataframe tbody tr th {\n",
       "        vertical-align: top;\n",
       "    }\n",
       "\n",
       "    .dataframe thead th {\n",
       "        text-align: right;\n",
       "    }\n",
       "</style>\n",
       "<table border=\"1\" class=\"dataframe\">\n",
       "  <thead>\n",
       "    <tr style=\"text-align: right;\">\n",
       "      <th></th>\n",
       "      <th>PassengerId</th>\n",
       "      <th>Survived</th>\n",
       "      <th>Pclass</th>\n",
       "      <th>Name</th>\n",
       "      <th>Sex</th>\n",
       "      <th>Age</th>\n",
       "      <th>SibSp</th>\n",
       "      <th>Parch</th>\n",
       "      <th>Ticket</th>\n",
       "      <th>Fare</th>\n",
       "      <th>Cabin</th>\n",
       "      <th>Embarked</th>\n",
       "    </tr>\n",
       "  </thead>\n",
       "  <tbody>\n",
       "    <tr>\n",
       "      <th>0</th>\n",
       "      <td>1</td>\n",
       "      <td>0</td>\n",
       "      <td>3</td>\n",
       "      <td>Braund, Mr. Owen Harris</td>\n",
       "      <td>male</td>\n",
       "      <td>22.0</td>\n",
       "      <td>1</td>\n",
       "      <td>0</td>\n",
       "      <td>A/5 21171</td>\n",
       "      <td>7.2500</td>\n",
       "      <td>NaN</td>\n",
       "      <td>S</td>\n",
       "    </tr>\n",
       "    <tr>\n",
       "      <th>1</th>\n",
       "      <td>2</td>\n",
       "      <td>1</td>\n",
       "      <td>1</td>\n",
       "      <td>Cumings, Mrs. John Bradley (Florence Briggs Th...</td>\n",
       "      <td>female</td>\n",
       "      <td>38.0</td>\n",
       "      <td>1</td>\n",
       "      <td>0</td>\n",
       "      <td>PC 17599</td>\n",
       "      <td>71.2833</td>\n",
       "      <td>C85</td>\n",
       "      <td>C</td>\n",
       "    </tr>\n",
       "    <tr>\n",
       "      <th>2</th>\n",
       "      <td>3</td>\n",
       "      <td>1</td>\n",
       "      <td>3</td>\n",
       "      <td>Heikkinen, Miss. Laina</td>\n",
       "      <td>female</td>\n",
       "      <td>26.0</td>\n",
       "      <td>0</td>\n",
       "      <td>0</td>\n",
       "      <td>STON/O2. 3101282</td>\n",
       "      <td>7.9250</td>\n",
       "      <td>NaN</td>\n",
       "      <td>S</td>\n",
       "    </tr>\n",
       "    <tr>\n",
       "      <th>3</th>\n",
       "      <td>4</td>\n",
       "      <td>1</td>\n",
       "      <td>1</td>\n",
       "      <td>Futrelle, Mrs. Jacques Heath (Lily May Peel)</td>\n",
       "      <td>female</td>\n",
       "      <td>35.0</td>\n",
       "      <td>1</td>\n",
       "      <td>0</td>\n",
       "      <td>113803</td>\n",
       "      <td>53.1000</td>\n",
       "      <td>C123</td>\n",
       "      <td>S</td>\n",
       "    </tr>\n",
       "    <tr>\n",
       "      <th>4</th>\n",
       "      <td>5</td>\n",
       "      <td>0</td>\n",
       "      <td>3</td>\n",
       "      <td>Allen, Mr. William Henry</td>\n",
       "      <td>male</td>\n",
       "      <td>35.0</td>\n",
       "      <td>0</td>\n",
       "      <td>0</td>\n",
       "      <td>373450</td>\n",
       "      <td>8.0500</td>\n",
       "      <td>NaN</td>\n",
       "      <td>S</td>\n",
       "    </tr>\n",
       "  </tbody>\n",
       "</table>\n",
       "</div>"
      ],
      "text/plain": [
       "   PassengerId  Survived  Pclass  \\\n",
       "0            1         0       3   \n",
       "1            2         1       1   \n",
       "2            3         1       3   \n",
       "3            4         1       1   \n",
       "4            5         0       3   \n",
       "\n",
       "                                                Name     Sex   Age  SibSp  \\\n",
       "0                            Braund, Mr. Owen Harris    male  22.0      1   \n",
       "1  Cumings, Mrs. John Bradley (Florence Briggs Th...  female  38.0      1   \n",
       "2                             Heikkinen, Miss. Laina  female  26.0      0   \n",
       "3       Futrelle, Mrs. Jacques Heath (Lily May Peel)  female  35.0      1   \n",
       "4                           Allen, Mr. William Henry    male  35.0      0   \n",
       "\n",
       "   Parch            Ticket     Fare Cabin Embarked  \n",
       "0      0         A/5 21171   7.2500   NaN        S  \n",
       "1      0          PC 17599  71.2833   C85        C  \n",
       "2      0  STON/O2. 3101282   7.9250   NaN        S  \n",
       "3      0            113803  53.1000  C123        S  \n",
       "4      0            373450   8.0500   NaN        S  "
      ]
     },
     "execution_count": 2,
     "metadata": {},
     "output_type": "execute_result"
    }
   ],
   "source": [
    "df=pd.read_csv('/kaggle/input/titanic-dataset/Titanic-Dataset.csv')\n",
    "df.head()"
   ]
  },
  {
   "cell_type": "code",
   "execution_count": 3,
   "id": "15f9d942",
   "metadata": {
    "execution": {
     "iopub.execute_input": "2024-09-13T22:36:33.973489Z",
     "iopub.status.busy": "2024-09-13T22:36:33.972708Z",
     "iopub.status.idle": "2024-09-13T22:36:34.003754Z",
     "shell.execute_reply": "2024-09-13T22:36:34.001928Z"
    },
    "id": "A9WfJLz9K5ZD",
    "outputId": "8f509a8a-166d-49c3-c894-c51354babe52",
    "papermill": {
     "duration": 0.067868,
     "end_time": "2024-09-13T22:36:34.007189",
     "exception": false,
     "start_time": "2024-09-13T22:36:33.939321",
     "status": "completed"
    },
    "tags": []
   },
   "outputs": [
    {
     "name": "stdout",
     "output_type": "stream",
     "text": [
      "<class 'pandas.core.frame.DataFrame'>\n",
      "RangeIndex: 891 entries, 0 to 890\n",
      "Data columns (total 12 columns):\n",
      " #   Column       Non-Null Count  Dtype  \n",
      "---  ------       --------------  -----  \n",
      " 0   PassengerId  891 non-null    int64  \n",
      " 1   Survived     891 non-null    int64  \n",
      " 2   Pclass       891 non-null    int64  \n",
      " 3   Name         891 non-null    object \n",
      " 4   Sex          891 non-null    object \n",
      " 5   Age          714 non-null    float64\n",
      " 6   SibSp        891 non-null    int64  \n",
      " 7   Parch        891 non-null    int64  \n",
      " 8   Ticket       891 non-null    object \n",
      " 9   Fare         891 non-null    float64\n",
      " 10  Cabin        204 non-null    object \n",
      " 11  Embarked     889 non-null    object \n",
      "dtypes: float64(2), int64(5), object(5)\n",
      "memory usage: 83.7+ KB\n"
     ]
    }
   ],
   "source": [
    "df.info()"
   ]
  },
  {
   "cell_type": "code",
   "execution_count": 4,
   "id": "66d60157",
   "metadata": {
    "execution": {
     "iopub.execute_input": "2024-09-13T22:36:34.077430Z",
     "iopub.status.busy": "2024-09-13T22:36:34.075913Z",
     "iopub.status.idle": "2024-09-13T22:36:34.086106Z",
     "shell.execute_reply": "2024-09-13T22:36:34.084854Z"
    },
    "id": "lGpXT8c6awK_",
    "outputId": "2e3ef8f5-be6f-4a4e-ca88-989a736e1362",
    "papermill": {
     "duration": 0.048603,
     "end_time": "2024-09-13T22:36:34.089264",
     "exception": false,
     "start_time": "2024-09-13T22:36:34.040661",
     "status": "completed"
    },
    "tags": []
   },
   "outputs": [
    {
     "data": {
      "text/plain": [
       "(891, 12)"
      ]
     },
     "execution_count": 4,
     "metadata": {},
     "output_type": "execute_result"
    }
   ],
   "source": [
    "df.shape"
   ]
  },
  {
   "cell_type": "code",
   "execution_count": 5,
   "id": "a766b637",
   "metadata": {
    "execution": {
     "iopub.execute_input": "2024-09-13T22:36:34.161195Z",
     "iopub.status.busy": "2024-09-13T22:36:34.160676Z",
     "iopub.status.idle": "2024-09-13T22:36:34.169055Z",
     "shell.execute_reply": "2024-09-13T22:36:34.167607Z"
    },
    "id": "jMIoDbPqa8SY",
    "outputId": "5ae03a4e-4e4d-41da-e05b-d8b2518f5ee4",
    "papermill": {
     "duration": 0.045828,
     "end_time": "2024-09-13T22:36:34.172191",
     "exception": false,
     "start_time": "2024-09-13T22:36:34.126363",
     "status": "completed"
    },
    "tags": []
   },
   "outputs": [
    {
     "data": {
      "text/plain": [
       "Index(['PassengerId', 'Survived', 'Pclass', 'Name', 'Sex', 'Age', 'SibSp',\n",
       "       'Parch', 'Ticket', 'Fare', 'Cabin', 'Embarked'],\n",
       "      dtype='object')"
      ]
     },
     "execution_count": 5,
     "metadata": {},
     "output_type": "execute_result"
    }
   ],
   "source": [
    "df.columns"
   ]
  },
  {
   "cell_type": "code",
   "execution_count": 6,
   "id": "7a374c24",
   "metadata": {
    "execution": {
     "iopub.execute_input": "2024-09-13T22:36:34.246743Z",
     "iopub.status.busy": "2024-09-13T22:36:34.245766Z",
     "iopub.status.idle": "2024-09-13T22:36:34.267171Z",
     "shell.execute_reply": "2024-09-13T22:36:34.265970Z"
    },
    "id": "4CW1CSWdbIS0",
    "outputId": "262b52c3-10b2-4a0e-8322-9cb01fde29e2",
    "papermill": {
     "duration": 0.060516,
     "end_time": "2024-09-13T22:36:34.269924",
     "exception": false,
     "start_time": "2024-09-13T22:36:34.209408",
     "status": "completed"
    },
    "tags": []
   },
   "outputs": [
    {
     "data": {
      "text/html": [
       "<div>\n",
       "<style scoped>\n",
       "    .dataframe tbody tr th:only-of-type {\n",
       "        vertical-align: middle;\n",
       "    }\n",
       "\n",
       "    .dataframe tbody tr th {\n",
       "        vertical-align: top;\n",
       "    }\n",
       "\n",
       "    .dataframe thead th {\n",
       "        text-align: right;\n",
       "    }\n",
       "</style>\n",
       "<table border=\"1\" class=\"dataframe\">\n",
       "  <thead>\n",
       "    <tr style=\"text-align: right;\">\n",
       "      <th></th>\n",
       "      <th>Survived</th>\n",
       "      <th>Pclass</th>\n",
       "      <th>Sex</th>\n",
       "      <th>Age</th>\n",
       "      <th>SibSp</th>\n",
       "      <th>Parch</th>\n",
       "      <th>Fare</th>\n",
       "      <th>Embarked</th>\n",
       "    </tr>\n",
       "  </thead>\n",
       "  <tbody>\n",
       "    <tr>\n",
       "      <th>0</th>\n",
       "      <td>0</td>\n",
       "      <td>3</td>\n",
       "      <td>male</td>\n",
       "      <td>22.0</td>\n",
       "      <td>1</td>\n",
       "      <td>0</td>\n",
       "      <td>7.2500</td>\n",
       "      <td>S</td>\n",
       "    </tr>\n",
       "    <tr>\n",
       "      <th>1</th>\n",
       "      <td>1</td>\n",
       "      <td>1</td>\n",
       "      <td>female</td>\n",
       "      <td>38.0</td>\n",
       "      <td>1</td>\n",
       "      <td>0</td>\n",
       "      <td>71.2833</td>\n",
       "      <td>C</td>\n",
       "    </tr>\n",
       "    <tr>\n",
       "      <th>2</th>\n",
       "      <td>1</td>\n",
       "      <td>3</td>\n",
       "      <td>female</td>\n",
       "      <td>26.0</td>\n",
       "      <td>0</td>\n",
       "      <td>0</td>\n",
       "      <td>7.9250</td>\n",
       "      <td>S</td>\n",
       "    </tr>\n",
       "    <tr>\n",
       "      <th>3</th>\n",
       "      <td>1</td>\n",
       "      <td>1</td>\n",
       "      <td>female</td>\n",
       "      <td>35.0</td>\n",
       "      <td>1</td>\n",
       "      <td>0</td>\n",
       "      <td>53.1000</td>\n",
       "      <td>S</td>\n",
       "    </tr>\n",
       "    <tr>\n",
       "      <th>4</th>\n",
       "      <td>0</td>\n",
       "      <td>3</td>\n",
       "      <td>male</td>\n",
       "      <td>35.0</td>\n",
       "      <td>0</td>\n",
       "      <td>0</td>\n",
       "      <td>8.0500</td>\n",
       "      <td>S</td>\n",
       "    </tr>\n",
       "  </tbody>\n",
       "</table>\n",
       "</div>"
      ],
      "text/plain": [
       "   Survived  Pclass     Sex   Age  SibSp  Parch     Fare Embarked\n",
       "0         0       3    male  22.0      1      0   7.2500        S\n",
       "1         1       1  female  38.0      1      0  71.2833        C\n",
       "2         1       3  female  26.0      0      0   7.9250        S\n",
       "3         1       1  female  35.0      1      0  53.1000        S\n",
       "4         0       3    male  35.0      0      0   8.0500        S"
      ]
     },
     "execution_count": 6,
     "metadata": {},
     "output_type": "execute_result"
    }
   ],
   "source": [
    "df.drop(['PassengerId','Name','Cabin','Ticket'],axis=1,inplace=True)\n",
    "df.head()"
   ]
  },
  {
   "cell_type": "code",
   "execution_count": 7,
   "id": "b141caa5",
   "metadata": {
    "execution": {
     "iopub.execute_input": "2024-09-13T22:36:34.344655Z",
     "iopub.status.busy": "2024-09-13T22:36:34.344207Z",
     "iopub.status.idle": "2024-09-13T22:36:34.355116Z",
     "shell.execute_reply": "2024-09-13T22:36:34.353796Z"
    },
    "id": "WdvST0v8MFXU",
    "outputId": "0c1f3554-d61e-4b8e-a639-372446d6ecb4",
    "papermill": {
     "duration": 0.050024,
     "end_time": "2024-09-13T22:36:34.357822",
     "exception": false,
     "start_time": "2024-09-13T22:36:34.307798",
     "status": "completed"
    },
    "tags": []
   },
   "outputs": [
    {
     "data": {
      "text/plain": [
       "Survived      0\n",
       "Pclass        0\n",
       "Sex           0\n",
       "Age         177\n",
       "SibSp         0\n",
       "Parch         0\n",
       "Fare          0\n",
       "Embarked      2\n",
       "dtype: int64"
      ]
     },
     "execution_count": 7,
     "metadata": {},
     "output_type": "execute_result"
    }
   ],
   "source": [
    "df.isna().sum()"
   ]
  },
  {
   "cell_type": "code",
   "execution_count": 8,
   "id": "10ff5a32",
   "metadata": {
    "execution": {
     "iopub.execute_input": "2024-09-13T22:36:34.428401Z",
     "iopub.status.busy": "2024-09-13T22:36:34.427936Z",
     "iopub.status.idle": "2024-09-13T22:36:34.441821Z",
     "shell.execute_reply": "2024-09-13T22:36:34.440489Z"
    },
    "id": "9JOr-ofMJVqe",
    "outputId": "a21ffd7c-6cd9-48e5-ce0e-9b2dff10b760",
    "papermill": {
     "duration": 0.053122,
     "end_time": "2024-09-13T22:36:34.444618",
     "exception": false,
     "start_time": "2024-09-13T22:36:34.391496",
     "status": "completed"
    },
    "tags": []
   },
   "outputs": [
    {
     "data": {
      "text/plain": [
       "(889, 8)"
      ]
     },
     "execution_count": 8,
     "metadata": {},
     "output_type": "execute_result"
    }
   ],
   "source": [
    "#drop null row depending on df['Embarked']\n",
    "\n",
    "df.dropna(subset=['Embarked'], inplace=True)\n",
    "df.shape"
   ]
  },
  {
   "cell_type": "code",
   "execution_count": 9,
   "id": "96e66508",
   "metadata": {
    "execution": {
     "iopub.execute_input": "2024-09-13T22:36:34.515105Z",
     "iopub.status.busy": "2024-09-13T22:36:34.514598Z",
     "iopub.status.idle": "2024-09-13T22:36:34.523497Z",
     "shell.execute_reply": "2024-09-13T22:36:34.522155Z"
    },
    "id": "g2LDuF4AKm9T",
    "outputId": "e36a144e-9619-48dd-e7f4-c7cfca717fa7",
    "papermill": {
     "duration": 0.048295,
     "end_time": "2024-09-13T22:36:34.526367",
     "exception": false,
     "start_time": "2024-09-13T22:36:34.478072",
     "status": "completed"
    },
    "tags": []
   },
   "outputs": [
    {
     "data": {
      "text/plain": [
       "array(['S', 'C', 'Q'], dtype=object)"
      ]
     },
     "execution_count": 9,
     "metadata": {},
     "output_type": "execute_result"
    }
   ],
   "source": [
    "df.Embarked.unique()"
   ]
  },
  {
   "cell_type": "code",
   "execution_count": 10,
   "id": "b9276728",
   "metadata": {
    "execution": {
     "iopub.execute_input": "2024-09-13T22:36:34.596257Z",
     "iopub.status.busy": "2024-09-13T22:36:34.595816Z",
     "iopub.status.idle": "2024-09-13T22:36:34.795297Z",
     "shell.execute_reply": "2024-09-13T22:36:34.792741Z"
    },
    "id": "V9YOsgDiLxD4",
    "outputId": "ee4ba310-d0cb-4c20-db76-09ba402d8a2f",
    "papermill": {
     "duration": 0.23848,
     "end_time": "2024-09-13T22:36:34.799467",
     "exception": false,
     "start_time": "2024-09-13T22:36:34.560987",
     "status": "completed"
    },
    "tags": []
   },
   "outputs": [
    {
     "data": {
      "image/png": "[encoded data removed]",
      "text/plain": [
       "<Figure size 640x480 with 1 Axes>"
      ]
     },
     "metadata": {},
     "output_type": "display_data"
    }
   ],
   "source": [
    "plt.pie(df['Embarked'].value_counts(),labels=df['Embarked'].value_counts().index,autopct='%1.1f%%')\n",
    "plt.title('Embarked')\n",
    "plt.show()"
   ]
  },
  {
   "cell_type": "markdown",
   "id": "34d6a729",
   "metadata": {
    "id": "yR7QZgBaJLHc",
    "papermill": {
     "duration": 0.035929,
     "end_time": "2024-09-13T22:36:34.871767",
     "exception": false,
     "start_time": "2024-09-13T22:36:34.835838",
     "status": "completed"
    },
    "tags": []
   },
   "source": [
    "#Encoding"
   ]
  },
  {
   "cell_type": "code",
   "execution_count": 11,
   "id": "a2efccf2",
   "metadata": {
    "execution": {
     "iopub.execute_input": "2024-09-13T22:36:34.944968Z",
     "iopub.status.busy": "2024-09-13T22:36:34.944539Z",
     "iopub.status.idle": "2024-09-13T22:36:35.192804Z",
     "shell.execute_reply": "2024-09-13T22:36:35.190809Z"
    },
    "id": "AX0tCT-bLWBA",
    "outputId": "15ca3cae-b99c-47dc-df92-a1dbbdbf13bf",
    "papermill": {
     "duration": 0.288266,
     "end_time": "2024-09-13T22:36:35.195690",
     "exception": false,
     "start_time": "2024-09-13T22:36:34.907424",
     "status": "completed"
    },
    "tags": []
   },
   "outputs": [
    {
     "data": {
      "text/html": [
       "<div>\n",
       "<style scoped>\n",
       "    .dataframe tbody tr th:only-of-type {\n",
       "        vertical-align: middle;\n",
       "    }\n",
       "\n",
       "    .dataframe tbody tr th {\n",
       "        vertical-align: top;\n",
       "    }\n",
       "\n",
       "    .dataframe thead th {\n",
       "        text-align: right;\n",
       "    }\n",
       "</style>\n",
       "<table border=\"1\" class=\"dataframe\">\n",
       "  <thead>\n",
       "    <tr style=\"text-align: right;\">\n",
       "      <th></th>\n",
       "      <th>Survived</th>\n",
       "      <th>Pclass</th>\n",
       "      <th>Sex</th>\n",
       "      <th>Age</th>\n",
       "      <th>SibSp</th>\n",
       "      <th>Parch</th>\n",
       "      <th>Fare</th>\n",
       "      <th>Embarked</th>\n",
       "    </tr>\n",
       "  </thead>\n",
       "  <tbody>\n",
       "    <tr>\n",
       "      <th>0</th>\n",
       "      <td>0</td>\n",
       "      <td>3</td>\n",
       "      <td>male</td>\n",
       "      <td>22.0</td>\n",
       "      <td>1</td>\n",
       "      <td>0</td>\n",
       "      <td>7.2500</td>\n",
       "      <td>2</td>\n",
       "    </tr>\n",
       "    <tr>\n",
       "      <th>1</th>\n",
       "      <td>1</td>\n",
       "      <td>1</td>\n",
       "      <td>female</td>\n",
       "      <td>38.0</td>\n",
       "      <td>1</td>\n",
       "      <td>0</td>\n",
       "      <td>71.2833</td>\n",
       "      <td>0</td>\n",
       "    </tr>\n",
       "    <tr>\n",
       "      <th>2</th>\n",
       "      <td>1</td>\n",
       "      <td>3</td>\n",
       "      <td>female</td>\n",
       "      <td>26.0</td>\n",
       "      <td>0</td>\n",
       "      <td>0</td>\n",
       "      <td>7.9250</td>\n",
       "      <td>2</td>\n",
       "    </tr>\n",
       "    <tr>\n",
       "      <th>3</th>\n",
       "      <td>1</td>\n",
       "      <td>1</td>\n",
       "      <td>female</td>\n",
       "      <td>35.0</td>\n",
       "      <td>1</td>\n",
       "      <td>0</td>\n",
       "      <td>53.1000</td>\n",
       "      <td>2</td>\n",
       "    </tr>\n",
       "    <tr>\n",
       "      <th>4</th>\n",
       "      <td>0</td>\n",
       "      <td>3</td>\n",
       "      <td>male</td>\n",
       "      <td>35.0</td>\n",
       "      <td>0</td>\n",
       "      <td>0</td>\n",
       "      <td>8.0500</td>\n",
       "      <td>2</td>\n",
       "    </tr>\n",
       "  </tbody>\n",
       "</table>\n",
       "</div>"
      ],
      "text/plain": [
       "   Survived  Pclass     Sex   Age  SibSp  Parch     Fare  Embarked\n",
       "0         0       3    male  22.0      1      0   7.2500         2\n",
       "1         1       1  female  38.0      1      0  71.2833         0\n",
       "2         1       3  female  26.0      0      0   7.9250         2\n",
       "3         1       1  female  35.0      1      0  53.1000         2\n",
       "4         0       3    male  35.0      0      0   8.0500         2"
      ]
     },
     "execution_count": 11,
     "metadata": {},
     "output_type": "execute_result"
    }
   ],
   "source": [
    "from sklearn.preprocessing import LabelEncoder\n",
    "le=LabelEncoder()\n",
    "df['Embarked']=le.fit_transform(df['Embarked'])\n",
    "df.head()"
   ]
  },
  {
   "cell_type": "code",
   "execution_count": 12,
   "id": "bb32c82e",
   "metadata": {
    "execution": {
     "iopub.execute_input": "2024-09-13T22:36:35.269483Z",
     "iopub.status.busy": "2024-09-13T22:36:35.269022Z",
     "iopub.status.idle": "2024-09-13T22:36:35.278990Z",
     "shell.execute_reply": "2024-09-13T22:36:35.277767Z"
    },
    "id": "h0B9owLhNO3N",
    "outputId": "8fc7556a-8409-461d-fae7-8c3974da5806",
    "papermill": {
     "duration": 0.048599,
     "end_time": "2024-09-13T22:36:35.282343",
     "exception": false,
     "start_time": "2024-09-13T22:36:35.233744",
     "status": "completed"
    },
    "tags": []
   },
   "outputs": [
    {
     "data": {
      "text/plain": [
       "Sex\n",
       "male      577\n",
       "female    312\n",
       "Name: count, dtype: int64"
      ]
     },
     "execution_count": 12,
     "metadata": {},
     "output_type": "execute_result"
    }
   ],
   "source": [
    "df.Sex.value_counts()"
   ]
  },
  {
   "cell_type": "code",
   "execution_count": 13,
   "id": "96b06c80",
   "metadata": {
    "execution": {
     "iopub.execute_input": "2024-09-13T22:36:35.356796Z",
     "iopub.status.busy": "2024-09-13T22:36:35.356305Z",
     "iopub.status.idle": "2024-09-13T22:36:35.371688Z",
     "shell.execute_reply": "2024-09-13T22:36:35.370476Z"
    },
    "id": "5aOmpVrCNgP1",
    "outputId": "a028531e-f463-4d3a-e779-efd00591bdd3",
    "papermill": {
     "duration": 0.054953,
     "end_time": "2024-09-13T22:36:35.374688",
     "exception": false,
     "start_time": "2024-09-13T22:36:35.319735",
     "status": "completed"
    },
    "tags": []
   },
   "outputs": [
    {
     "data": {
      "text/html": [
       "<div>\n",
       "<style scoped>\n",
       "    .dataframe tbody tr th:only-of-type {\n",
       "        vertical-align: middle;\n",
       "    }\n",
       "\n",
       "    .dataframe tbody tr th {\n",
       "        vertical-align: top;\n",
       "    }\n",
       "\n",
       "    .dataframe thead th {\n",
       "        text-align: right;\n",
       "    }\n",
       "</style>\n",
       "<table border=\"1\" class=\"dataframe\">\n",
       "  <thead>\n",
       "    <tr style=\"text-align: right;\">\n",
       "      <th></th>\n",
       "      <th></th>\n",
       "      <th>Survived</th>\n",
       "    </tr>\n",
       "    <tr>\n",
       "      <th>Sex</th>\n",
       "      <th>Survived</th>\n",
       "      <th></th>\n",
       "    </tr>\n",
       "  </thead>\n",
       "  <tbody>\n",
       "    <tr>\n",
       "      <th rowspan=\"2\" valign=\"top\">female</th>\n",
       "      <th>0</th>\n",
       "      <td>81</td>\n",
       "    </tr>\n",
       "    <tr>\n",
       "      <th>1</th>\n",
       "      <td>231</td>\n",
       "    </tr>\n",
       "    <tr>\n",
       "      <th rowspan=\"2\" valign=\"top\">male</th>\n",
       "      <th>0</th>\n",
       "      <td>468</td>\n",
       "    </tr>\n",
       "    <tr>\n",
       "      <th>1</th>\n",
       "      <td>109</td>\n",
       "    </tr>\n",
       "  </tbody>\n",
       "</table>\n",
       "</div>"
      ],
      "text/plain": [
       "                 Survived\n",
       "Sex    Survived          \n",
       "female 0               81\n",
       "       1              231\n",
       "male   0              468\n",
       "       1              109"
      ]
     },
     "execution_count": 13,
     "metadata": {},
     "output_type": "execute_result"
    }
   ],
   "source": [
    "pd.DataFrame(df.groupby(['Sex','Survived'])['Survived'].count())"
   ]
  },
  {
   "cell_type": "code",
   "execution_count": 14,
   "id": "e9a69fc9",
   "metadata": {
    "execution": {
     "iopub.execute_input": "2024-09-13T22:36:35.447100Z",
     "iopub.status.busy": "2024-09-13T22:36:35.446653Z",
     "iopub.status.idle": "2024-09-13T22:36:35.465722Z",
     "shell.execute_reply": "2024-09-13T22:36:35.464398Z"
    },
    "id": "UpcMS4aPNg6Z",
    "outputId": "54e3d231-e55e-4960-c06a-83a3c525c493",
    "papermill": {
     "duration": 0.057807,
     "end_time": "2024-09-13T22:36:35.468375",
     "exception": false,
     "start_time": "2024-09-13T22:36:35.410568",
     "status": "completed"
    },
    "tags": []
   },
   "outputs": [
    {
     "data": {
      "text/html": [
       "<div>\n",
       "<style scoped>\n",
       "    .dataframe tbody tr th:only-of-type {\n",
       "        vertical-align: middle;\n",
       "    }\n",
       "\n",
       "    .dataframe tbody tr th {\n",
       "        vertical-align: top;\n",
       "    }\n",
       "\n",
       "    .dataframe thead th {\n",
       "        text-align: right;\n",
       "    }\n",
       "</style>\n",
       "<table border=\"1\" class=\"dataframe\">\n",
       "  <thead>\n",
       "    <tr style=\"text-align: right;\">\n",
       "      <th></th>\n",
       "      <th>Survived</th>\n",
       "      <th>Pclass</th>\n",
       "      <th>Sex</th>\n",
       "      <th>Age</th>\n",
       "      <th>SibSp</th>\n",
       "      <th>Parch</th>\n",
       "      <th>Fare</th>\n",
       "      <th>Embarked</th>\n",
       "    </tr>\n",
       "  </thead>\n",
       "  <tbody>\n",
       "    <tr>\n",
       "      <th>0</th>\n",
       "      <td>0</td>\n",
       "      <td>3</td>\n",
       "      <td>0</td>\n",
       "      <td>22.0</td>\n",
       "      <td>1</td>\n",
       "      <td>0</td>\n",
       "      <td>7.2500</td>\n",
       "      <td>2</td>\n",
       "    </tr>\n",
       "    <tr>\n",
       "      <th>1</th>\n",
       "      <td>1</td>\n",
       "      <td>1</td>\n",
       "      <td>1</td>\n",
       "      <td>38.0</td>\n",
       "      <td>1</td>\n",
       "      <td>0</td>\n",
       "      <td>71.2833</td>\n",
       "      <td>0</td>\n",
       "    </tr>\n",
       "    <tr>\n",
       "      <th>2</th>\n",
       "      <td>1</td>\n",
       "      <td>3</td>\n",
       "      <td>1</td>\n",
       "      <td>26.0</td>\n",
       "      <td>0</td>\n",
       "      <td>0</td>\n",
       "      <td>7.9250</td>\n",
       "      <td>2</td>\n",
       "    </tr>\n",
       "    <tr>\n",
       "      <th>3</th>\n",
       "      <td>1</td>\n",
       "      <td>1</td>\n",
       "      <td>1</td>\n",
       "      <td>35.0</td>\n",
       "      <td>1</td>\n",
       "      <td>0</td>\n",
       "      <td>53.1000</td>\n",
       "      <td>2</td>\n",
       "    </tr>\n",
       "    <tr>\n",
       "      <th>4</th>\n",
       "      <td>0</td>\n",
       "      <td>3</td>\n",
       "      <td>0</td>\n",
       "      <td>35.0</td>\n",
       "      <td>0</td>\n",
       "      <td>0</td>\n",
       "      <td>8.0500</td>\n",
       "      <td>2</td>\n",
       "    </tr>\n",
       "  </tbody>\n",
       "</table>\n",
       "</div>"
      ],
      "text/plain": [
       "   Survived  Pclass  Sex   Age  SibSp  Parch     Fare  Embarked\n",
       "0         0       3    0  22.0      1      0   7.2500         2\n",
       "1         1       1    1  38.0      1      0  71.2833         0\n",
       "2         1       3    1  26.0      0      0   7.9250         2\n",
       "3         1       1    1  35.0      1      0  53.1000         2\n",
       "4         0       3    0  35.0      0      0   8.0500         2"
      ]
     },
     "execution_count": 14,
     "metadata": {},
     "output_type": "execute_result"
    }
   ],
   "source": [
    "df.Sex=df.Sex.map({'male':0,'female':1})\n",
    "df.head()"
   ]
  },
  {
   "cell_type": "markdown",
   "id": "6374d439",
   "metadata": {
    "id": "OyxbL_iXJWbM",
    "papermill": {
     "duration": 0.034452,
     "end_time": "2024-09-13T22:36:35.537419",
     "exception": false,
     "start_time": "2024-09-13T22:36:35.502967",
     "status": "completed"
    },
    "tags": []
   },
   "source": [
    "#Handle Missing Value"
   ]
  },
  {
   "cell_type": "code",
   "execution_count": 15,
   "id": "d20d3104",
   "metadata": {
    "execution": {
     "iopub.execute_input": "2024-09-13T22:36:35.609595Z",
     "iopub.status.busy": "2024-09-13T22:36:35.609180Z",
     "iopub.status.idle": "2024-09-13T22:36:35.619361Z",
     "shell.execute_reply": "2024-09-13T22:36:35.618028Z"
    },
    "id": "zJMZCcPyLVrz",
    "outputId": "2ee641ac-03e3-4a5a-b677-d1f96132bcf1",
    "papermill": {
     "duration": 0.049639,
     "end_time": "2024-09-13T22:36:35.621968",
     "exception": false,
     "start_time": "2024-09-13T22:36:35.572329",
     "status": "completed"
    },
    "tags": []
   },
   "outputs": [
    {
     "data": {
      "text/plain": [
       "Survived      0\n",
       "Pclass        0\n",
       "Sex           0\n",
       "Age         177\n",
       "SibSp         0\n",
       "Parch         0\n",
       "Fare          0\n",
       "Embarked      0\n",
       "dtype: int64"
      ]
     },
     "execution_count": 15,
     "metadata": {},
     "output_type": "execute_result"
    }
   ],
   "source": [
    "df.isna().sum()"
   ]
  },
  {
   "cell_type": "code",
   "execution_count": 16,
   "id": "c07b9ead",
   "metadata": {
    "execution": {
     "iopub.execute_input": "2024-09-13T22:36:35.750741Z",
     "iopub.status.busy": "2024-09-13T22:36:35.750266Z",
     "iopub.status.idle": "2024-09-13T22:36:36.179296Z",
     "shell.execute_reply": "2024-09-13T22:36:36.177827Z"
    },
    "id": "9-RJyc3iObug",
    "outputId": "8480bd62-f93d-48e9-a8d7-b9f3002bbf79",
    "papermill": {
     "duration": 0.468937,
     "end_time": "2024-09-13T22:36:36.182509",
     "exception": false,
     "start_time": "2024-09-13T22:36:35.713572",
     "status": "completed"
    },
    "tags": []
   },
   "outputs": [
    {
     "data": {
      "text/plain": [
       "<Axes: >"
      ]
     },
     "execution_count": 16,
     "metadata": {},
     "output_type": "execute_result"
    },
    {
     "data": {
      "image/png": "[encoded data removed]",
      "text/plain": [
       "<Figure size 500x500 with 1 Axes>"
      ]
     },
     "metadata": {},
     "output_type": "display_data"
    }
   ],
   "source": [
    "plt.figure(figsize=(5,5))\n",
    "sns.heatmap(df.isnull(),cbar=False)"
   ]
  },
  {
   "cell_type": "code",
   "execution_count": 17,
   "id": "7e7ecf20",
   "metadata": {
    "execution": {
     "iopub.execute_input": "2024-09-13T22:36:36.269656Z",
     "iopub.status.busy": "2024-09-13T22:36:36.269189Z",
     "iopub.status.idle": "2024-09-13T22:36:36.277259Z",
     "shell.execute_reply": "2024-09-13T22:36:36.276054Z"
    },
    "id": "-jQv6q9SO0z7",
    "outputId": "c1703485-5580-46bb-bf79-b31ca90bbaee",
    "papermill": {
     "duration": 0.048944,
     "end_time": "2024-09-13T22:36:36.280110",
     "exception": false,
     "start_time": "2024-09-13T22:36:36.231166",
     "status": "completed"
    },
    "tags": []
   },
   "outputs": [
    {
     "data": {
      "text/plain": [
       "Index(['Survived', 'Pclass', 'Sex', 'Age', 'SibSp', 'Parch', 'Fare',\n",
       "       'Embarked'],\n",
       "      dtype='object')"
      ]
     },
     "execution_count": 17,
     "metadata": {},
     "output_type": "execute_result"
    }
   ],
   "source": [
    "cols=df.columns\n",
    "cols"
   ]
  },
  {
   "cell_type": "code",
   "execution_count": 18,
   "id": "f30c52c1",
   "metadata": {
    "execution": {
     "iopub.execute_input": "2024-09-13T22:36:36.377592Z",
     "iopub.status.busy": "2024-09-13T22:36:36.376492Z",
     "iopub.status.idle": "2024-09-13T22:36:36.396176Z",
     "shell.execute_reply": "2024-09-13T22:36:36.394666Z"
    },
    "id": "BOEktQV5O7zq",
    "outputId": "ecc82bfd-6670-497a-d1ac-2e07ed8567a7",
    "papermill": {
     "duration": 0.075234,
     "end_time": "2024-09-13T22:36:36.399928",
     "exception": false,
     "start_time": "2024-09-13T22:36:36.324694",
     "status": "completed"
    },
    "tags": []
   },
   "outputs": [
    {
     "name": "stdout",
     "output_type": "stream",
     "text": [
      "<class 'pandas.core.frame.DataFrame'>\n",
      "Index: 889 entries, 0 to 890\n",
      "Data columns (total 8 columns):\n",
      " #   Column    Non-Null Count  Dtype  \n",
      "---  ------    --------------  -----  \n",
      " 0   Survived  889 non-null    int64  \n",
      " 1   Pclass    889 non-null    int64  \n",
      " 2   Sex       889 non-null    int64  \n",
      " 3   Age       712 non-null    float64\n",
      " 4   SibSp     889 non-null    int64  \n",
      " 5   Parch     889 non-null    int64  \n",
      " 6   Fare      889 non-null    float64\n",
      " 7   Embarked  889 non-null    int64  \n",
      "dtypes: float64(2), int64(6)\n",
      "memory usage: 62.5 KB\n"
     ]
    }
   ],
   "source": [
    "df.info()"
   ]
  },
  {
   "cell_type": "code",
   "execution_count": 19,
   "id": "ed7867a1",
   "metadata": {
    "execution": {
     "iopub.execute_input": "2024-09-13T22:36:36.484286Z",
     "iopub.status.busy": "2024-09-13T22:36:36.483830Z",
     "iopub.status.idle": "2024-09-13T22:36:36.873342Z",
     "shell.execute_reply": "2024-09-13T22:36:36.871735Z"
    },
    "id": "C6rBFsCAKPWs",
    "outputId": "338ff821-4611-4dce-a45a-7e9d06d61f8a",
    "papermill": {
     "duration": 0.432592,
     "end_time": "2024-09-13T22:36:36.878222",
     "exception": false,
     "start_time": "2024-09-13T22:36:36.445630",
     "status": "completed"
    },
    "tags": []
   },
   "outputs": [
    {
     "data": {
      "text/html": [
       "<div>\n",
       "<style scoped>\n",
       "    .dataframe tbody tr th:only-of-type {\n",
       "        vertical-align: middle;\n",
       "    }\n",
       "\n",
       "    .dataframe tbody tr th {\n",
       "        vertical-align: top;\n",
       "    }\n",
       "\n",
       "    .dataframe thead th {\n",
       "        text-align: right;\n",
       "    }\n",
       "</style>\n",
       "<table border=\"1\" class=\"dataframe\">\n",
       "  <thead>\n",
       "    <tr style=\"text-align: right;\">\n",
       "      <th></th>\n",
       "      <th>Survived</th>\n",
       "      <th>Pclass</th>\n",
       "      <th>Sex</th>\n",
       "      <th>Age</th>\n",
       "      <th>SibSp</th>\n",
       "      <th>Parch</th>\n",
       "      <th>Fare</th>\n",
       "      <th>Embarked</th>\n",
       "    </tr>\n",
       "  </thead>\n",
       "  <tbody>\n",
       "    <tr>\n",
       "      <th>0</th>\n",
       "      <td>0.0</td>\n",
       "      <td>3.0</td>\n",
       "      <td>0.0</td>\n",
       "      <td>22.0</td>\n",
       "      <td>1.0</td>\n",
       "      <td>0.0</td>\n",
       "      <td>7.2500</td>\n",
       "      <td>2.0</td>\n",
       "    </tr>\n",
       "    <tr>\n",
       "      <th>1</th>\n",
       "      <td>1.0</td>\n",
       "      <td>1.0</td>\n",
       "      <td>1.0</td>\n",
       "      <td>38.0</td>\n",
       "      <td>1.0</td>\n",
       "      <td>0.0</td>\n",
       "      <td>71.2833</td>\n",
       "      <td>0.0</td>\n",
       "    </tr>\n",
       "    <tr>\n",
       "      <th>2</th>\n",
       "      <td>1.0</td>\n",
       "      <td>3.0</td>\n",
       "      <td>1.0</td>\n",
       "      <td>26.0</td>\n",
       "      <td>0.0</td>\n",
       "      <td>0.0</td>\n",
       "      <td>7.9250</td>\n",
       "      <td>2.0</td>\n",
       "    </tr>\n",
       "    <tr>\n",
       "      <th>3</th>\n",
       "      <td>1.0</td>\n",
       "      <td>1.0</td>\n",
       "      <td>1.0</td>\n",
       "      <td>35.0</td>\n",
       "      <td>1.0</td>\n",
       "      <td>0.0</td>\n",
       "      <td>53.1000</td>\n",
       "      <td>2.0</td>\n",
       "    </tr>\n",
       "    <tr>\n",
       "      <th>4</th>\n",
       "      <td>0.0</td>\n",
       "      <td>3.0</td>\n",
       "      <td>0.0</td>\n",
       "      <td>35.0</td>\n",
       "      <td>0.0</td>\n",
       "      <td>0.0</td>\n",
       "      <td>8.0500</td>\n",
       "      <td>2.0</td>\n",
       "    </tr>\n",
       "  </tbody>\n",
       "</table>\n",
       "</div>"
      ],
      "text/plain": [
       "   Survived  Pclass  Sex   Age  SibSp  Parch     Fare  Embarked\n",
       "0       0.0     3.0  0.0  22.0    1.0    0.0   7.2500       2.0\n",
       "1       1.0     1.0  1.0  38.0    1.0    0.0  71.2833       0.0\n",
       "2       1.0     3.0  1.0  26.0    0.0    0.0   7.9250       2.0\n",
       "3       1.0     1.0  1.0  35.0    1.0    0.0  53.1000       2.0\n",
       "4       0.0     3.0  0.0  35.0    0.0    0.0   8.0500       2.0"
      ]
     },
     "execution_count": 19,
     "metadata": {},
     "output_type": "execute_result"
    }
   ],
   "source": [
    "from sklearn.impute import KNNImputer\n",
    "knn=KNNImputer(n_neighbors=5)\n",
    "df=knn.fit_transform(df)\n",
    "df=pd.DataFrame(df,columns=cols)\n",
    "df.head()"
   ]
  },
  {
   "cell_type": "code",
   "execution_count": 20,
   "id": "aba31086",
   "metadata": {
    "execution": {
     "iopub.execute_input": "2024-09-13T22:36:36.987822Z",
     "iopub.status.busy": "2024-09-13T22:36:36.987396Z",
     "iopub.status.idle": "2024-09-13T22:36:36.996384Z",
     "shell.execute_reply": "2024-09-13T22:36:36.995194Z"
    },
    "id": "iI1GvYoxbTYr",
    "outputId": "9318db18-5c62-4b1c-9523-8761bb0612b0",
    "papermill": {
     "duration": 0.049767,
     "end_time": "2024-09-13T22:36:36.999292",
     "exception": false,
     "start_time": "2024-09-13T22:36:36.949525",
     "status": "completed"
    },
    "tags": []
   },
   "outputs": [
    {
     "data": {
      "text/plain": [
       "Survived    0\n",
       "Pclass      0\n",
       "Sex         0\n",
       "Age         0\n",
       "SibSp       0\n",
       "Parch       0\n",
       "Fare        0\n",
       "Embarked    0\n",
       "dtype: int64"
      ]
     },
     "execution_count": 20,
     "metadata": {},
     "output_type": "execute_result"
    }
   ],
   "source": [
    "df.isna().sum()"
   ]
  },
  {
   "cell_type": "code",
   "execution_count": 21,
   "id": "30515bec",
   "metadata": {
    "execution": {
     "iopub.execute_input": "2024-09-13T22:36:37.074769Z",
     "iopub.status.busy": "2024-09-13T22:36:37.074318Z",
     "iopub.status.idle": "2024-09-13T22:36:37.085614Z",
     "shell.execute_reply": "2024-09-13T22:36:37.084448Z"
    },
    "id": "WyRY4wxGP6W1",
    "outputId": "e3cb6dd7-c6b7-4afd-8e9c-042f1f020080",
    "papermill": {
     "duration": 0.052012,
     "end_time": "2024-09-13T22:36:37.088343",
     "exception": false,
     "start_time": "2024-09-13T22:36:37.036331",
     "status": "completed"
    },
    "tags": []
   },
   "outputs": [
    {
     "data": {
      "text/plain": [
       "Pclass\n",
       "3.0    491\n",
       "1.0    214\n",
       "2.0    184\n",
       "Name: count, dtype: int64"
      ]
     },
     "execution_count": 21,
     "metadata": {},
     "output_type": "execute_result"
    }
   ],
   "source": [
    "df.Pclass.value_counts()"
   ]
  },
  {
   "cell_type": "code",
   "execution_count": 22,
   "id": "e98f74c4",
   "metadata": {
    "execution": {
     "iopub.execute_input": "2024-09-13T22:36:37.163633Z",
     "iopub.status.busy": "2024-09-13T22:36:37.163129Z",
     "iopub.status.idle": "2024-09-13T22:36:37.667418Z",
     "shell.execute_reply": "2024-09-13T22:36:37.666083Z"
    },
    "id": "2Hx7W_USdgY1",
    "outputId": "12bc41e5-3575-4211-c10c-9c033226b746",
    "papermill": {
     "duration": 0.544725,
     "end_time": "2024-09-13T22:36:37.670182",
     "exception": false,
     "start_time": "2024-09-13T22:36:37.125457",
     "status": "completed"
    },
    "tags": []
   },
   "outputs": [
    {
     "data": {
      "text/plain": [
       "<Axes: >"
      ]
     },
     "execution_count": 22,
     "metadata": {},
     "output_type": "execute_result"
    },
    {
     "data": {
      "image/png": "[encoded data removed]",
      "text/plain": [
       "<Figure size 1200x700 with 2 Axes>"
      ]
     },
     "metadata": {},
     "output_type": "display_data"
    }
   ],
   "source": [
    "plt.figure(figsize=(12,7))\n",
    "corr=df.corr()\n",
    "sns.heatmap(corr,mask=corr.abs()<0.2,annot=True,fmt='.2f')"
   ]
  },
  {
   "cell_type": "code",
   "execution_count": 23,
   "id": "c7b05c2c",
   "metadata": {
    "execution": {
     "iopub.execute_input": "2024-09-13T22:36:37.747226Z",
     "iopub.status.busy": "2024-09-13T22:36:37.746674Z",
     "iopub.status.idle": "2024-09-13T22:36:38.986172Z",
     "shell.execute_reply": "2024-09-13T22:36:38.985014Z"
    },
    "id": "T-NW1YU2eBZl",
    "outputId": "c2c161ce-91fe-4785-f7c3-94a701fced62",
    "papermill": {
     "duration": 1.28095,
     "end_time": "2024-09-13T22:36:38.988882",
     "exception": false,
     "start_time": "2024-09-13T22:36:37.707932",
     "status": "completed"
    },
    "tags": []
   },
   "outputs": [
    {
     "data": {
      "image/png": "[encoded data removed]",
      "text/plain": [
       "<Figure size 1000x700 with 4 Axes>"
      ]
     },
     "metadata": {},
     "output_type": "display_data"
    }
   ],
   "source": [
    "col=['Age','SibSp','Parch','Fare']\n",
    "\n",
    "plt.figure(figsize=(10,7))\n",
    "for i,j in enumerate(col):\n",
    "    plt.subplot(2,2,i+1)\n",
    "    sns.histplot(df[j])\n",
    "plt.show()"
   ]
  },
  {
   "cell_type": "code",
   "execution_count": 24,
   "id": "99339a96",
   "metadata": {
    "execution": {
     "iopub.execute_input": "2024-09-13T22:36:39.067797Z",
     "iopub.status.busy": "2024-09-13T22:36:39.067336Z",
     "iopub.status.idle": "2024-09-13T22:36:39.092341Z",
     "shell.execute_reply": "2024-09-13T22:36:39.091148Z"
    },
    "id": "ESRWSRXUSif6",
    "outputId": "e5b8f6f8-b6a1-445b-c017-f878e7f71faa",
    "papermill": {
     "duration": 0.067683,
     "end_time": "2024-09-13T22:36:39.094804",
     "exception": false,
     "start_time": "2024-09-13T22:36:39.027121",
     "status": "completed"
    },
    "tags": []
   },
   "outputs": [
    {
     "data": {
      "text/html": [
       "<div>\n",
       "<style scoped>\n",
       "    .dataframe tbody tr th:only-of-type {\n",
       "        vertical-align: middle;\n",
       "    }\n",
       "\n",
       "    .dataframe tbody tr th {\n",
       "        vertical-align: top;\n",
       "    }\n",
       "\n",
       "    .dataframe thead th {\n",
       "        text-align: right;\n",
       "    }\n",
       "</style>\n",
       "<table border=\"1\" class=\"dataframe\">\n",
       "  <thead>\n",
       "    <tr style=\"text-align: right;\">\n",
       "      <th></th>\n",
       "      <th>count</th>\n",
       "      <th>mean</th>\n",
       "      <th>std</th>\n",
       "      <th>min</th>\n",
       "      <th>25%</th>\n",
       "      <th>50%</th>\n",
       "      <th>75%</th>\n",
       "      <th>max</th>\n",
       "    </tr>\n",
       "  </thead>\n",
       "  <tbody>\n",
       "    <tr>\n",
       "      <th>Age</th>\n",
       "      <td>889.0</td>\n",
       "      <td>29.969127</td>\n",
       "      <td>13.616259</td>\n",
       "      <td>0.42</td>\n",
       "      <td>21.0000</td>\n",
       "      <td>28.8000</td>\n",
       "      <td>38.0</td>\n",
       "      <td>80.0000</td>\n",
       "    </tr>\n",
       "    <tr>\n",
       "      <th>Fare</th>\n",
       "      <td>889.0</td>\n",
       "      <td>32.096681</td>\n",
       "      <td>49.697504</td>\n",
       "      <td>0.00</td>\n",
       "      <td>7.8958</td>\n",
       "      <td>14.4542</td>\n",
       "      <td>31.0</td>\n",
       "      <td>512.3292</td>\n",
       "    </tr>\n",
       "  </tbody>\n",
       "</table>\n",
       "</div>"
      ],
      "text/plain": [
       "      count       mean        std   min      25%      50%   75%       max\n",
       "Age   889.0  29.969127  13.616259  0.42  21.0000  28.8000  38.0   80.0000\n",
       "Fare  889.0  32.096681  49.697504  0.00   7.8958  14.4542  31.0  512.3292"
      ]
     },
     "execution_count": 24,
     "metadata": {},
     "output_type": "execute_result"
    }
   ],
   "source": [
    "df[['Age','Fare']].describe().T"
   ]
  },
  {
   "cell_type": "code",
   "execution_count": 25,
   "id": "52560f04",
   "metadata": {
    "execution": {
     "iopub.execute_input": "2024-09-13T22:36:39.173282Z",
     "iopub.status.busy": "2024-09-13T22:36:39.172806Z",
     "iopub.status.idle": "2024-09-13T22:36:39.183290Z",
     "shell.execute_reply": "2024-09-13T22:36:39.181877Z"
    },
    "id": "HZxp_zVVVJPb",
    "outputId": "8dd1360c-92ad-4cd0-abb9-20be491cc355",
    "papermill": {
     "duration": 0.052812,
     "end_time": "2024-09-13T22:36:39.185979",
     "exception": false,
     "start_time": "2024-09-13T22:36:39.133167",
     "status": "completed"
    },
    "tags": []
   },
   "outputs": [
    {
     "data": {
      "text/plain": [
       "(886, 8)"
      ]
     },
     "execution_count": 25,
     "metadata": {},
     "output_type": "execute_result"
    }
   ],
   "source": [
    "#Handle outlier df[Fare]\n",
    "df=df[df['Fare']<300]\n",
    "df.shape"
   ]
  },
  {
   "cell_type": "code",
   "execution_count": 26,
   "id": "2d849739",
   "metadata": {
    "execution": {
     "iopub.execute_input": "2024-09-13T22:36:39.267596Z",
     "iopub.status.busy": "2024-09-13T22:36:39.267118Z",
     "iopub.status.idle": "2024-09-13T22:36:39.292485Z",
     "shell.execute_reply": "2024-09-13T22:36:39.290876Z"
    },
    "id": "9-XUGdfPki_u",
    "outputId": "0975bd8e-b101-4eee-af8b-789e5e46363c",
    "papermill": {
     "duration": 0.068352,
     "end_time": "2024-09-13T22:36:39.295435",
     "exception": false,
     "start_time": "2024-09-13T22:36:39.227083",
     "status": "completed"
    },
    "tags": []
   },
   "outputs": [
    {
     "data": {
      "text/html": [
       "<div>\n",
       "<style scoped>\n",
       "    .dataframe tbody tr th:only-of-type {\n",
       "        vertical-align: middle;\n",
       "    }\n",
       "\n",
       "    .dataframe tbody tr th {\n",
       "        vertical-align: top;\n",
       "    }\n",
       "\n",
       "    .dataframe thead th {\n",
       "        text-align: right;\n",
       "    }\n",
       "</style>\n",
       "<table border=\"1\" class=\"dataframe\">\n",
       "  <thead>\n",
       "    <tr style=\"text-align: right;\">\n",
       "      <th></th>\n",
       "      <th>Survived</th>\n",
       "      <th>Pclass</th>\n",
       "      <th>Sex</th>\n",
       "      <th>Age</th>\n",
       "      <th>SibSp</th>\n",
       "      <th>Parch</th>\n",
       "      <th>Fare</th>\n",
       "      <th>Embarked</th>\n",
       "    </tr>\n",
       "  </thead>\n",
       "  <tbody>\n",
       "    <tr>\n",
       "      <th>0</th>\n",
       "      <td>0.0</td>\n",
       "      <td>3.0</td>\n",
       "      <td>0.0</td>\n",
       "      <td>2</td>\n",
       "      <td>1.0</td>\n",
       "      <td>0.0</td>\n",
       "      <td>7.2500</td>\n",
       "      <td>2.0</td>\n",
       "    </tr>\n",
       "    <tr>\n",
       "      <th>1</th>\n",
       "      <td>1.0</td>\n",
       "      <td>1.0</td>\n",
       "      <td>1.0</td>\n",
       "      <td>5</td>\n",
       "      <td>1.0</td>\n",
       "      <td>0.0</td>\n",
       "      <td>71.2833</td>\n",
       "      <td>0.0</td>\n",
       "    </tr>\n",
       "    <tr>\n",
       "      <th>2</th>\n",
       "      <td>1.0</td>\n",
       "      <td>3.0</td>\n",
       "      <td>1.0</td>\n",
       "      <td>3</td>\n",
       "      <td>0.0</td>\n",
       "      <td>0.0</td>\n",
       "      <td>7.9250</td>\n",
       "      <td>2.0</td>\n",
       "    </tr>\n",
       "    <tr>\n",
       "      <th>3</th>\n",
       "      <td>1.0</td>\n",
       "      <td>1.0</td>\n",
       "      <td>1.0</td>\n",
       "      <td>5</td>\n",
       "      <td>1.0</td>\n",
       "      <td>0.0</td>\n",
       "      <td>53.1000</td>\n",
       "      <td>2.0</td>\n",
       "    </tr>\n",
       "    <tr>\n",
       "      <th>4</th>\n",
       "      <td>0.0</td>\n",
       "      <td>3.0</td>\n",
       "      <td>0.0</td>\n",
       "      <td>5</td>\n",
       "      <td>0.0</td>\n",
       "      <td>0.0</td>\n",
       "      <td>8.0500</td>\n",
       "      <td>2.0</td>\n",
       "    </tr>\n",
       "  </tbody>\n",
       "</table>\n",
       "</div>"
      ],
      "text/plain": [
       "   Survived  Pclass  Sex  Age  SibSp  Parch     Fare  Embarked\n",
       "0       0.0     3.0  0.0    2    1.0    0.0   7.2500       2.0\n",
       "1       1.0     1.0  1.0    5    1.0    0.0  71.2833       0.0\n",
       "2       1.0     3.0  1.0    3    0.0    0.0   7.9250       2.0\n",
       "3       1.0     1.0  1.0    5    1.0    0.0  53.1000       2.0\n",
       "4       0.0     3.0  0.0    5    0.0    0.0   8.0500       2.0"
      ]
     },
     "execution_count": 26,
     "metadata": {},
     "output_type": "execute_result"
    }
   ],
   "source": [
    "df.Age=pd.qcut(df.Age, 8, labels=False)\n",
    "df.head()"
   ]
  },
  {
   "cell_type": "code",
   "execution_count": 27,
   "id": "25a2a3ab",
   "metadata": {
    "execution": {
     "iopub.execute_input": "2024-09-13T22:36:39.377809Z",
     "iopub.status.busy": "2024-09-13T22:36:39.377363Z",
     "iopub.status.idle": "2024-09-13T22:36:39.389550Z",
     "shell.execute_reply": "2024-09-13T22:36:39.388295Z"
    },
    "id": "yDPd8GICSYvK",
    "outputId": "3c7f91c8-c910-4b9f-b813-6dbcc74a66e1",
    "papermill": {
     "duration": 0.055485,
     "end_time": "2024-09-13T22:36:39.392434",
     "exception": false,
     "start_time": "2024-09-13T22:36:39.336949",
     "status": "completed"
    },
    "tags": []
   },
   "outputs": [
    {
     "data": {
      "text/plain": [
       "Age\n",
       "2    117\n",
       "5    117\n",
       "4    114\n",
       "0    113\n",
       "1    113\n",
       "7    106\n",
       "6    106\n",
       "3    100\n",
       "Name: count, dtype: int64"
      ]
     },
     "execution_count": 27,
     "metadata": {},
     "output_type": "execute_result"
    }
   ],
   "source": [
    "df.Age.value_counts()"
   ]
  },
  {
   "cell_type": "code",
   "execution_count": 28,
   "id": "c39b8914",
   "metadata": {
    "execution": {
     "iopub.execute_input": "2024-09-13T22:36:39.474643Z",
     "iopub.status.busy": "2024-09-13T22:36:39.474149Z",
     "iopub.status.idle": "2024-09-13T22:36:39.481939Z",
     "shell.execute_reply": "2024-09-13T22:36:39.480801Z"
    },
    "id": "2FBGlq9GStzP",
    "outputId": "50a50a9e-a8f8-4616-d174-2da6ff4e1792",
    "papermill": {
     "duration": 0.051786,
     "end_time": "2024-09-13T22:36:39.484533",
     "exception": false,
     "start_time": "2024-09-13T22:36:39.432747",
     "status": "completed"
    },
    "tags": []
   },
   "outputs": [
    {
     "data": {
      "text/plain": [
       "Index(['Survived', 'Pclass', 'Sex', 'Age', 'SibSp', 'Parch', 'Fare',\n",
       "       'Embarked'],\n",
       "      dtype='object')"
      ]
     },
     "execution_count": 28,
     "metadata": {},
     "output_type": "execute_result"
    }
   ],
   "source": [
    "df.columns"
   ]
  },
  {
   "cell_type": "code",
   "execution_count": 29,
   "id": "c89643bf",
   "metadata": {
    "execution": {
     "iopub.execute_input": "2024-09-13T22:36:39.566160Z",
     "iopub.status.busy": "2024-09-13T22:36:39.565053Z",
     "iopub.status.idle": "2024-09-13T22:36:39.574189Z",
     "shell.execute_reply": "2024-09-13T22:36:39.572735Z"
    },
    "id": "3LQQM4D8XoQF",
    "outputId": "e2e81af6-a6ab-4cb6-fdee-0b2c5125ab3a",
    "papermill": {
     "duration": 0.053629,
     "end_time": "2024-09-13T22:36:39.577213",
     "exception": false,
     "start_time": "2024-09-13T22:36:39.523584",
     "status": "completed"
    },
    "tags": []
   },
   "outputs": [
    {
     "data": {
      "text/plain": [
       "array([0., 1.])"
      ]
     },
     "execution_count": 29,
     "metadata": {},
     "output_type": "execute_result"
    }
   ],
   "source": [
    "df.Sex.unique()"
   ]
  },
  {
   "cell_type": "code",
   "execution_count": 30,
   "id": "7904296e",
   "metadata": {
    "execution": {
     "iopub.execute_input": "2024-09-13T22:36:39.660161Z",
     "iopub.status.busy": "2024-09-13T22:36:39.658771Z",
     "iopub.status.idle": "2024-09-13T22:36:39.979514Z",
     "shell.execute_reply": "2024-09-13T22:36:39.978158Z"
    },
    "id": "UEvnjyOtT2qI",
    "outputId": "4a944393-1b17-424a-eb9a-f8c5ab1ae631",
    "papermill": {
     "duration": 0.365918,
     "end_time": "2024-09-13T22:36:39.983103",
     "exception": false,
     "start_time": "2024-09-13T22:36:39.617185",
     "status": "completed"
    },
    "tags": []
   },
   "outputs": [
    {
     "data": {
      "image/png": "[encoded data removed]",
      "text/plain": [
       "<Figure size 640x480 with 1 Axes>"
      ]
     },
     "metadata": {},
     "output_type": "display_data"
    }
   ],
   "source": [
    "sns.countplot(x='Survived', data=df, palette=['blue','pink'],hue='Sex',alpha=.8)\n",
    "\n",
    "for p in plt.gca().patches:\n",
    "    plt.text(p.get_x() + p.get_width() / 2, p.get_height() + 0.5, int(p.get_height()), ha='center', va='center')\n",
    "\n",
    "plt.xlabel('Survived')\n",
    "plt.ylabel('Count')\n",
    "plt.title('Survivors by gender')\n",
    "plt.legend(['Male','Female'])\n",
    "plt.show()"
   ]
  },
  {
   "cell_type": "code",
   "execution_count": 31,
   "id": "fcb9b99b",
   "metadata": {
    "execution": {
     "iopub.execute_input": "2024-09-13T22:36:40.072965Z",
     "iopub.status.busy": "2024-09-13T22:36:40.072101Z",
     "iopub.status.idle": "2024-09-13T22:36:40.085739Z",
     "shell.execute_reply": "2024-09-13T22:36:40.084561Z"
    },
    "id": "4yUGqIYIX__h",
    "outputId": "98697d87-0357-4335-de58-41a3aabde54b",
    "papermill": {
     "duration": 0.060277,
     "end_time": "2024-09-13T22:36:40.090155",
     "exception": false,
     "start_time": "2024-09-13T22:36:40.029878",
     "status": "completed"
    },
    "tags": []
   },
   "outputs": [
    {
     "data": {
      "text/plain": [
       "array([0., 1.])"
      ]
     },
     "execution_count": 31,
     "metadata": {},
     "output_type": "execute_result"
    }
   ],
   "source": [
    "df.Survived.unique()"
   ]
  },
  {
   "cell_type": "code",
   "execution_count": 32,
   "id": "b20a33a3",
   "metadata": {
    "execution": {
     "iopub.execute_input": "2024-09-13T22:36:40.176853Z",
     "iopub.status.busy": "2024-09-13T22:36:40.175825Z",
     "iopub.status.idle": "2024-09-13T22:36:40.512553Z",
     "shell.execute_reply": "2024-09-13T22:36:40.511157Z"
    },
    "id": "F4WjMOQFT2wC",
    "outputId": "5cc8a4e7-0bc1-49dd-c776-3092360ed03e",
    "papermill": {
     "duration": 0.383816,
     "end_time": "2024-09-13T22:36:40.515503",
     "exception": false,
     "start_time": "2024-09-13T22:36:40.131687",
     "status": "completed"
    },
    "tags": []
   },
   "outputs": [
    {
     "data": {
      "image/png": "[encoded data removed]",
      "text/plain": [
       "<Figure size 640x480 with 1 Axes>"
      ]
     },
     "metadata": {},
     "output_type": "display_data"
    }
   ],
   "source": [
    "sns.countplot(x='Pclass', data=df,hue='Survived',palette=['r','g'],alpha=.8)\n",
    "\n",
    "for p in plt.gca().patches:\n",
    "    plt.text(p.get_x() + p.get_width() / 2, p.get_height() + 0.5, int(p.get_height()), ha='center', va='center')\n",
    "\n",
    "plt.xlabel('Pclass')\n",
    "plt.ylabel('Count')\n",
    "plt.title('Survivors by Pclass')\n",
    "plt.legend(['Dead','Survived'])\n",
    "plt.show()"
   ]
  },
  {
   "cell_type": "code",
   "execution_count": 33,
   "id": "8ed48cee",
   "metadata": {
    "execution": {
     "iopub.execute_input": "2024-09-13T22:36:40.600521Z",
     "iopub.status.busy": "2024-09-13T22:36:40.600076Z",
     "iopub.status.idle": "2024-09-13T22:36:40.951119Z",
     "shell.execute_reply": "2024-09-13T22:36:40.949769Z"
    },
    "id": "XDpA-iKYQmGR",
    "outputId": "32cd880b-4c1c-408e-8dfb-08317ff122fa",
    "papermill": {
     "duration": 0.396157,
     "end_time": "2024-09-13T22:36:40.954540",
     "exception": false,
     "start_time": "2024-09-13T22:36:40.558383",
     "status": "completed"
    },
    "tags": []
   },
   "outputs": [
    {
     "data": {
      "image/png": "[encoded data removed]",
      "text/plain": [
       "<Figure size 640x480 with 1 Axes>"
      ]
     },
     "metadata": {},
     "output_type": "display_data"
    }
   ],
   "source": [
    "sns.countplot(x='Embarked', data=df,hue='Survived',palette=['r','g'],alpha=.8)\n",
    "\n",
    "for p in plt.gca().patches:\n",
    "    plt.text(p.get_x() + p.get_width() / 2, p.get_height() + 0.5, int(p.get_height()), ha='center', va='center')\n",
    "\n",
    "plt.xlabel('Embarked')\n",
    "plt.ylabel('Count')\n",
    "plt.title('Survivors by Embarked')\n",
    "plt.legend(['Dead','Survived'])\n",
    "plt.show()"
   ]
  },
  {
   "cell_type": "code",
   "execution_count": 34,
   "id": "07ba1893",
   "metadata": {
    "execution": {
     "iopub.execute_input": "2024-09-13T22:36:41.039951Z",
     "iopub.status.busy": "2024-09-13T22:36:41.039236Z",
     "iopub.status.idle": "2024-09-13T22:36:41.491192Z",
     "shell.execute_reply": "2024-09-13T22:36:41.489666Z"
    },
    "id": "oRctqWW6bSAq",
    "outputId": "b9985a93-464a-4b3b-ea28-05490b7ca681",
    "papermill": {
     "duration": 0.49757,
     "end_time": "2024-09-13T22:36:41.494635",
     "exception": false,
     "start_time": "2024-09-13T22:36:40.997065",
     "status": "completed"
    },
    "tags": []
   },
   "outputs": [
    {
     "data": {
      "image/png": "[encoded data removed]",
      "text/plain": [
       "<Figure size 1200x700 with 1 Axes>"
      ]
     },
     "metadata": {},
     "output_type": "display_data"
    }
   ],
   "source": [
    "plt.figure(figsize=(12,7))\n",
    "sns.countplot(x='Age', data=df,hue='Survived',palette=['r','g'],alpha=.8)\n",
    "\n",
    "for p in plt.gca().patches:\n",
    "    plt.text(p.get_x() + p.get_width() / 2, p.get_height() + 0.5, int(p.get_height()), ha='center', va='center')\n",
    "\n",
    "plt.xlabel('Age')\n",
    "plt.ylabel('Count')\n",
    "plt.title('Survivors by Age')\n",
    "plt.legend(['Dead','Survived'])\n",
    "plt.show()"
   ]
  },
  {
   "cell_type": "code",
   "execution_count": 35,
   "id": "cf7d5a4f",
   "metadata": {
    "execution": {
     "iopub.execute_input": "2024-09-13T22:36:41.585813Z",
     "iopub.status.busy": "2024-09-13T22:36:41.585370Z",
     "iopub.status.idle": "2024-09-13T22:36:41.596930Z",
     "shell.execute_reply": "2024-09-13T22:36:41.595549Z"
    },
    "id": "1WvcwhRPc-wH",
    "outputId": "6a864348-db5a-4097-f547-666401542429",
    "papermill": {
     "duration": 0.060924,
     "end_time": "2024-09-13T22:36:41.600084",
     "exception": false,
     "start_time": "2024-09-13T22:36:41.539160",
     "status": "completed"
    },
    "tags": []
   },
   "outputs": [
    {
     "data": {
      "text/plain": [
       "Age\n",
       "0    61\n",
       "2    47\n",
       "5    44\n",
       "1    43\n",
       "4    42\n",
       "7    38\n",
       "6    35\n",
       "3    27\n",
       "Name: count, dtype: int64"
      ]
     },
     "execution_count": 35,
     "metadata": {},
     "output_type": "execute_result"
    }
   ],
   "source": [
    "#num of survived by Age\n",
    "df[df.Survived==1].Age.value_counts()"
   ]
  },
  {
   "cell_type": "code",
   "execution_count": 36,
   "id": "d16f5071",
   "metadata": {
    "execution": {
     "iopub.execute_input": "2024-09-13T22:36:41.688157Z",
     "iopub.status.busy": "2024-09-13T22:36:41.687670Z",
     "iopub.status.idle": "2024-09-13T22:36:41.699344Z",
     "shell.execute_reply": "2024-09-13T22:36:41.697932Z"
    },
    "id": "5NtgyZOAdTdF",
    "outputId": "06cf8761-7245-4001-9eb4-6e4e740f40b9",
    "papermill": {
     "duration": 0.060047,
     "end_time": "2024-09-13T22:36:41.701986",
     "exception": false,
     "start_time": "2024-09-13T22:36:41.641939",
     "status": "completed"
    },
    "tags": []
   },
   "outputs": [
    {
     "data": {
      "text/plain": [
       "Age\n",
       "5    73\n",
       "3    73\n",
       "4    72\n",
       "6    71\n",
       "2    70\n",
       "1    70\n",
       "7    68\n",
       "0    52\n",
       "Name: count, dtype: int64"
      ]
     },
     "execution_count": 36,
     "metadata": {},
     "output_type": "execute_result"
    }
   ],
   "source": [
    "#num of Deed by Age\n",
    "df[df.Survived==0].Age.value_counts()"
   ]
  },
  {
   "cell_type": "markdown",
   "id": "f97f1e05",
   "metadata": {
    "id": "sqD38bF9Iuk2",
    "papermill": {
     "duration": 0.041928,
     "end_time": "2024-09-13T22:36:41.788389",
     "exception": false,
     "start_time": "2024-09-13T22:36:41.746461",
     "status": "completed"
    },
    "tags": []
   },
   "source": [
    "#Data Modeling"
   ]
  },
  {
   "cell_type": "code",
   "execution_count": 37,
   "id": "9bc797b7",
   "metadata": {
    "execution": {
     "iopub.execute_input": "2024-09-13T22:36:41.881717Z",
     "iopub.status.busy": "2024-09-13T22:36:41.881292Z",
     "iopub.status.idle": "2024-09-13T22:36:42.222920Z",
     "shell.execute_reply": "2024-09-13T22:36:42.221633Z"
    },
    "id": "NjbvT0b0cx-0",
    "papermill": {
     "duration": 0.394243,
     "end_time": "2024-09-13T22:36:42.225989",
     "exception": false,
     "start_time": "2024-09-13T22:36:41.831746",
     "status": "completed"
    },
    "tags": []
   },
   "outputs": [],
   "source": [
    "from sklearn.linear_model import LogisticRegression\n",
    "from sklearn.tree import DecisionTreeClassifier\n",
    "from sklearn.ensemble import RandomForestClassifier,GradientBoostingClassifier,AdaBoostClassifier,VotingClassifier,BaggingClassifier\n",
    "from sklearn.svm import SVC,LinearSVC\n",
    "from sklearn.neighbors import KNeighborsClassifier\n",
    "from sklearn.naive_bayes import GaussianNB\n",
    "from xgboost import XGBClassifier\n",
    "from sklearn.ensemble import GradientBoostingClassifier,AdaBoostClassifier,StackingClassifier\n",
    "from sklearn.pipeline import make_pipeline\n",
    "from sklearn.model_selection import train_test_split,GridSearchCV\n",
    "from sklearn.preprocessing import StandardScaler\n",
    "from sklearn.metrics import accuracy_score,confusion_matrix,f1_score,precision_score,recall_score"
   ]
  },
  {
   "cell_type": "code",
   "execution_count": 38,
   "id": "13ab00d1",
   "metadata": {
    "execution": {
     "iopub.execute_input": "2024-09-13T22:36:42.315221Z",
     "iopub.status.busy": "2024-09-13T22:36:42.314384Z",
     "iopub.status.idle": "2024-09-13T22:36:42.321520Z",
     "shell.execute_reply": "2024-09-13T22:36:42.320289Z"
    },
    "id": "tudLsoFanFdQ",
    "papermill": {
     "duration": 0.053871,
     "end_time": "2024-09-13T22:36:42.324405",
     "exception": false,
     "start_time": "2024-09-13T22:36:42.270534",
     "status": "completed"
    },
    "tags": []
   },
   "outputs": [],
   "source": [
    "x=df.drop('Survived',axis=1)\n",
    "y=df['Survived']"
   ]
  },
  {
   "cell_type": "code",
   "execution_count": 39,
   "id": "1e371b7b",
   "metadata": {
    "execution": {
     "iopub.execute_input": "2024-09-13T22:36:42.410806Z",
     "iopub.status.busy": "2024-09-13T22:36:42.410343Z",
     "iopub.status.idle": "2024-09-13T22:36:42.420806Z",
     "shell.execute_reply": "2024-09-13T22:36:42.419331Z"
    },
    "id": "F-yRQcHCmrnU",
    "outputId": "11c91815-cbca-4006-bed6-013191137624",
    "papermill": {
     "duration": 0.057517,
     "end_time": "2024-09-13T22:36:42.423995",
     "exception": false,
     "start_time": "2024-09-13T22:36:42.366478",
     "status": "completed"
    },
    "tags": []
   },
   "outputs": [
    {
     "data": {
      "text/plain": [
       "Survived\n",
       "0.0    549\n",
       "1.0    337\n",
       "Name: count, dtype: int64"
      ]
     },
     "execution_count": 39,
     "metadata": {},
     "output_type": "execute_result"
    }
   ],
   "source": [
    "y.value_counts()#unbalance\n"
   ]
  },
  {
   "cell_type": "code",
   "execution_count": 40,
   "id": "0c566550",
   "metadata": {
    "execution": {
     "iopub.execute_input": "2024-09-13T22:36:42.512667Z",
     "iopub.status.busy": "2024-09-13T22:36:42.512234Z",
     "iopub.status.idle": "2024-09-13T22:36:42.705831Z",
     "shell.execute_reply": "2024-09-13T22:36:42.704609Z"
    },
    "id": "Voz2Hq6Enqew",
    "outputId": "3fc5190f-d305-4134-b593-b711e930522a",
    "papermill": {
     "duration": 0.241606,
     "end_time": "2024-09-13T22:36:42.708754",
     "exception": false,
     "start_time": "2024-09-13T22:36:42.467148",
     "status": "completed"
    },
    "tags": []
   },
   "outputs": [
    {
     "name": "stdout",
     "output_type": "stream",
     "text": [
      "Counter({0.0: 549, 1.0: 549})\n"
     ]
    },
    {
     "data": {
      "text/plain": [
       "((1098, 7), (1098,))"
      ]
     },
     "execution_count": 40,
     "metadata": {},
     "output_type": "execute_result"
    }
   ],
   "source": [
    "# hundel unbalance data\n",
    "from imblearn.over_sampling import SMOTE\n",
    "from collections import Counter\n",
    "smote = SMOTE(random_state=42)\n",
    "x_res, y_res = smote.fit_resample(x,y)\n",
    "print(Counter(y_res))\n",
    "x_res.shape,y_res.shape"
   ]
  },
  {
   "cell_type": "code",
   "execution_count": 41,
   "id": "33e6bbab",
   "metadata": {
    "execution": {
     "iopub.execute_input": "2024-09-13T22:36:42.796339Z",
     "iopub.status.busy": "2024-09-13T22:36:42.794860Z",
     "iopub.status.idle": "2024-09-13T22:36:42.807387Z",
     "shell.execute_reply": "2024-09-13T22:36:42.806160Z"
    },
    "id": "4d_DPTDHhyTx",
    "papermill": {
     "duration": 0.059438,
     "end_time": "2024-09-13T22:36:42.810345",
     "exception": false,
     "start_time": "2024-09-13T22:36:42.750907",
     "status": "completed"
    },
    "tags": []
   },
   "outputs": [],
   "source": [
    "x_train,x_test,y_train,y_test=train_test_split(x_res,y_res,test_size=0.2,random_state=42)\n",
    "x_train,x_val,y_train,y_val=train_test_split(x_train,y_train,test_size=0.2,random_state=42)"
   ]
  },
  {
   "cell_type": "code",
   "execution_count": 42,
   "id": "072d1b81",
   "metadata": {
    "execution": {
     "iopub.execute_input": "2024-09-13T22:36:42.899125Z",
     "iopub.status.busy": "2024-09-13T22:36:42.898640Z",
     "iopub.status.idle": "2024-09-13T22:36:42.904463Z",
     "shell.execute_reply": "2024-09-13T22:36:42.902953Z"
    },
    "id": "dY34pWEff3gS",
    "papermill": {
     "duration": 0.054319,
     "end_time": "2024-09-13T22:36:42.907182",
     "exception": false,
     "start_time": "2024-09-13T22:36:42.852863",
     "status": "completed"
    },
    "tags": []
   },
   "outputs": [],
   "source": [
    "Accuracy_models=[]\n",
    "Name_models=[]"
   ]
  },
  {
   "cell_type": "markdown",
   "id": "ef409ac3",
   "metadata": {
    "id": "DeGbGVxJIktD",
    "papermill": {
     "duration": 0.041629,
     "end_time": "2024-09-13T22:36:42.990862",
     "exception": false,
     "start_time": "2024-09-13T22:36:42.949233",
     "status": "completed"
    },
    "tags": []
   },
   "source": [
    "#Check overfitting and Evaluate model"
   ]
  },
  {
   "cell_type": "code",
   "execution_count": 43,
   "id": "454b26a2",
   "metadata": {
    "execution": {
     "iopub.execute_input": "2024-09-13T22:36:43.079970Z",
     "iopub.status.busy": "2024-09-13T22:36:43.079493Z",
     "iopub.status.idle": "2024-09-13T22:36:43.090774Z",
     "shell.execute_reply": "2024-09-13T22:36:43.089534Z"
    },
    "id": "HIRvstrUpNW-",
    "papermill": {
     "duration": 0.059695,
     "end_time": "2024-09-13T22:36:43.093575",
     "exception": false,
     "start_time": "2024-09-13T22:36:43.033880",
     "status": "completed"
    },
    "tags": []
   },
   "outputs": [],
   "source": [
    "\n",
    "\n",
    "def check_overfitting(model,x_train,x_val,x_test):\n",
    "    y_train_pred=model.predict(x_train)\n",
    "    y_val_pred=model.predict(x_val)\n",
    "    y_test_pred=model.predict(x_test)\n",
    "\n",
    "    Train_accuracy = accuracy_score(y_train,y_train_pred)\n",
    "    Validaion_accuracy = accuracy_score(y_val,y_val_pred)\n",
    "    Test_accuracy = accuracy_score(y_test,y_test_pred)\n",
    "\n",
    "    print(f\"-Train accuracy: {Train_accuracy*100:.2f}%\")\n",
    "    print(f\"-Validation accuracy: {Validaion_accuracy*100:.2f}%\")\n",
    "    print(f\"-Test accuracy: {Test_accuracy*100:.2f}%\")\n",
    "\n",
    "\n",
    "    print(f'-F1_Score: {f1_score(y_test,y_test_pred)*100:.2f}%')\n",
    "    print(f'-Precision: {precision_score(y_test,y_test_pred)*100:.2f}%')\n",
    "    print(f'-Recall: {recall_score(y_test,y_test_pred)*100:.2f}%\\n\\n')\n",
    "\n",
    "    sns.heatmap(confusion_matrix(y_test,y_test_pred),annot=True,fmt='d')\n",
    "    plt.show()\n",
    "\n",
    "    if abs(Validaion_accuracy - Train_accuracy)*100 > 5:\n",
    "        print(f\"-Overfitting with diff: {abs(Validaion_accuracy - Train_accuracy)*100:.2f}%\\n\")\n",
    "        print('xxxxxxxxxxxxxxxxxxxxxxxxxxxxxxx\\n')\n",
    "    else:\n",
    "        print(f\"-Not Overfitting & Test accuracy: {Test_accuracy*100:.2f}%\\n\\n\")\n",
    "\n",
    "    Accuracy_models.append(Test_accuracy)"
   ]
  },
  {
   "cell_type": "markdown",
   "id": "da198564",
   "metadata": {
    "id": "ZhgsY3WtgOdz",
    "papermill": {
     "duration": 0.042304,
     "end_time": "2024-09-13T22:36:43.179444",
     "exception": false,
     "start_time": "2024-09-13T22:36:43.137140",
     "status": "completed"
    },
    "tags": []
   },
   "source": [
    "#1- Decision Tree"
   ]
  },
  {
   "cell_type": "code",
   "execution_count": 44,
   "id": "40393b87",
   "metadata": {
    "execution": {
     "iopub.execute_input": "2024-09-13T22:36:43.269887Z",
     "iopub.status.busy": "2024-09-13T22:36:43.269023Z",
     "iopub.status.idle": "2024-09-13T22:36:44.227681Z",
     "shell.execute_reply": "2024-09-13T22:36:44.226305Z"
    },
    "id": "vh-VBAFddTdS",
    "outputId": "532320c6-b786-44ed-e2a0-c7cb8916911f",
    "papermill": {
     "duration": 1.009102,
     "end_time": "2024-09-13T22:36:44.230966",
     "exception": false,
     "start_time": "2024-09-13T22:36:43.221864",
     "status": "completed"
    },
    "tags": []
   },
   "outputs": [
    {
     "data": {
      "text/html": [
       "<style>#sk-container-id-1 {color: black;background-color: white;}#sk-container-id-1 pre{padding: 0;}#sk-container-id-1 div.sk-toggleable {background-color: white;}#sk-container-id-1 label.sk-toggleable__label {cursor: pointer;display: block;width: 100%;margin-bottom: 0;padding: 0.3em;box-sizing: border-box;text-align: center;}#sk-container-id-1 label.sk-toggleable__label-arrow:before {content: \"▸\";float: left;margin-right: 0.25em;color: #696969;}#sk-container-id-1 label.sk-toggleable__label-arrow:hover:before {color: black;}#sk-container-id-1 div.sk-estimator:hover label.sk-toggleable__label-arrow:before {color: black;}#sk-container-id-1 div.sk-toggleable__content {max-height: 0;max-width: 0;overflow: hidden;text-align: left;background-color: #f0f8ff;}#sk-container-id-1 div.sk-toggleable__content pre {margin: 0.2em;color: black;border-radius: 0.25em;background-color: #f0f8ff;}#sk-container-id-1 input.sk-toggleable__control:checked~div.sk-toggleable__content {max-height: 200px;max-width: 100%;overflow: auto;}#sk-container-id-1 input.sk-toggleable__control:checked~label.sk-toggleable__label-arrow:before {content: \"▾\";}#sk-container-id-1 div.sk-estimator input.sk-toggleable__control:checked~label.sk-toggleable__label {background-color: #d4ebff;}#sk-container-id-1 div.sk-label input.sk-toggleable__control:checked~label.sk-toggleable__label {background-color: #d4ebff;}#sk-container-id-1 input.sk-hidden--visually {border: 0;clip: rect(1px 1px 1px 1px);clip: rect(1px, 1px, 1px, 1px);height: 1px;margin: -1px;overflow: hidden;padding: 0;position: absolute;width: 1px;}#sk-container-id-1 div.sk-estimator {font-family: monospace;background-color: #f0f8ff;border: 1px dotted black;border-radius: 0.25em;box-sizing: border-box;margin-bottom: 0.5em;}#sk-container-id-1 div.sk-estimator:hover {background-color: #d4ebff;}#sk-container-id-1 div.sk-parallel-item::after {content: \"\";width: 100%;border-bottom: 1px solid gray;flex-grow: 1;}#sk-container-id-1 div.sk-label:hover label.sk-toggleable__label {background-color: #d4ebff;}#sk-container-id-1 div.sk-serial::before {content: \"\";position: absolute;border-left: 1px solid gray;box-sizing: border-box;top: 0;bottom: 0;left: 50%;z-index: 0;}#sk-container-id-1 div.sk-serial {display: flex;flex-direction: column;align-items: center;background-color: white;padding-right: 0.2em;padding-left: 0.2em;position: relative;}#sk-container-id-1 div.sk-item {position: relative;z-index: 1;}#sk-container-id-1 div.sk-parallel {display: flex;align-items: stretch;justify-content: center;background-color: white;position: relative;}#sk-container-id-1 div.sk-item::before, #sk-container-id-1 div.sk-parallel-item::before {content: \"\";position: absolute;border-left: 1px solid gray;box-sizing: border-box;top: 0;bottom: 0;left: 50%;z-index: -1;}#sk-container-id-1 div.sk-parallel-item {display: flex;flex-direction: column;z-index: 1;position: relative;background-color: white;}#sk-container-id-1 div.sk-parallel-item:first-child::after {align-self: flex-end;width: 50%;}#sk-container-id-1 div.sk-parallel-item:last-child::after {align-self: flex-start;width: 50%;}#sk-container-id-1 div.sk-parallel-item:only-child::after {width: 0;}#sk-container-id-1 div.sk-dashed-wrapped {border: 1px dashed gray;margin: 0 0.4em 0.5em 0.4em;box-sizing: border-box;padding-bottom: 0.4em;background-color: white;}#sk-container-id-1 div.sk-label label {font-family: monospace;font-weight: bold;display: inline-block;line-height: 1.2em;}#sk-container-id-1 div.sk-label-container {text-align: center;}#sk-container-id-1 div.sk-container {/* jupyter's `normalize.less` sets `[hidden] { display: none; }` but bootstrap.min.css set `[hidden] { display: none !important; }` so we also need the `!important` here to be able to override the default hidden behavior on the sphinx rendered scikit-learn.org. See: https://github.com/scikit-learn/scikit-learn/issues/21755 */display: inline-block !important;position: relative;}#sk-container-id-1 div.sk-text-repr-fallback {display: none;}</style><div id=\"sk-container-id-1\" class=\"sk-top-container\"><div class=\"sk-text-repr-fallback\"><pre>GridSearchCV(cv=5, estimator=DecisionTreeClassifier(random_state=42),\n",
       "             param_grid={&#x27;ccp_alpha&#x27;: [0.01, 0.02, 0.03],\n",
       "                         &#x27;criterion&#x27;: [&#x27;gini&#x27;, &#x27;entropy&#x27;],\n",
       "                         &#x27;max_depth&#x27;: [4, 5, 8, 10]},\n",
       "             scoring=&#x27;accuracy&#x27;)</pre><b>In a Jupyter environment, please rerun this cell to show the HTML representation or trust the notebook. <br />On GitHub, the HTML representation is unable to render, please try loading this page with nbviewer.org.</b></div><div class=\"sk-container\" hidden><div class=\"sk-item sk-dashed-wrapped\"><div class=\"sk-label-container\"><div class=\"sk-label sk-toggleable\"><input class=\"sk-toggleable__control sk-hidden--visually\" id=\"sk-estimator-id-1\" type=\"checkbox\" ><label for=\"sk-estimator-id-1\" class=\"sk-toggleable__label sk-toggleable__label-arrow\">GridSearchCV</label><div class=\"sk-toggleable__content\"><pre>GridSearchCV(cv=5, estimator=DecisionTreeClassifier(random_state=42),\n",
       "             param_grid={&#x27;ccp_alpha&#x27;: [0.01, 0.02, 0.03],\n",
       "                         &#x27;criterion&#x27;: [&#x27;gini&#x27;, &#x27;entropy&#x27;],\n",
       "                         &#x27;max_depth&#x27;: [4, 5, 8, 10]},\n",
       "             scoring=&#x27;accuracy&#x27;)</pre></div></div></div><div class=\"sk-parallel\"><div class=\"sk-parallel-item\"><div class=\"sk-item\"><div class=\"sk-label-container\"><div class=\"sk-label sk-toggleable\"><input class=\"sk-toggleable__control sk-hidden--visually\" id=\"sk-estimator-id-2\" type=\"checkbox\" ><label for=\"sk-estimator-id-2\" class=\"sk-toggleable__label sk-toggleable__label-arrow\">estimator: DecisionTreeClassifier</label><div class=\"sk-toggleable__content\"><pre>DecisionTreeClassifier(random_state=42)</pre></div></div></div><div class=\"sk-serial\"><div class=\"sk-item\"><div class=\"sk-estimator sk-toggleable\"><input class=\"sk-toggleable__control sk-hidden--visually\" id=\"sk-estimator-id-3\" type=\"checkbox\" ><label for=\"sk-estimator-id-3\" class=\"sk-toggleable__label sk-toggleable__label-arrow\">DecisionTreeClassifier</label><div class=\"sk-toggleable__content\"><pre>DecisionTreeClassifier(random_state=42)</pre></div></div></div></div></div></div></div></div></div></div>"
      ],
      "text/plain": [
       "GridSearchCV(cv=5, estimator=DecisionTreeClassifier(random_state=42),\n",
       "             param_grid={'ccp_alpha': [0.01, 0.02, 0.03],\n",
       "                         'criterion': ['gini', 'entropy'],\n",
       "                         'max_depth': [4, 5, 8, 10]},\n",
       "             scoring='accuracy')"
      ]
     },
     "execution_count": 44,
     "metadata": {},
     "output_type": "execute_result"
    }
   ],
   "source": [
    "decision_tree=DecisionTreeClassifier(random_state=42)\n",
    "params={'criterion':['gini','entropy'], 'max_depth':[4,5,8,10],'ccp_alpha':[.01,.02,.03]}\n",
    "grid=GridSearchCV(estimator=decision_tree,\n",
    "                  param_grid=params,\n",
    "                  cv=5,\n",
    "                  scoring='accuracy')\n",
    "grid.fit(x_train,y_train)\n"
   ]
  },
  {
   "cell_type": "code",
   "execution_count": 45,
   "id": "a04af130",
   "metadata": {
    "execution": {
     "iopub.execute_input": "2024-09-13T22:36:44.322111Z",
     "iopub.status.busy": "2024-09-13T22:36:44.321679Z",
     "iopub.status.idle": "2024-09-13T22:36:44.329531Z",
     "shell.execute_reply": "2024-09-13T22:36:44.328417Z"
    },
    "id": "TSfZNHySeswL",
    "outputId": "ccdbe8bf-ea32-45a6-8461-2d1710d87929",
    "papermill": {
     "duration": 0.054544,
     "end_time": "2024-09-13T22:36:44.331967",
     "exception": false,
     "start_time": "2024-09-13T22:36:44.277423",
     "status": "completed"
    },
    "tags": []
   },
   "outputs": [
    {
     "data": {
      "text/plain": [
       "{'ccp_alpha': 0.02, 'criterion': 'entropy', 'max_depth': 4}"
      ]
     },
     "execution_count": 45,
     "metadata": {},
     "output_type": "execute_result"
    }
   ],
   "source": [
    "grid.best_params_"
   ]
  },
  {
   "cell_type": "code",
   "execution_count": 46,
   "id": "f9948b18",
   "metadata": {
    "execution": {
     "iopub.execute_input": "2024-09-13T22:36:44.421356Z",
     "iopub.status.busy": "2024-09-13T22:36:44.420897Z",
     "iopub.status.idle": "2024-09-13T22:36:44.426441Z",
     "shell.execute_reply": "2024-09-13T22:36:44.425096Z"
    },
    "id": "JX-_FG6Geszk",
    "papermill": {
     "duration": 0.053744,
     "end_time": "2024-09-13T22:36:44.429406",
     "exception": false,
     "start_time": "2024-09-13T22:36:44.375662",
     "status": "completed"
    },
    "tags": []
   },
   "outputs": [],
   "source": [
    "finall_decision_tree=grid.best_estimator_\n"
   ]
  },
  {
   "cell_type": "code",
   "execution_count": 47,
   "id": "9587b72f",
   "metadata": {
    "execution": {
     "iopub.execute_input": "2024-09-13T22:36:44.520673Z",
     "iopub.status.busy": "2024-09-13T22:36:44.520189Z",
     "iopub.status.idle": "2024-09-13T22:36:44.824618Z",
     "shell.execute_reply": "2024-09-13T22:36:44.823166Z"
    },
    "id": "8ReS0swse-I0",
    "outputId": "c310f13a-8415-48bd-d80f-c654762e92e4",
    "papermill": {
     "duration": 0.355035,
     "end_time": "2024-09-13T22:36:44.828893",
     "exception": false,
     "start_time": "2024-09-13T22:36:44.473858",
     "status": "completed"
    },
    "tags": []
   },
   "outputs": [
    {
     "name": "stdout",
     "output_type": "stream",
     "text": [
      "-Train accuracy: 80.34%\n",
      "-Validation accuracy: 81.82%\n",
      "-Test accuracy: 82.73%\n",
      "-F1_Score: 80.21%\n",
      "-Precision: 89.53%\n",
      "-Recall: 72.64%\n",
      "\n",
      "\n"
     ]
    },
    {
     "data": {
      "image/png": "[encoded data removed]",
      "text/plain": [
       "<Figure size 640x480 with 2 Axes>"
      ]
     },
     "metadata": {},
     "output_type": "display_data"
    },
    {
     "name": "stdout",
     "output_type": "stream",
     "text": [
      "-Not Overfitting & Test accuracy: 82.73%\n",
      "\n",
      "\n"
     ]
    }
   ],
   "source": [
    "check_overfitting(finall_decision_tree,x_train,x_val,x_test)"
   ]
  },
  {
   "cell_type": "code",
   "execution_count": 48,
   "id": "9cd5e8e0",
   "metadata": {
    "execution": {
     "iopub.execute_input": "2024-09-13T22:36:44.921051Z",
     "iopub.status.busy": "2024-09-13T22:36:44.920575Z",
     "iopub.status.idle": "2024-09-13T22:36:44.926523Z",
     "shell.execute_reply": "2024-09-13T22:36:44.925244Z"
    },
    "id": "8DKj7RUrkKyS",
    "papermill": {
     "duration": 0.055117,
     "end_time": "2024-09-13T22:36:44.929396",
     "exception": false,
     "start_time": "2024-09-13T22:36:44.874279",
     "status": "completed"
    },
    "tags": []
   },
   "outputs": [],
   "source": [
    "Name_models.append('Decision Tree')"
   ]
  },
  {
   "cell_type": "markdown",
   "id": "2cbf45aa",
   "metadata": {
    "id": "XUDcLDbGhDyi",
    "papermill": {
     "duration": 0.042938,
     "end_time": "2024-09-13T22:36:45.016185",
     "exception": false,
     "start_time": "2024-09-13T22:36:44.973247",
     "status": "completed"
    },
    "tags": []
   },
   "source": [
    "#- Scale Data"
   ]
  },
  {
   "cell_type": "code",
   "execution_count": 49,
   "id": "48ba40bb",
   "metadata": {
    "execution": {
     "iopub.execute_input": "2024-09-13T22:36:45.108144Z",
     "iopub.status.busy": "2024-09-13T22:36:45.107643Z",
     "iopub.status.idle": "2024-09-13T22:36:45.122860Z",
     "shell.execute_reply": "2024-09-13T22:36:45.121632Z"
    },
    "id": "b47qbUA2tU7a",
    "papermill": {
     "duration": 0.064396,
     "end_time": "2024-09-13T22:36:45.125818",
     "exception": false,
     "start_time": "2024-09-13T22:36:45.061422",
     "status": "completed"
    },
    "tags": []
   },
   "outputs": [],
   "source": [
    "sc=StandardScaler()\n",
    "x_train=sc.fit_transform(x_train)\n",
    "x_val=sc.transform(x_val)\n",
    "x_test=sc.transform(x_test)"
   ]
  },
  {
   "cell_type": "markdown",
   "id": "06f5206f",
   "metadata": {
    "id": "0V2nzClfhKTA",
    "papermill": {
     "duration": 0.04298,
     "end_time": "2024-09-13T22:36:45.212093",
     "exception": false,
     "start_time": "2024-09-13T22:36:45.169113",
     "status": "completed"
    },
    "tags": []
   },
   "source": [
    "#2- Gaussian NB"
   ]
  },
  {
   "cell_type": "code",
   "execution_count": 50,
   "id": "3698133b",
   "metadata": {
    "execution": {
     "iopub.execute_input": "2024-09-13T22:36:45.305553Z",
     "iopub.status.busy": "2024-09-13T22:36:45.304730Z",
     "iopub.status.idle": "2024-09-13T22:36:45.402910Z",
     "shell.execute_reply": "2024-09-13T22:36:45.401592Z"
    },
    "id": "QE_Y1xeRm_hX",
    "outputId": "b661db43-5d64-4de0-9556-e38066565048",
    "papermill": {
     "duration": 0.148729,
     "end_time": "2024-09-13T22:36:45.405898",
     "exception": false,
     "start_time": "2024-09-13T22:36:45.257169",
     "status": "completed"
    },
    "tags": []
   },
   "outputs": [
    {
     "data": {
      "text/html": [
       "<style>#sk-container-id-2 {color: black;background-color: white;}#sk-container-id-2 pre{padding: 0;}#sk-container-id-2 div.sk-toggleable {background-color: white;}#sk-container-id-2 label.sk-toggleable__label {cursor: pointer;display: block;width: 100%;margin-bottom: 0;padding: 0.3em;box-sizing: border-box;text-align: center;}#sk-container-id-2 label.sk-toggleable__label-arrow:before {content: \"▸\";float: left;margin-right: 0.25em;color: #696969;}#sk-container-id-2 label.sk-toggleable__label-arrow:hover:before {color: black;}#sk-container-id-2 div.sk-estimator:hover label.sk-toggleable__label-arrow:before {color: black;}#sk-container-id-2 div.sk-toggleable__content {max-height: 0;max-width: 0;overflow: hidden;text-align: left;background-color: #f0f8ff;}#sk-container-id-2 div.sk-toggleable__content pre {margin: 0.2em;color: black;border-radius: 0.25em;background-color: #f0f8ff;}#sk-container-id-2 input.sk-toggleable__control:checked~div.sk-toggleable__content {max-height: 200px;max-width: 100%;overflow: auto;}#sk-container-id-2 input.sk-toggleable__control:checked~label.sk-toggleable__label-arrow:before {content: \"▾\";}#sk-container-id-2 div.sk-estimator input.sk-toggleable__control:checked~label.sk-toggleable__label {background-color: #d4ebff;}#sk-container-id-2 div.sk-label input.sk-toggleable__control:checked~label.sk-toggleable__label {background-color: #d4ebff;}#sk-container-id-2 input.sk-hidden--visually {border: 0;clip: rect(1px 1px 1px 1px);clip: rect(1px, 1px, 1px, 1px);height: 1px;margin: -1px;overflow: hidden;padding: 0;position: absolute;width: 1px;}#sk-container-id-2 div.sk-estimator {font-family: monospace;background-color: #f0f8ff;border: 1px dotted black;border-radius: 0.25em;box-sizing: border-box;margin-bottom: 0.5em;}#sk-container-id-2 div.sk-estimator:hover {background-color: #d4ebff;}#sk-container-id-2 div.sk-parallel-item::after {content: \"\";width: 100%;border-bottom: 1px solid gray;flex-grow: 1;}#sk-container-id-2 div.sk-label:hover label.sk-toggleable__label {background-color: #d4ebff;}#sk-container-id-2 div.sk-serial::before {content: \"\";position: absolute;border-left: 1px solid gray;box-sizing: border-box;top: 0;bottom: 0;left: 50%;z-index: 0;}#sk-container-id-2 div.sk-serial {display: flex;flex-direction: column;align-items: center;background-color: white;padding-right: 0.2em;padding-left: 0.2em;position: relative;}#sk-container-id-2 div.sk-item {position: relative;z-index: 1;}#sk-container-id-2 div.sk-parallel {display: flex;align-items: stretch;justify-content: center;background-color: white;position: relative;}#sk-container-id-2 div.sk-item::before, #sk-container-id-2 div.sk-parallel-item::before {content: \"\";position: absolute;border-left: 1px solid gray;box-sizing: border-box;top: 0;bottom: 0;left: 50%;z-index: -1;}#sk-container-id-2 div.sk-parallel-item {display: flex;flex-direction: column;z-index: 1;position: relative;background-color: white;}#sk-container-id-2 div.sk-parallel-item:first-child::after {align-self: flex-end;width: 50%;}#sk-container-id-2 div.sk-parallel-item:last-child::after {align-self: flex-start;width: 50%;}#sk-container-id-2 div.sk-parallel-item:only-child::after {width: 0;}#sk-container-id-2 div.sk-dashed-wrapped {border: 1px dashed gray;margin: 0 0.4em 0.5em 0.4em;box-sizing: border-box;padding-bottom: 0.4em;background-color: white;}#sk-container-id-2 div.sk-label label {font-family: monospace;font-weight: bold;display: inline-block;line-height: 1.2em;}#sk-container-id-2 div.sk-label-container {text-align: center;}#sk-container-id-2 div.sk-container {/* jupyter's `normalize.less` sets `[hidden] { display: none; }` but bootstrap.min.css set `[hidden] { display: none !important; }` so we also need the `!important` here to be able to override the default hidden behavior on the sphinx rendered scikit-learn.org. See: https://github.com/scikit-learn/scikit-learn/issues/21755 */display: inline-block !important;position: relative;}#sk-container-id-2 div.sk-text-repr-fallback {display: none;}</style><div id=\"sk-container-id-2\" class=\"sk-top-container\"><div class=\"sk-text-repr-fallback\"><pre>GridSearchCV(cv=5, estimator=GaussianNB(),\n",
       "             param_grid={&#x27;var_smoothing&#x27;: [1e-09, 1e-08, 1e-07, 1e-06, 1e-05]},\n",
       "             scoring=&#x27;accuracy&#x27;)</pre><b>In a Jupyter environment, please rerun this cell to show the HTML representation or trust the notebook. <br />On GitHub, the HTML representation is unable to render, please try loading this page with nbviewer.org.</b></div><div class=\"sk-container\" hidden><div class=\"sk-item sk-dashed-wrapped\"><div class=\"sk-label-container\"><div class=\"sk-label sk-toggleable\"><input class=\"sk-toggleable__control sk-hidden--visually\" id=\"sk-estimator-id-4\" type=\"checkbox\" ><label for=\"sk-estimator-id-4\" class=\"sk-toggleable__label sk-toggleable__label-arrow\">GridSearchCV</label><div class=\"sk-toggleable__content\"><pre>GridSearchCV(cv=5, estimator=GaussianNB(),\n",
       "             param_grid={&#x27;var_smoothing&#x27;: [1e-09, 1e-08, 1e-07, 1e-06, 1e-05]},\n",
       "             scoring=&#x27;accuracy&#x27;)</pre></div></div></div><div class=\"sk-parallel\"><div class=\"sk-parallel-item\"><div class=\"sk-item\"><div class=\"sk-label-container\"><div class=\"sk-label sk-toggleable\"><input class=\"sk-toggleable__control sk-hidden--visually\" id=\"sk-estimator-id-5\" type=\"checkbox\" ><label for=\"sk-estimator-id-5\" class=\"sk-toggleable__label sk-toggleable__label-arrow\">estimator: GaussianNB</label><div class=\"sk-toggleable__content\"><pre>GaussianNB()</pre></div></div></div><div class=\"sk-serial\"><div class=\"sk-item\"><div class=\"sk-estimator sk-toggleable\"><input class=\"sk-toggleable__control sk-hidden--visually\" id=\"sk-estimator-id-6\" type=\"checkbox\" ><label for=\"sk-estimator-id-6\" class=\"sk-toggleable__label sk-toggleable__label-arrow\">GaussianNB</label><div class=\"sk-toggleable__content\"><pre>GaussianNB()</pre></div></div></div></div></div></div></div></div></div></div>"
      ],
      "text/plain": [
       "GridSearchCV(cv=5, estimator=GaussianNB(),\n",
       "             param_grid={'var_smoothing': [1e-09, 1e-08, 1e-07, 1e-06, 1e-05]},\n",
       "             scoring='accuracy')"
      ]
     },
     "execution_count": 50,
     "metadata": {},
     "output_type": "execute_result"
    }
   ],
   "source": [
    "GNB=GaussianNB()\n",
    "param_grid = {'var_smoothing': [1e-9, 1e-8, 1e-7, 1e-6, 1e-5]}\n",
    "grid=GridSearchCV(estimator=GNB,\n",
    "                  param_grid=param_grid,\n",
    "                  cv=5,\n",
    "                  scoring='accuracy')\n",
    "grid.fit(x_train,y_train)"
   ]
  },
  {
   "cell_type": "code",
   "execution_count": 51,
   "id": "f02d53d1",
   "metadata": {
    "execution": {
     "iopub.execute_input": "2024-09-13T22:36:45.498695Z",
     "iopub.status.busy": "2024-09-13T22:36:45.498203Z",
     "iopub.status.idle": "2024-09-13T22:36:45.506687Z",
     "shell.execute_reply": "2024-09-13T22:36:45.505380Z"
    },
    "id": "oiuAWJuPing_",
    "outputId": "ec19e85e-ac3b-4a18-bf28-c72cbb955775",
    "papermill": {
     "duration": 0.059054,
     "end_time": "2024-09-13T22:36:45.509223",
     "exception": false,
     "start_time": "2024-09-13T22:36:45.450169",
     "status": "completed"
    },
    "tags": []
   },
   "outputs": [
    {
     "data": {
      "text/plain": [
       "{'var_smoothing': 1e-09}"
      ]
     },
     "execution_count": 51,
     "metadata": {},
     "output_type": "execute_result"
    }
   ],
   "source": [
    "finall_GNB=grid.best_estimator_\n",
    "grid.best_params_"
   ]
  },
  {
   "cell_type": "markdown",
   "id": "9f1fc913",
   "metadata": {
    "id": "Jw1Wnt9MpQRB",
    "papermill": {
     "duration": 0.045577,
     "end_time": "2024-09-13T22:36:45.599402",
     "exception": false,
     "start_time": "2024-09-13T22:36:45.553825",
     "status": "completed"
    },
    "tags": []
   },
   "source": [
    "Check overfitting & Evaluate model\n"
   ]
  },
  {
   "cell_type": "code",
   "execution_count": 52,
   "id": "8ed56eb8",
   "metadata": {
    "execution": {
     "iopub.execute_input": "2024-09-13T22:36:45.689708Z",
     "iopub.status.busy": "2024-09-13T22:36:45.689267Z",
     "iopub.status.idle": "2024-09-13T22:36:45.997690Z",
     "shell.execute_reply": "2024-09-13T22:36:45.996363Z"
    },
    "id": "kAaKVDhxt3qk",
    "outputId": "b48abc97-87b1-40dc-e30f-6c84c90086f5",
    "papermill": {
     "duration": 0.356558,
     "end_time": "2024-09-13T22:36:46.000436",
     "exception": false,
     "start_time": "2024-09-13T22:36:45.643878",
     "status": "completed"
    },
    "tags": []
   },
   "outputs": [
    {
     "name": "stdout",
     "output_type": "stream",
     "text": [
      "-Train accuracy: 76.78%\n",
      "-Validation accuracy: 76.70%\n",
      "-Test accuracy: 77.73%\n",
      "-F1_Score: 76.78%\n",
      "-Precision: 77.14%\n",
      "-Recall: 76.42%\n",
      "\n",
      "\n"
     ]
    },
    {
     "data": {
      "image/png": "[encoded data removed]",
      "text/plain": [
       "<Figure size 640x480 with 2 Axes>"
      ]
     },
     "metadata": {},
     "output_type": "display_data"
    },
    {
     "name": "stdout",
     "output_type": "stream",
     "text": [
      "-Not Overfitting & Test accuracy: 77.73%\n",
      "\n",
      "\n"
     ]
    }
   ],
   "source": [
    "check_overfitting(finall_GNB,x_train,x_val,x_test)"
   ]
  },
  {
   "cell_type": "code",
   "execution_count": 53,
   "id": "f7d49be5",
   "metadata": {
    "execution": {
     "iopub.execute_input": "2024-09-13T22:36:46.092919Z",
     "iopub.status.busy": "2024-09-13T22:36:46.092474Z",
     "iopub.status.idle": "2024-09-13T22:36:46.098286Z",
     "shell.execute_reply": "2024-09-13T22:36:46.097091Z"
    },
    "id": "848aBAbYi0OX",
    "papermill": {
     "duration": 0.054595,
     "end_time": "2024-09-13T22:36:46.100952",
     "exception": false,
     "start_time": "2024-09-13T22:36:46.046357",
     "status": "completed"
    },
    "tags": []
   },
   "outputs": [],
   "source": [
    "Name_models.append('Gaussian NB')"
   ]
  },
  {
   "cell_type": "markdown",
   "id": "fb128a0a",
   "metadata": {
    "id": "zsPMM4JhjauZ",
    "papermill": {
     "duration": 0.049814,
     "end_time": "2024-09-13T22:36:46.196771",
     "exception": false,
     "start_time": "2024-09-13T22:36:46.146957",
     "status": "completed"
    },
    "tags": []
   },
   "source": [
    "#3- Logistic Regression"
   ]
  },
  {
   "cell_type": "code",
   "execution_count": 54,
   "id": "16a60c6b",
   "metadata": {
    "execution": {
     "iopub.execute_input": "2024-09-13T22:36:46.292072Z",
     "iopub.status.busy": "2024-09-13T22:36:46.291594Z",
     "iopub.status.idle": "2024-09-13T22:36:46.662607Z",
     "shell.execute_reply": "2024-09-13T22:36:46.661509Z"
    },
    "id": "DfuL9Hb5Zv7t",
    "outputId": "fa7cdb2b-a287-4b4b-fe47-48092a4c0a8f",
    "papermill": {
     "duration": 0.422719,
     "end_time": "2024-09-13T22:36:46.665465",
     "exception": false,
     "start_time": "2024-09-13T22:36:46.242746",
     "status": "completed"
    },
    "tags": []
   },
   "outputs": [
    {
     "data": {
      "text/html": [
       "<style>#sk-container-id-3 {color: black;background-color: white;}#sk-container-id-3 pre{padding: 0;}#sk-container-id-3 div.sk-toggleable {background-color: white;}#sk-container-id-3 label.sk-toggleable__label {cursor: pointer;display: block;width: 100%;margin-bottom: 0;padding: 0.3em;box-sizing: border-box;text-align: center;}#sk-container-id-3 label.sk-toggleable__label-arrow:before {content: \"▸\";float: left;margin-right: 0.25em;color: #696969;}#sk-container-id-3 label.sk-toggleable__label-arrow:hover:before {color: black;}#sk-container-id-3 div.sk-estimator:hover label.sk-toggleable__label-arrow:before {color: black;}#sk-container-id-3 div.sk-toggleable__content {max-height: 0;max-width: 0;overflow: hidden;text-align: left;background-color: #f0f8ff;}#sk-container-id-3 div.sk-toggleable__content pre {margin: 0.2em;color: black;border-radius: 0.25em;background-color: #f0f8ff;}#sk-container-id-3 input.sk-toggleable__control:checked~div.sk-toggleable__content {max-height: 200px;max-width: 100%;overflow: auto;}#sk-container-id-3 input.sk-toggleable__control:checked~label.sk-toggleable__label-arrow:before {content: \"▾\";}#sk-container-id-3 div.sk-estimator input.sk-toggleable__control:checked~label.sk-toggleable__label {background-color: #d4ebff;}#sk-container-id-3 div.sk-label input.sk-toggleable__control:checked~label.sk-toggleable__label {background-color: #d4ebff;}#sk-container-id-3 input.sk-hidden--visually {border: 0;clip: rect(1px 1px 1px 1px);clip: rect(1px, 1px, 1px, 1px);height: 1px;margin: -1px;overflow: hidden;padding: 0;position: absolute;width: 1px;}#sk-container-id-3 div.sk-estimator {font-family: monospace;background-color: #f0f8ff;border: 1px dotted black;border-radius: 0.25em;box-sizing: border-box;margin-bottom: 0.5em;}#sk-container-id-3 div.sk-estimator:hover {background-color: #d4ebff;}#sk-container-id-3 div.sk-parallel-item::after {content: \"\";width: 100%;border-bottom: 1px solid gray;flex-grow: 1;}#sk-container-id-3 div.sk-label:hover label.sk-toggleable__label {background-color: #d4ebff;}#sk-container-id-3 div.sk-serial::before {content: \"\";position: absolute;border-left: 1px solid gray;box-sizing: border-box;top: 0;bottom: 0;left: 50%;z-index: 0;}#sk-container-id-3 div.sk-serial {display: flex;flex-direction: column;align-items: center;background-color: white;padding-right: 0.2em;padding-left: 0.2em;position: relative;}#sk-container-id-3 div.sk-item {position: relative;z-index: 1;}#sk-container-id-3 div.sk-parallel {display: flex;align-items: stretch;justify-content: center;background-color: white;position: relative;}#sk-container-id-3 div.sk-item::before, #sk-container-id-3 div.sk-parallel-item::before {content: \"\";position: absolute;border-left: 1px solid gray;box-sizing: border-box;top: 0;bottom: 0;left: 50%;z-index: -1;}#sk-container-id-3 div.sk-parallel-item {display: flex;flex-direction: column;z-index: 1;position: relative;background-color: white;}#sk-container-id-3 div.sk-parallel-item:first-child::after {align-self: flex-end;width: 50%;}#sk-container-id-3 div.sk-parallel-item:last-child::after {align-self: flex-start;width: 50%;}#sk-container-id-3 div.sk-parallel-item:only-child::after {width: 0;}#sk-container-id-3 div.sk-dashed-wrapped {border: 1px dashed gray;margin: 0 0.4em 0.5em 0.4em;box-sizing: border-box;padding-bottom: 0.4em;background-color: white;}#sk-container-id-3 div.sk-label label {font-family: monospace;font-weight: bold;display: inline-block;line-height: 1.2em;}#sk-container-id-3 div.sk-label-container {text-align: center;}#sk-container-id-3 div.sk-container {/* jupyter's `normalize.less` sets `[hidden] { display: none; }` but bootstrap.min.css set `[hidden] { display: none !important; }` so we also need the `!important` here to be able to override the default hidden behavior on the sphinx rendered scikit-learn.org. See: https://github.com/scikit-learn/scikit-learn/issues/21755 */display: inline-block !important;position: relative;}#sk-container-id-3 div.sk-text-repr-fallback {display: none;}</style><div id=\"sk-container-id-3\" class=\"sk-top-container\"><div class=\"sk-text-repr-fallback\"><pre>GridSearchCV(cv=5, estimator=LogisticRegression(),\n",
       "             param_grid={&#x27;C&#x27;: [0.1, 1, 10, 100], &#x27;multi_class&#x27;: [&#x27;ovr&#x27;, &#x27;auto&#x27;],\n",
       "                         &#x27;penalty&#x27;: [&#x27;l1&#x27;, &#x27;l2&#x27;]},\n",
       "             scoring=&#x27;accuracy&#x27;)</pre><b>In a Jupyter environment, please rerun this cell to show the HTML representation or trust the notebook. <br />On GitHub, the HTML representation is unable to render, please try loading this page with nbviewer.org.</b></div><div class=\"sk-container\" hidden><div class=\"sk-item sk-dashed-wrapped\"><div class=\"sk-label-container\"><div class=\"sk-label sk-toggleable\"><input class=\"sk-toggleable__control sk-hidden--visually\" id=\"sk-estimator-id-7\" type=\"checkbox\" ><label for=\"sk-estimator-id-7\" class=\"sk-toggleable__label sk-toggleable__label-arrow\">GridSearchCV</label><div class=\"sk-toggleable__content\"><pre>GridSearchCV(cv=5, estimator=LogisticRegression(),\n",
       "             param_grid={&#x27;C&#x27;: [0.1, 1, 10, 100], &#x27;multi_class&#x27;: [&#x27;ovr&#x27;, &#x27;auto&#x27;],\n",
       "                         &#x27;penalty&#x27;: [&#x27;l1&#x27;, &#x27;l2&#x27;]},\n",
       "             scoring=&#x27;accuracy&#x27;)</pre></div></div></div><div class=\"sk-parallel\"><div class=\"sk-parallel-item\"><div class=\"sk-item\"><div class=\"sk-label-container\"><div class=\"sk-label sk-toggleable\"><input class=\"sk-toggleable__control sk-hidden--visually\" id=\"sk-estimator-id-8\" type=\"checkbox\" ><label for=\"sk-estimator-id-8\" class=\"sk-toggleable__label sk-toggleable__label-arrow\">estimator: LogisticRegression</label><div class=\"sk-toggleable__content\"><pre>LogisticRegression()</pre></div></div></div><div class=\"sk-serial\"><div class=\"sk-item\"><div class=\"sk-estimator sk-toggleable\"><input class=\"sk-toggleable__control sk-hidden--visually\" id=\"sk-estimator-id-9\" type=\"checkbox\" ><label for=\"sk-estimator-id-9\" class=\"sk-toggleable__label sk-toggleable__label-arrow\">LogisticRegression</label><div class=\"sk-toggleable__content\"><pre>LogisticRegression()</pre></div></div></div></div></div></div></div></div></div></div>"
      ],
      "text/plain": [
       "GridSearchCV(cv=5, estimator=LogisticRegression(),\n",
       "             param_grid={'C': [0.1, 1, 10, 100], 'multi_class': ['ovr', 'auto'],\n",
       "                         'penalty': ['l1', 'l2']},\n",
       "             scoring='accuracy')"
      ]
     },
     "execution_count": 54,
     "metadata": {},
     "output_type": "execute_result"
    }
   ],
   "source": [
    "lr=LogisticRegression()\n",
    "params={'multi_class':['ovr','auto'],'C':[0.1,1,10,100],'penalty':['l1','l2']}\n",
    "grid=GridSearchCV(estimator=lr,\n",
    "                  param_grid=params,\n",
    "                  cv=5,\n",
    "                  scoring='accuracy')\n",
    "grid.fit(x_train,y_train)"
   ]
  },
  {
   "cell_type": "code",
   "execution_count": 55,
   "id": "26cfd74f",
   "metadata": {
    "execution": {
     "iopub.execute_input": "2024-09-13T22:36:46.764837Z",
     "iopub.status.busy": "2024-09-13T22:36:46.763855Z",
     "iopub.status.idle": "2024-09-13T22:36:46.771386Z",
     "shell.execute_reply": "2024-09-13T22:36:46.770316Z"
    },
    "id": "E8dksB7UlNn5",
    "outputId": "1543f8d8-43c2-4f92-8d41-8d465ec9c0e3",
    "papermill": {
     "duration": 0.060693,
     "end_time": "2024-09-13T22:36:46.773831",
     "exception": false,
     "start_time": "2024-09-13T22:36:46.713138",
     "status": "completed"
    },
    "tags": []
   },
   "outputs": [
    {
     "data": {
      "text/plain": [
       "{'C': 1, 'multi_class': 'ovr', 'penalty': 'l2'}"
      ]
     },
     "execution_count": 55,
     "metadata": {},
     "output_type": "execute_result"
    }
   ],
   "source": [
    "finall_lr=grid.best_estimator_\n",
    "grid.best_params_"
   ]
  },
  {
   "cell_type": "code",
   "execution_count": 56,
   "id": "1f79b944",
   "metadata": {
    "execution": {
     "iopub.execute_input": "2024-09-13T22:36:46.868854Z",
     "iopub.status.busy": "2024-09-13T22:36:46.867780Z",
     "iopub.status.idle": "2024-09-13T22:36:47.175239Z",
     "shell.execute_reply": "2024-09-13T22:36:47.174013Z"
    },
    "id": "vsXHdbWxl8kQ",
    "outputId": "bea4943f-d654-45f0-9748-e7fcbb8f10d7",
    "papermill": {
     "duration": 0.358755,
     "end_time": "2024-09-13T22:36:47.179112",
     "exception": false,
     "start_time": "2024-09-13T22:36:46.820357",
     "status": "completed"
    },
    "tags": []
   },
   "outputs": [
    {
     "name": "stdout",
     "output_type": "stream",
     "text": [
      "-Train accuracy: 77.92%\n",
      "-Validation accuracy: 78.98%\n",
      "-Test accuracy: 81.82%\n",
      "-F1_Score: 80.39%\n",
      "-Precision: 83.67%\n",
      "-Recall: 77.36%\n",
      "\n",
      "\n"
     ]
    },
    {
     "data": {
      "image/png": "[encoded data removed]",
      "text/plain": [
       "<Figure size 640x480 with 2 Axes>"
      ]
     },
     "metadata": {},
     "output_type": "display_data"
    },
    {
     "name": "stdout",
     "output_type": "stream",
     "text": [
      "-Not Overfitting & Test accuracy: 81.82%\n",
      "\n",
      "\n"
     ]
    }
   ],
   "source": [
    "check_overfitting(finall_lr,x_train,x_val,x_test)"
   ]
  },
  {
   "cell_type": "code",
   "execution_count": 57,
   "id": "924da866",
   "metadata": {
    "execution": {
     "iopub.execute_input": "2024-09-13T22:36:47.276671Z",
     "iopub.status.busy": "2024-09-13T22:36:47.275769Z",
     "iopub.status.idle": "2024-09-13T22:36:47.281976Z",
     "shell.execute_reply": "2024-09-13T22:36:47.280560Z"
    },
    "id": "qn1pbWOIl-ns",
    "papermill": {
     "duration": 0.058029,
     "end_time": "2024-09-13T22:36:47.284822",
     "exception": false,
     "start_time": "2024-09-13T22:36:47.226793",
     "status": "completed"
    },
    "tags": []
   },
   "outputs": [],
   "source": [
    "Name_models.append('Logistic Regression')"
   ]
  },
  {
   "cell_type": "code",
   "execution_count": null,
   "id": "345b0a5f",
   "metadata": {
    "id": "ZQxdkweomAEV",
    "papermill": {
     "duration": 0.045902,
     "end_time": "2024-09-13T22:36:47.378122",
     "exception": false,
     "start_time": "2024-09-13T22:36:47.332220",
     "status": "completed"
    },
    "tags": []
   },
   "outputs": [],
   "source": []
  },
  {
   "cell_type": "markdown",
   "id": "69e7c64a",
   "metadata": {
    "id": "ZfBDa6MNmBWs",
    "papermill": {
     "duration": 0.045276,
     "end_time": "2024-09-13T22:36:47.469730",
     "exception": false,
     "start_time": "2024-09-13T22:36:47.424454",
     "status": "completed"
    },
    "tags": []
   },
   "source": [
    "#4- SVC"
   ]
  },
  {
   "cell_type": "code",
   "execution_count": 58,
   "id": "bdf25c1c",
   "metadata": {
    "execution": {
     "iopub.execute_input": "2024-09-13T22:36:47.565679Z",
     "iopub.status.busy": "2024-09-13T22:36:47.565227Z",
     "iopub.status.idle": "2024-09-13T22:39:14.465492Z",
     "shell.execute_reply": "2024-09-13T22:39:14.464178Z"
    },
    "id": "0djRdtezmHBp",
    "outputId": "edfb6300-050d-47d2-bc51-8d43b0e4d383",
    "papermill": {
     "duration": 146.998268,
     "end_time": "2024-09-13T22:39:14.515884",
     "exception": false,
     "start_time": "2024-09-13T22:36:47.517616",
     "status": "completed"
    },
    "tags": []
   },
   "outputs": [
    {
     "data": {
      "text/html": [
       "<style>#sk-container-id-4 {color: black;background-color: white;}#sk-container-id-4 pre{padding: 0;}#sk-container-id-4 div.sk-toggleable {background-color: white;}#sk-container-id-4 label.sk-toggleable__label {cursor: pointer;display: block;width: 100%;margin-bottom: 0;padding: 0.3em;box-sizing: border-box;text-align: center;}#sk-container-id-4 label.sk-toggleable__label-arrow:before {content: \"▸\";float: left;margin-right: 0.25em;color: #696969;}#sk-container-id-4 label.sk-toggleable__label-arrow:hover:before {color: black;}#sk-container-id-4 div.sk-estimator:hover label.sk-toggleable__label-arrow:before {color: black;}#sk-container-id-4 div.sk-toggleable__content {max-height: 0;max-width: 0;overflow: hidden;text-align: left;background-color: #f0f8ff;}#sk-container-id-4 div.sk-toggleable__content pre {margin: 0.2em;color: black;border-radius: 0.25em;background-color: #f0f8ff;}#sk-container-id-4 input.sk-toggleable__control:checked~div.sk-toggleable__content {max-height: 200px;max-width: 100%;overflow: auto;}#sk-container-id-4 input.sk-toggleable__control:checked~label.sk-toggleable__label-arrow:before {content: \"▾\";}#sk-container-id-4 div.sk-estimator input.sk-toggleable__control:checked~label.sk-toggleable__label {background-color: #d4ebff;}#sk-container-id-4 div.sk-label input.sk-toggleable__control:checked~label.sk-toggleable__label {background-color: #d4ebff;}#sk-container-id-4 input.sk-hidden--visually {border: 0;clip: rect(1px 1px 1px 1px);clip: rect(1px, 1px, 1px, 1px);height: 1px;margin: -1px;overflow: hidden;padding: 0;position: absolute;width: 1px;}#sk-container-id-4 div.sk-estimator {font-family: monospace;background-color: #f0f8ff;border: 1px dotted black;border-radius: 0.25em;box-sizing: border-box;margin-bottom: 0.5em;}#sk-container-id-4 div.sk-estimator:hover {background-color: #d4ebff;}#sk-container-id-4 div.sk-parallel-item::after {content: \"\";width: 100%;border-bottom: 1px solid gray;flex-grow: 1;}#sk-container-id-4 div.sk-label:hover label.sk-toggleable__label {background-color: #d4ebff;}#sk-container-id-4 div.sk-serial::before {content: \"\";position: absolute;border-left: 1px solid gray;box-sizing: border-box;top: 0;bottom: 0;left: 50%;z-index: 0;}#sk-container-id-4 div.sk-serial {display: flex;flex-direction: column;align-items: center;background-color: white;padding-right: 0.2em;padding-left: 0.2em;position: relative;}#sk-container-id-4 div.sk-item {position: relative;z-index: 1;}#sk-container-id-4 div.sk-parallel {display: flex;align-items: stretch;justify-content: center;background-color: white;position: relative;}#sk-container-id-4 div.sk-item::before, #sk-container-id-4 div.sk-parallel-item::before {content: \"\";position: absolute;border-left: 1px solid gray;box-sizing: border-box;top: 0;bottom: 0;left: 50%;z-index: -1;}#sk-container-id-4 div.sk-parallel-item {display: flex;flex-direction: column;z-index: 1;position: relative;background-color: white;}#sk-container-id-4 div.sk-parallel-item:first-child::after {align-self: flex-end;width: 50%;}#sk-container-id-4 div.sk-parallel-item:last-child::after {align-self: flex-start;width: 50%;}#sk-container-id-4 div.sk-parallel-item:only-child::after {width: 0;}#sk-container-id-4 div.sk-dashed-wrapped {border: 1px dashed gray;margin: 0 0.4em 0.5em 0.4em;box-sizing: border-box;padding-bottom: 0.4em;background-color: white;}#sk-container-id-4 div.sk-label label {font-family: monospace;font-weight: bold;display: inline-block;line-height: 1.2em;}#sk-container-id-4 div.sk-label-container {text-align: center;}#sk-container-id-4 div.sk-container {/* jupyter's `normalize.less` sets `[hidden] { display: none; }` but bootstrap.min.css set `[hidden] { display: none !important; }` so we also need the `!important` here to be able to override the default hidden behavior on the sphinx rendered scikit-learn.org. See: https://github.com/scikit-learn/scikit-learn/issues/21755 */display: inline-block !important;position: relative;}#sk-container-id-4 div.sk-text-repr-fallback {display: none;}</style><div id=\"sk-container-id-4\" class=\"sk-top-container\"><div class=\"sk-text-repr-fallback\"><pre>GridSearchCV(cv=5, estimator=SVC(),\n",
       "             param_grid={&#x27;C&#x27;: [0.1, 1, 10, 100], &#x27;gamma&#x27;: [1, 0.1, 0.01, 0.001],\n",
       "                         &#x27;kernel&#x27;: [&#x27;linear&#x27;, &#x27;rbf&#x27;, &#x27;poly&#x27;]},\n",
       "             scoring=&#x27;accuracy&#x27;)</pre><b>In a Jupyter environment, please rerun this cell to show the HTML representation or trust the notebook. <br />On GitHub, the HTML representation is unable to render, please try loading this page with nbviewer.org.</b></div><div class=\"sk-container\" hidden><div class=\"sk-item sk-dashed-wrapped\"><div class=\"sk-label-container\"><div class=\"sk-label sk-toggleable\"><input class=\"sk-toggleable__control sk-hidden--visually\" id=\"sk-estimator-id-10\" type=\"checkbox\" ><label for=\"sk-estimator-id-10\" class=\"sk-toggleable__label sk-toggleable__label-arrow\">GridSearchCV</label><div class=\"sk-toggleable__content\"><pre>GridSearchCV(cv=5, estimator=SVC(),\n",
       "             param_grid={&#x27;C&#x27;: [0.1, 1, 10, 100], &#x27;gamma&#x27;: [1, 0.1, 0.01, 0.001],\n",
       "                         &#x27;kernel&#x27;: [&#x27;linear&#x27;, &#x27;rbf&#x27;, &#x27;poly&#x27;]},\n",
       "             scoring=&#x27;accuracy&#x27;)</pre></div></div></div><div class=\"sk-parallel\"><div class=\"sk-parallel-item\"><div class=\"sk-item\"><div class=\"sk-label-container\"><div class=\"sk-label sk-toggleable\"><input class=\"sk-toggleable__control sk-hidden--visually\" id=\"sk-estimator-id-11\" type=\"checkbox\" ><label for=\"sk-estimator-id-11\" class=\"sk-toggleable__label sk-toggleable__label-arrow\">estimator: SVC</label><div class=\"sk-toggleable__content\"><pre>SVC()</pre></div></div></div><div class=\"sk-serial\"><div class=\"sk-item\"><div class=\"sk-estimator sk-toggleable\"><input class=\"sk-toggleable__control sk-hidden--visually\" id=\"sk-estimator-id-12\" type=\"checkbox\" ><label for=\"sk-estimator-id-12\" class=\"sk-toggleable__label sk-toggleable__label-arrow\">SVC</label><div class=\"sk-toggleable__content\"><pre>SVC()</pre></div></div></div></div></div></div></div></div></div></div>"
      ],
      "text/plain": [
       "GridSearchCV(cv=5, estimator=SVC(),\n",
       "             param_grid={'C': [0.1, 1, 10, 100], 'gamma': [1, 0.1, 0.01, 0.001],\n",
       "                         'kernel': ['linear', 'rbf', 'poly']},\n",
       "             scoring='accuracy')"
      ]
     },
     "execution_count": 58,
     "metadata": {},
     "output_type": "execute_result"
    }
   ],
   "source": [
    "svc=SVC()\n",
    "params={'C':[0.1,1,10,100],'gamma':[1,0.1,0.01,0.001],'kernel':['linear','rbf','poly']}\n",
    "grid=GridSearchCV(estimator=svc,\n",
    "                  param_grid=params,\n",
    "                  cv=5,\n",
    "                  scoring='accuracy')\n",
    "grid.fit(x_train,y_train)"
   ]
  },
  {
   "cell_type": "code",
   "execution_count": 59,
   "id": "b91808b7",
   "metadata": {
    "execution": {
     "iopub.execute_input": "2024-09-13T22:39:14.615292Z",
     "iopub.status.busy": "2024-09-13T22:39:14.614796Z",
     "iopub.status.idle": "2024-09-13T22:39:14.623106Z",
     "shell.execute_reply": "2024-09-13T22:39:14.621703Z"
    },
    "id": "8Azn5CtCmazU",
    "outputId": "a6f264c9-a82e-4fd2-9e4f-a0144814035b",
    "papermill": {
     "duration": 0.060804,
     "end_time": "2024-09-13T22:39:14.625617",
     "exception": false,
     "start_time": "2024-09-13T22:39:14.564813",
     "status": "completed"
    },
    "tags": []
   },
   "outputs": [
    {
     "data": {
      "text/plain": [
       "{'C': 1, 'gamma': 1, 'kernel': 'rbf'}"
      ]
     },
     "execution_count": 59,
     "metadata": {},
     "output_type": "execute_result"
    }
   ],
   "source": [
    "finall_svc=grid.best_estimator_\n",
    "grid.best_params_"
   ]
  },
  {
   "cell_type": "code",
   "execution_count": 60,
   "id": "3fab39f5",
   "metadata": {
    "execution": {
     "iopub.execute_input": "2024-09-13T22:39:14.725068Z",
     "iopub.status.busy": "2024-09-13T22:39:14.724610Z",
     "iopub.status.idle": "2024-09-13T22:39:15.077992Z",
     "shell.execute_reply": "2024-09-13T22:39:15.075797Z"
    },
    "id": "O-oG4mHgnlXf",
    "outputId": "e1af4112-88b7-42e4-cc37-83003fd83966",
    "papermill": {
     "duration": 0.410938,
     "end_time": "2024-09-13T22:39:15.083549",
     "exception": false,
     "start_time": "2024-09-13T22:39:14.672611",
     "status": "completed"
    },
    "tags": []
   },
   "outputs": [
    {
     "name": "stdout",
     "output_type": "stream",
     "text": [
      "-Train accuracy: 87.46%\n",
      "-Validation accuracy: 78.41%\n",
      "-Test accuracy: 86.82%\n",
      "-F1_Score: 85.99%\n",
      "-Precision: 88.12%\n",
      "-Recall: 83.96%\n",
      "\n",
      "\n"
     ]
    },
    {
     "data": {
      "image/png": "[encoded data removed]",
      "text/plain": [
       "<Figure size 640x480 with 2 Axes>"
      ]
     },
     "metadata": {},
     "output_type": "display_data"
    },
    {
     "name": "stdout",
     "output_type": "stream",
     "text": [
      "-Overfitting with diff: 9.06%\n",
      "\n",
      "xxxxxxxxxxxxxxxxxxxxxxxxxxxxxxx\n",
      "\n"
     ]
    }
   ],
   "source": [
    "check_overfitting(finall_svc,x_train,x_val,x_test)"
   ]
  },
  {
   "cell_type": "code",
   "execution_count": 61,
   "id": "0754da5a",
   "metadata": {
    "execution": {
     "iopub.execute_input": "2024-09-13T22:39:15.185726Z",
     "iopub.status.busy": "2024-09-13T22:39:15.185313Z",
     "iopub.status.idle": "2024-09-13T22:39:15.190754Z",
     "shell.execute_reply": "2024-09-13T22:39:15.189546Z"
    },
    "id": "qb-1cvwgnnjr",
    "papermill": {
     "duration": 0.056447,
     "end_time": "2024-09-13T22:39:15.193362",
     "exception": false,
     "start_time": "2024-09-13T22:39:15.136915",
     "status": "completed"
    },
    "tags": []
   },
   "outputs": [],
   "source": [
    "Name_models.append('SVC')"
   ]
  },
  {
   "cell_type": "code",
   "execution_count": null,
   "id": "7ccb9b95",
   "metadata": {
    "id": "yA1i_MOKnq7D",
    "papermill": {
     "duration": 0.046331,
     "end_time": "2024-09-13T22:39:15.288686",
     "exception": false,
     "start_time": "2024-09-13T22:39:15.242355",
     "status": "completed"
    },
    "tags": []
   },
   "outputs": [],
   "source": []
  },
  {
   "cell_type": "markdown",
   "id": "e1535fac",
   "metadata": {
    "id": "4UZ_OUIUnrnZ",
    "papermill": {
     "duration": 0.048595,
     "end_time": "2024-09-13T22:39:15.386731",
     "exception": false,
     "start_time": "2024-09-13T22:39:15.338136",
     "status": "completed"
    },
    "tags": []
   },
   "source": [
    "#5- KNN"
   ]
  },
  {
   "cell_type": "code",
   "execution_count": 62,
   "id": "f780dfb4",
   "metadata": {
    "execution": {
     "iopub.execute_input": "2024-09-13T22:39:15.485371Z",
     "iopub.status.busy": "2024-09-13T22:39:15.484874Z",
     "iopub.status.idle": "2024-09-13T22:39:15.508540Z",
     "shell.execute_reply": "2024-09-13T22:39:15.507279Z"
    },
    "id": "aHhXq-uyuaJg",
    "papermill": {
     "duration": 0.077457,
     "end_time": "2024-09-13T22:39:15.511536",
     "exception": false,
     "start_time": "2024-09-13T22:39:15.434079",
     "status": "completed"
    },
    "tags": []
   },
   "outputs": [],
   "source": [
    "\n",
    "\n",
    "from sklearn.decomposition import PCA\n",
    "pca=PCA(n_components=6)\n",
    "x_train_pca=pca.fit_transform(x_train)\n",
    "x_val_pca=pca.transform(x_val)\n",
    "x_test_pca=pca.transform(x_test)\n",
    "#diff: 18  become: 16"
   ]
  },
  {
   "cell_type": "code",
   "execution_count": 63,
   "id": "ae29c25f",
   "metadata": {
    "execution": {
     "iopub.execute_input": "2024-09-13T22:39:15.612214Z",
     "iopub.status.busy": "2024-09-13T22:39:15.611746Z",
     "iopub.status.idle": "2024-09-13T22:39:20.751121Z",
     "shell.execute_reply": "2024-09-13T22:39:20.750101Z"
    },
    "id": "9M5F-X8SnuS0",
    "outputId": "38a0a440-7241-488d-dd24-2fd0e50beeaa",
    "papermill": {
     "duration": 5.19437,
     "end_time": "2024-09-13T22:39:20.753899",
     "exception": false,
     "start_time": "2024-09-13T22:39:15.559529",
     "status": "completed"
    },
    "tags": []
   },
   "outputs": [
    {
     "data": {
      "text/html": [
       "<style>#sk-container-id-5 {color: black;background-color: white;}#sk-container-id-5 pre{padding: 0;}#sk-container-id-5 div.sk-toggleable {background-color: white;}#sk-container-id-5 label.sk-toggleable__label {cursor: pointer;display: block;width: 100%;margin-bottom: 0;padding: 0.3em;box-sizing: border-box;text-align: center;}#sk-container-id-5 label.sk-toggleable__label-arrow:before {content: \"▸\";float: left;margin-right: 0.25em;color: #696969;}#sk-container-id-5 label.sk-toggleable__label-arrow:hover:before {color: black;}#sk-container-id-5 div.sk-estimator:hover label.sk-toggleable__label-arrow:before {color: black;}#sk-container-id-5 div.sk-toggleable__content {max-height: 0;max-width: 0;overflow: hidden;text-align: left;background-color: #f0f8ff;}#sk-container-id-5 div.sk-toggleable__content pre {margin: 0.2em;color: black;border-radius: 0.25em;background-color: #f0f8ff;}#sk-container-id-5 input.sk-toggleable__control:checked~div.sk-toggleable__content {max-height: 200px;max-width: 100%;overflow: auto;}#sk-container-id-5 input.sk-toggleable__control:checked~label.sk-toggleable__label-arrow:before {content: \"▾\";}#sk-container-id-5 div.sk-estimator input.sk-toggleable__control:checked~label.sk-toggleable__label {background-color: #d4ebff;}#sk-container-id-5 div.sk-label input.sk-toggleable__control:checked~label.sk-toggleable__label {background-color: #d4ebff;}#sk-container-id-5 input.sk-hidden--visually {border: 0;clip: rect(1px 1px 1px 1px);clip: rect(1px, 1px, 1px, 1px);height: 1px;margin: -1px;overflow: hidden;padding: 0;position: absolute;width: 1px;}#sk-container-id-5 div.sk-estimator {font-family: monospace;background-color: #f0f8ff;border: 1px dotted black;border-radius: 0.25em;box-sizing: border-box;margin-bottom: 0.5em;}#sk-container-id-5 div.sk-estimator:hover {background-color: #d4ebff;}#sk-container-id-5 div.sk-parallel-item::after {content: \"\";width: 100%;border-bottom: 1px solid gray;flex-grow: 1;}#sk-container-id-5 div.sk-label:hover label.sk-toggleable__label {background-color: #d4ebff;}#sk-container-id-5 div.sk-serial::before {content: \"\";position: absolute;border-left: 1px solid gray;box-sizing: border-box;top: 0;bottom: 0;left: 50%;z-index: 0;}#sk-container-id-5 div.sk-serial {display: flex;flex-direction: column;align-items: center;background-color: white;padding-right: 0.2em;padding-left: 0.2em;position: relative;}#sk-container-id-5 div.sk-item {position: relative;z-index: 1;}#sk-container-id-5 div.sk-parallel {display: flex;align-items: stretch;justify-content: center;background-color: white;position: relative;}#sk-container-id-5 div.sk-item::before, #sk-container-id-5 div.sk-parallel-item::before {content: \"\";position: absolute;border-left: 1px solid gray;box-sizing: border-box;top: 0;bottom: 0;left: 50%;z-index: -1;}#sk-container-id-5 div.sk-parallel-item {display: flex;flex-direction: column;z-index: 1;position: relative;background-color: white;}#sk-container-id-5 div.sk-parallel-item:first-child::after {align-self: flex-end;width: 50%;}#sk-container-id-5 div.sk-parallel-item:last-child::after {align-self: flex-start;width: 50%;}#sk-container-id-5 div.sk-parallel-item:only-child::after {width: 0;}#sk-container-id-5 div.sk-dashed-wrapped {border: 1px dashed gray;margin: 0 0.4em 0.5em 0.4em;box-sizing: border-box;padding-bottom: 0.4em;background-color: white;}#sk-container-id-5 div.sk-label label {font-family: monospace;font-weight: bold;display: inline-block;line-height: 1.2em;}#sk-container-id-5 div.sk-label-container {text-align: center;}#sk-container-id-5 div.sk-container {/* jupyter's `normalize.less` sets `[hidden] { display: none; }` but bootstrap.min.css set `[hidden] { display: none !important; }` so we also need the `!important` here to be able to override the default hidden behavior on the sphinx rendered scikit-learn.org. See: https://github.com/scikit-learn/scikit-learn/issues/21755 */display: inline-block !important;position: relative;}#sk-container-id-5 div.sk-text-repr-fallback {display: none;}</style><div id=\"sk-container-id-5\" class=\"sk-top-container\"><div class=\"sk-text-repr-fallback\"><pre>GridSearchCV(cv=5, estimator=KNeighborsClassifier(),\n",
       "             param_grid={&#x27;algorithm&#x27;: [&#x27;auto&#x27;, &#x27;ball_tree&#x27;, &#x27;kd_tree&#x27;, &#x27;brute&#x27;],\n",
       "                         &#x27;n_neighbors&#x27;: [1, 3, 5, 7, 9, 11, 13, 15, 17],\n",
       "                         &#x27;weights&#x27;: [&#x27;uniform&#x27;, &#x27;distance&#x27;]},\n",
       "             scoring=&#x27;accuracy&#x27;)</pre><b>In a Jupyter environment, please rerun this cell to show the HTML representation or trust the notebook. <br />On GitHub, the HTML representation is unable to render, please try loading this page with nbviewer.org.</b></div><div class=\"sk-container\" hidden><div class=\"sk-item sk-dashed-wrapped\"><div class=\"sk-label-container\"><div class=\"sk-label sk-toggleable\"><input class=\"sk-toggleable__control sk-hidden--visually\" id=\"sk-estimator-id-13\" type=\"checkbox\" ><label for=\"sk-estimator-id-13\" class=\"sk-toggleable__label sk-toggleable__label-arrow\">GridSearchCV</label><div class=\"sk-toggleable__content\"><pre>GridSearchCV(cv=5, estimator=KNeighborsClassifier(),\n",
       "             param_grid={&#x27;algorithm&#x27;: [&#x27;auto&#x27;, &#x27;ball_tree&#x27;, &#x27;kd_tree&#x27;, &#x27;brute&#x27;],\n",
       "                         &#x27;n_neighbors&#x27;: [1, 3, 5, 7, 9, 11, 13, 15, 17],\n",
       "                         &#x27;weights&#x27;: [&#x27;uniform&#x27;, &#x27;distance&#x27;]},\n",
       "             scoring=&#x27;accuracy&#x27;)</pre></div></div></div><div class=\"sk-parallel\"><div class=\"sk-parallel-item\"><div class=\"sk-item\"><div class=\"sk-label-container\"><div class=\"sk-label sk-toggleable\"><input class=\"sk-toggleable__control sk-hidden--visually\" id=\"sk-estimator-id-14\" type=\"checkbox\" ><label for=\"sk-estimator-id-14\" class=\"sk-toggleable__label sk-toggleable__label-arrow\">estimator: KNeighborsClassifier</label><div class=\"sk-toggleable__content\"><pre>KNeighborsClassifier()</pre></div></div></div><div class=\"sk-serial\"><div class=\"sk-item\"><div class=\"sk-estimator sk-toggleable\"><input class=\"sk-toggleable__control sk-hidden--visually\" id=\"sk-estimator-id-15\" type=\"checkbox\" ><label for=\"sk-estimator-id-15\" class=\"sk-toggleable__label sk-toggleable__label-arrow\">KNeighborsClassifier</label><div class=\"sk-toggleable__content\"><pre>KNeighborsClassifier()</pre></div></div></div></div></div></div></div></div></div></div>"
      ],
      "text/plain": [
       "GridSearchCV(cv=5, estimator=KNeighborsClassifier(),\n",
       "             param_grid={'algorithm': ['auto', 'ball_tree', 'kd_tree', 'brute'],\n",
       "                         'n_neighbors': [1, 3, 5, 7, 9, 11, 13, 15, 17],\n",
       "                         'weights': ['uniform', 'distance']},\n",
       "             scoring='accuracy')"
      ]
     },
     "execution_count": 63,
     "metadata": {},
     "output_type": "execute_result"
    }
   ],
   "source": [
    "\n",
    "knn=KNeighborsClassifier()\n",
    "\n",
    "params={'n_neighbors':[1,3,5,7,9,11,13,15,17],'weights':['uniform','distance'],'algorithm':['auto','ball_tree','kd_tree','brute']}\n",
    "grid=GridSearchCV(estimator=knn,\n",
    "                  param_grid=params,\n",
    "                  cv=5,\n",
    "                  scoring='accuracy')\n",
    "grid.fit(x_train_pca,y_train)"
   ]
  },
  {
   "cell_type": "code",
   "execution_count": 64,
   "id": "1c35d293",
   "metadata": {
    "execution": {
     "iopub.execute_input": "2024-09-13T22:39:20.854888Z",
     "iopub.status.busy": "2024-09-13T22:39:20.854454Z",
     "iopub.status.idle": "2024-09-13T22:39:20.863470Z",
     "shell.execute_reply": "2024-09-13T22:39:20.862087Z"
    },
    "id": "JwewTY7CoEDy",
    "outputId": "9dc6209f-3cf4-4863-fce1-83c667683107",
    "papermill": {
     "duration": 0.062491,
     "end_time": "2024-09-13T22:39:20.866236",
     "exception": false,
     "start_time": "2024-09-13T22:39:20.803745",
     "status": "completed"
    },
    "tags": []
   },
   "outputs": [
    {
     "data": {
      "text/plain": [
       "{'algorithm': 'auto', 'n_neighbors': 13, 'weights': 'distance'}"
      ]
     },
     "execution_count": 64,
     "metadata": {},
     "output_type": "execute_result"
    }
   ],
   "source": [
    "finall_knn=grid.best_estimator_\n",
    "grid.best_params_"
   ]
  },
  {
   "cell_type": "code",
   "execution_count": 65,
   "id": "626fc6f2",
   "metadata": {
    "execution": {
     "iopub.execute_input": "2024-09-13T22:39:20.966233Z",
     "iopub.status.busy": "2024-09-13T22:39:20.965755Z",
     "iopub.status.idle": "2024-09-13T22:39:21.292675Z",
     "shell.execute_reply": "2024-09-13T22:39:21.291287Z"
    },
    "id": "oB9qCixQoqBT",
    "outputId": "d4d49f66-f6d0-41f6-f68b-48f8a4e3ce97",
    "papermill": {
     "duration": 0.379802,
     "end_time": "2024-09-13T22:39:21.295194",
     "exception": false,
     "start_time": "2024-09-13T22:39:20.915392",
     "status": "completed"
    },
    "tags": []
   },
   "outputs": [
    {
     "name": "stdout",
     "output_type": "stream",
     "text": [
      "-Train accuracy: 97.58%\n",
      "-Validation accuracy: 81.25%\n",
      "-Test accuracy: 82.73%\n",
      "-F1_Score: 82.57%\n",
      "-Precision: 80.36%\n",
      "-Recall: 84.91%\n",
      "\n",
      "\n"
     ]
    },
    {
     "data": {
      "image/png": "[encoded data removed]",
      "text/plain": [
       "<Figure size 640x480 with 2 Axes>"
      ]
     },
     "metadata": {},
     "output_type": "display_data"
    },
    {
     "name": "stdout",
     "output_type": "stream",
     "text": [
      "-Overfitting with diff: 16.33%\n",
      "\n",
      "xxxxxxxxxxxxxxxxxxxxxxxxxxxxxxx\n",
      "\n"
     ]
    }
   ],
   "source": [
    "check_overfitting(finall_knn,x_train_pca,x_val_pca,x_test_pca)"
   ]
  },
  {
   "cell_type": "code",
   "execution_count": 66,
   "id": "25a36388",
   "metadata": {
    "execution": {
     "iopub.execute_input": "2024-09-13T22:39:21.396392Z",
     "iopub.status.busy": "2024-09-13T22:39:21.395914Z",
     "iopub.status.idle": "2024-09-13T22:39:21.401813Z",
     "shell.execute_reply": "2024-09-13T22:39:21.400430Z"
    },
    "id": "l98UWNdlosNS",
    "papermill": {
     "duration": 0.058808,
     "end_time": "2024-09-13T22:39:21.404605",
     "exception": false,
     "start_time": "2024-09-13T22:39:21.345797",
     "status": "completed"
    },
    "tags": []
   },
   "outputs": [],
   "source": [
    "Name_models.append('KNN')"
   ]
  },
  {
   "cell_type": "code",
   "execution_count": null,
   "id": "8d269417",
   "metadata": {
    "id": "br4id6_xovlz",
    "papermill": {
     "duration": 0.050499,
     "end_time": "2024-09-13T22:39:21.503297",
     "exception": false,
     "start_time": "2024-09-13T22:39:21.452798",
     "status": "completed"
    },
    "tags": []
   },
   "outputs": [],
   "source": []
  },
  {
   "cell_type": "markdown",
   "id": "2052798f",
   "metadata": {
    "id": "RXTrX7pco6jQ",
    "papermill": {
     "duration": 0.047944,
     "end_time": "2024-09-13T22:39:21.600603",
     "exception": false,
     "start_time": "2024-09-13T22:39:21.552659",
     "status": "completed"
    },
    "tags": []
   },
   "source": [
    "#6- Random forest"
   ]
  },
  {
   "cell_type": "code",
   "execution_count": 67,
   "id": "a450187f",
   "metadata": {
    "execution": {
     "iopub.execute_input": "2024-09-13T22:39:21.699371Z",
     "iopub.status.busy": "2024-09-13T22:39:21.698866Z",
     "iopub.status.idle": "2024-09-13T22:49:21.059338Z",
     "shell.execute_reply": "2024-09-13T22:49:21.058098Z"
    },
    "id": "ygeEwnIUpCPN",
    "outputId": "3f065a39-35b1-4f05-a2fc-336ad76af87d",
    "papermill": {
     "duration": 599.461057,
     "end_time": "2024-09-13T22:49:21.109844",
     "exception": false,
     "start_time": "2024-09-13T22:39:21.648787",
     "status": "completed"
    },
    "tags": []
   },
   "outputs": [
    {
     "data": {
      "text/html": [
       "<style>#sk-container-id-6 {color: black;background-color: white;}#sk-container-id-6 pre{padding: 0;}#sk-container-id-6 div.sk-toggleable {background-color: white;}#sk-container-id-6 label.sk-toggleable__label {cursor: pointer;display: block;width: 100%;margin-bottom: 0;padding: 0.3em;box-sizing: border-box;text-align: center;}#sk-container-id-6 label.sk-toggleable__label-arrow:before {content: \"▸\";float: left;margin-right: 0.25em;color: #696969;}#sk-container-id-6 label.sk-toggleable__label-arrow:hover:before {color: black;}#sk-container-id-6 div.sk-estimator:hover label.sk-toggleable__label-arrow:before {color: black;}#sk-container-id-6 div.sk-toggleable__content {max-height: 0;max-width: 0;overflow: hidden;text-align: left;background-color: #f0f8ff;}#sk-container-id-6 div.sk-toggleable__content pre {margin: 0.2em;color: black;border-radius: 0.25em;background-color: #f0f8ff;}#sk-container-id-6 input.sk-toggleable__control:checked~div.sk-toggleable__content {max-height: 200px;max-width: 100%;overflow: auto;}#sk-container-id-6 input.sk-toggleable__control:checked~label.sk-toggleable__label-arrow:before {content: \"▾\";}#sk-container-id-6 div.sk-estimator input.sk-toggleable__control:checked~label.sk-toggleable__label {background-color: #d4ebff;}#sk-container-id-6 div.sk-label input.sk-toggleable__control:checked~label.sk-toggleable__label {background-color: #d4ebff;}#sk-container-id-6 input.sk-hidden--visually {border: 0;clip: rect(1px 1px 1px 1px);clip: rect(1px, 1px, 1px, 1px);height: 1px;margin: -1px;overflow: hidden;padding: 0;position: absolute;width: 1px;}#sk-container-id-6 div.sk-estimator {font-family: monospace;background-color: #f0f8ff;border: 1px dotted black;border-radius: 0.25em;box-sizing: border-box;margin-bottom: 0.5em;}#sk-container-id-6 div.sk-estimator:hover {background-color: #d4ebff;}#sk-container-id-6 div.sk-parallel-item::after {content: \"\";width: 100%;border-bottom: 1px solid gray;flex-grow: 1;}#sk-container-id-6 div.sk-label:hover label.sk-toggleable__label {background-color: #d4ebff;}#sk-container-id-6 div.sk-serial::before {content: \"\";position: absolute;border-left: 1px solid gray;box-sizing: border-box;top: 0;bottom: 0;left: 50%;z-index: 0;}#sk-container-id-6 div.sk-serial {display: flex;flex-direction: column;align-items: center;background-color: white;padding-right: 0.2em;padding-left: 0.2em;position: relative;}#sk-container-id-6 div.sk-item {position: relative;z-index: 1;}#sk-container-id-6 div.sk-parallel {display: flex;align-items: stretch;justify-content: center;background-color: white;position: relative;}#sk-container-id-6 div.sk-item::before, #sk-container-id-6 div.sk-parallel-item::before {content: \"\";position: absolute;border-left: 1px solid gray;box-sizing: border-box;top: 0;bottom: 0;left: 50%;z-index: -1;}#sk-container-id-6 div.sk-parallel-item {display: flex;flex-direction: column;z-index: 1;position: relative;background-color: white;}#sk-container-id-6 div.sk-parallel-item:first-child::after {align-self: flex-end;width: 50%;}#sk-container-id-6 div.sk-parallel-item:last-child::after {align-self: flex-start;width: 50%;}#sk-container-id-6 div.sk-parallel-item:only-child::after {width: 0;}#sk-container-id-6 div.sk-dashed-wrapped {border: 1px dashed gray;margin: 0 0.4em 0.5em 0.4em;box-sizing: border-box;padding-bottom: 0.4em;background-color: white;}#sk-container-id-6 div.sk-label label {font-family: monospace;font-weight: bold;display: inline-block;line-height: 1.2em;}#sk-container-id-6 div.sk-label-container {text-align: center;}#sk-container-id-6 div.sk-container {/* jupyter's `normalize.less` sets `[hidden] { display: none; }` but bootstrap.min.css set `[hidden] { display: none !important; }` so we also need the `!important` here to be able to override the default hidden behavior on the sphinx rendered scikit-learn.org. See: https://github.com/scikit-learn/scikit-learn/issues/21755 */display: inline-block !important;position: relative;}#sk-container-id-6 div.sk-text-repr-fallback {display: none;}</style><div id=\"sk-container-id-6\" class=\"sk-top-container\"><div class=\"sk-text-repr-fallback\"><pre>GridSearchCV(cv=5, estimator=RandomForestClassifier(random_state=42),\n",
       "             param_grid={&#x27;max_depth&#x27;: [1, 2, 3, 4, 5, 6, 7, 8, 9, 10],\n",
       "                         &#x27;min_samples_leaf&#x27;: [1, 2, 4],\n",
       "                         &#x27;min_samples_split&#x27;: [2, 5, 10],\n",
       "                         &#x27;n_estimators&#x27;: [10, 50, 100, 150, 200]},\n",
       "             scoring=&#x27;accuracy&#x27;)</pre><b>In a Jupyter environment, please rerun this cell to show the HTML representation or trust the notebook. <br />On GitHub, the HTML representation is unable to render, please try loading this page with nbviewer.org.</b></div><div class=\"sk-container\" hidden><div class=\"sk-item sk-dashed-wrapped\"><div class=\"sk-label-container\"><div class=\"sk-label sk-toggleable\"><input class=\"sk-toggleable__control sk-hidden--visually\" id=\"sk-estimator-id-16\" type=\"checkbox\" ><label for=\"sk-estimator-id-16\" class=\"sk-toggleable__label sk-toggleable__label-arrow\">GridSearchCV</label><div class=\"sk-toggleable__content\"><pre>GridSearchCV(cv=5, estimator=RandomForestClassifier(random_state=42),\n",
       "             param_grid={&#x27;max_depth&#x27;: [1, 2, 3, 4, 5, 6, 7, 8, 9, 10],\n",
       "                         &#x27;min_samples_leaf&#x27;: [1, 2, 4],\n",
       "                         &#x27;min_samples_split&#x27;: [2, 5, 10],\n",
       "                         &#x27;n_estimators&#x27;: [10, 50, 100, 150, 200]},\n",
       "             scoring=&#x27;accuracy&#x27;)</pre></div></div></div><div class=\"sk-parallel\"><div class=\"sk-parallel-item\"><div class=\"sk-item\"><div class=\"sk-label-container\"><div class=\"sk-label sk-toggleable\"><input class=\"sk-toggleable__control sk-hidden--visually\" id=\"sk-estimator-id-17\" type=\"checkbox\" ><label for=\"sk-estimator-id-17\" class=\"sk-toggleable__label sk-toggleable__label-arrow\">estimator: RandomForestClassifier</label><div class=\"sk-toggleable__content\"><pre>RandomForestClassifier(random_state=42)</pre></div></div></div><div class=\"sk-serial\"><div class=\"sk-item\"><div class=\"sk-estimator sk-toggleable\"><input class=\"sk-toggleable__control sk-hidden--visually\" id=\"sk-estimator-id-18\" type=\"checkbox\" ><label for=\"sk-estimator-id-18\" class=\"sk-toggleable__label sk-toggleable__label-arrow\">RandomForestClassifier</label><div class=\"sk-toggleable__content\"><pre>RandomForestClassifier(random_state=42)</pre></div></div></div></div></div></div></div></div></div></div>"
      ],
      "text/plain": [
       "GridSearchCV(cv=5, estimator=RandomForestClassifier(random_state=42),\n",
       "             param_grid={'max_depth': [1, 2, 3, 4, 5, 6, 7, 8, 9, 10],\n",
       "                         'min_samples_leaf': [1, 2, 4],\n",
       "                         'min_samples_split': [2, 5, 10],\n",
       "                         'n_estimators': [10, 50, 100, 150, 200]},\n",
       "             scoring='accuracy')"
      ]
     },
     "execution_count": 67,
     "metadata": {},
     "output_type": "execute_result"
    }
   ],
   "source": [
    "random_forest=RandomForestClassifier(random_state=42)\n",
    "params={'n_estimators':[10,50,100,150,200],'max_depth':[1,2,3,4,5,6,7,8,9,10],'min_samples_split': [2, 5, 10],'min_samples_leaf': [1, 2, 4]}\n",
    "grid=GridSearchCV(estimator=random_forest,\n",
    "                  param_grid=params,\n",
    "                  cv=5,\n",
    "                  scoring='accuracy')\n",
    "grid.fit(x_train,y_train)"
   ]
  },
  {
   "cell_type": "code",
   "execution_count": 68,
   "id": "78c0f600",
   "metadata": {
    "execution": {
     "iopub.execute_input": "2024-09-13T22:49:21.208397Z",
     "iopub.status.busy": "2024-09-13T22:49:21.206907Z",
     "iopub.status.idle": "2024-09-13T22:49:21.215569Z",
     "shell.execute_reply": "2024-09-13T22:49:21.214362Z"
    },
    "id": "vAqc8VUopUmd",
    "outputId": "128da821-5e18-4dcf-f872-55147535b09c",
    "papermill": {
     "duration": 0.06076,
     "end_time": "2024-09-13T22:49:21.218369",
     "exception": false,
     "start_time": "2024-09-13T22:49:21.157609",
     "status": "completed"
    },
    "tags": []
   },
   "outputs": [
    {
     "data": {
      "text/plain": [
       "{'max_depth': 10,\n",
       " 'min_samples_leaf': 1,\n",
       " 'min_samples_split': 2,\n",
       " 'n_estimators': 50}"
      ]
     },
     "execution_count": 68,
     "metadata": {},
     "output_type": "execute_result"
    }
   ],
   "source": [
    "finall_random_forest=grid.best_estimator_\n",
    "grid.best_params_"
   ]
  },
  {
   "cell_type": "code",
   "execution_count": 69,
   "id": "214b5b40",
   "metadata": {
    "execution": {
     "iopub.execute_input": "2024-09-13T22:49:21.318084Z",
     "iopub.status.busy": "2024-09-13T22:49:21.317635Z",
     "iopub.status.idle": "2024-09-13T22:49:21.796711Z",
     "shell.execute_reply": "2024-09-13T22:49:21.795358Z"
    },
    "id": "XsndP1japqk5",
    "outputId": "c7a8500b-cbbc-42cd-cd99-cfdaa633b918",
    "papermill": {
     "duration": 0.532212,
     "end_time": "2024-09-13T22:49:21.799467",
     "exception": false,
     "start_time": "2024-09-13T22:49:21.267255",
     "status": "completed"
    },
    "tags": []
   },
   "outputs": [
    {
     "name": "stdout",
     "output_type": "stream",
     "text": [
      "-Train accuracy: 95.01%\n",
      "-Validation accuracy: 82.39%\n",
      "-Test accuracy: 82.73%\n",
      "-F1_Score: 81.55%\n",
      "-Precision: 84.00%\n",
      "-Recall: 79.25%\n",
      "\n",
      "\n"
     ]
    },
    {
     "data": {
      "image/png": "[encoded data removed]",
      "text/plain": [
       "<Figure size 640x480 with 2 Axes>"
      ]
     },
     "metadata": {},
     "output_type": "display_data"
    },
    {
     "name": "stdout",
     "output_type": "stream",
     "text": [
      "-Overfitting with diff: 12.63%\n",
      "\n",
      "xxxxxxxxxxxxxxxxxxxxxxxxxxxxxxx\n",
      "\n"
     ]
    }
   ],
   "source": [
    "check_overfitting(finall_random_forest,x_train,x_val,x_test)"
   ]
  },
  {
   "cell_type": "code",
   "execution_count": 70,
   "id": "ebf9f2eb",
   "metadata": {
    "execution": {
     "iopub.execute_input": "2024-09-13T22:49:21.901324Z",
     "iopub.status.busy": "2024-09-13T22:49:21.900848Z",
     "iopub.status.idle": "2024-09-13T22:49:21.906572Z",
     "shell.execute_reply": "2024-09-13T22:49:21.905275Z"
    },
    "id": "7l24J4sspsgn",
    "papermill": {
     "duration": 0.060199,
     "end_time": "2024-09-13T22:49:21.909259",
     "exception": false,
     "start_time": "2024-09-13T22:49:21.849060",
     "status": "completed"
    },
    "tags": []
   },
   "outputs": [],
   "source": [
    "Name_models.append('Random Forest')"
   ]
  },
  {
   "cell_type": "code",
   "execution_count": null,
   "id": "e3793a3f",
   "metadata": {
    "id": "_cq29Bi-puZi",
    "papermill": {
     "duration": 0.050209,
     "end_time": "2024-09-13T22:49:22.020536",
     "exception": false,
     "start_time": "2024-09-13T22:49:21.970327",
     "status": "completed"
    },
    "tags": []
   },
   "outputs": [],
   "source": []
  },
  {
   "cell_type": "markdown",
   "id": "959c76cc",
   "metadata": {
    "id": "goCVBxBhwV59",
    "papermill": {
     "duration": 0.050342,
     "end_time": "2024-09-13T22:49:22.121709",
     "exception": false,
     "start_time": "2024-09-13T22:49:22.071367",
     "status": "completed"
    },
    "tags": []
   },
   "source": [
    "#7- XGBoost"
   ]
  },
  {
   "cell_type": "code",
   "execution_count": 71,
   "id": "68f5f7e9",
   "metadata": {
    "execution": {
     "iopub.execute_input": "2024-09-13T22:49:22.231584Z",
     "iopub.status.busy": "2024-09-13T22:49:22.230943Z",
     "iopub.status.idle": "2024-09-13T22:49:22.564073Z",
     "shell.execute_reply": "2024-09-13T22:49:22.562509Z"
    },
    "id": "rt3FDAydz1jH",
    "outputId": "f4626095-c966-4f2b-9e59-0784f821f9cf",
    "papermill": {
     "duration": 0.389749,
     "end_time": "2024-09-13T22:49:22.567163",
     "exception": false,
     "start_time": "2024-09-13T22:49:22.177414",
     "status": "completed"
    },
    "tags": []
   },
   "outputs": [
    {
     "data": {
      "text/html": [
       "<style>#sk-container-id-7 {color: black;background-color: white;}#sk-container-id-7 pre{padding: 0;}#sk-container-id-7 div.sk-toggleable {background-color: white;}#sk-container-id-7 label.sk-toggleable__label {cursor: pointer;display: block;width: 100%;margin-bottom: 0;padding: 0.3em;box-sizing: border-box;text-align: center;}#sk-container-id-7 label.sk-toggleable__label-arrow:before {content: \"▸\";float: left;margin-right: 0.25em;color: #696969;}#sk-container-id-7 label.sk-toggleable__label-arrow:hover:before {color: black;}#sk-container-id-7 div.sk-estimator:hover label.sk-toggleable__label-arrow:before {color: black;}#sk-container-id-7 div.sk-toggleable__content {max-height: 0;max-width: 0;overflow: hidden;text-align: left;background-color: #f0f8ff;}#sk-container-id-7 div.sk-toggleable__content pre {margin: 0.2em;color: black;border-radius: 0.25em;background-color: #f0f8ff;}#sk-container-id-7 input.sk-toggleable__control:checked~div.sk-toggleable__content {max-height: 200px;max-width: 100%;overflow: auto;}#sk-container-id-7 input.sk-toggleable__control:checked~label.sk-toggleable__label-arrow:before {content: \"▾\";}#sk-container-id-7 div.sk-estimator input.sk-toggleable__control:checked~label.sk-toggleable__label {background-color: #d4ebff;}#sk-container-id-7 div.sk-label input.sk-toggleable__control:checked~label.sk-toggleable__label {background-color: #d4ebff;}#sk-container-id-7 input.sk-hidden--visually {border: 0;clip: rect(1px 1px 1px 1px);clip: rect(1px, 1px, 1px, 1px);height: 1px;margin: -1px;overflow: hidden;padding: 0;position: absolute;width: 1px;}#sk-container-id-7 div.sk-estimator {font-family: monospace;background-color: #f0f8ff;border: 1px dotted black;border-radius: 0.25em;box-sizing: border-box;margin-bottom: 0.5em;}#sk-container-id-7 div.sk-estimator:hover {background-color: #d4ebff;}#sk-container-id-7 div.sk-parallel-item::after {content: \"\";width: 100%;border-bottom: 1px solid gray;flex-grow: 1;}#sk-container-id-7 div.sk-label:hover label.sk-toggleable__label {background-color: #d4ebff;}#sk-container-id-7 div.sk-serial::before {content: \"\";position: absolute;border-left: 1px solid gray;box-sizing: border-box;top: 0;bottom: 0;left: 50%;z-index: 0;}#sk-container-id-7 div.sk-serial {display: flex;flex-direction: column;align-items: center;background-color: white;padding-right: 0.2em;padding-left: 0.2em;position: relative;}#sk-container-id-7 div.sk-item {position: relative;z-index: 1;}#sk-container-id-7 div.sk-parallel {display: flex;align-items: stretch;justify-content: center;background-color: white;position: relative;}#sk-container-id-7 div.sk-item::before, #sk-container-id-7 div.sk-parallel-item::before {content: \"\";position: absolute;border-left: 1px solid gray;box-sizing: border-box;top: 0;bottom: 0;left: 50%;z-index: -1;}#sk-container-id-7 div.sk-parallel-item {display: flex;flex-direction: column;z-index: 1;position: relative;background-color: white;}#sk-container-id-7 div.sk-parallel-item:first-child::after {align-self: flex-end;width: 50%;}#sk-container-id-7 div.sk-parallel-item:last-child::after {align-self: flex-start;width: 50%;}#sk-container-id-7 div.sk-parallel-item:only-child::after {width: 0;}#sk-container-id-7 div.sk-dashed-wrapped {border: 1px dashed gray;margin: 0 0.4em 0.5em 0.4em;box-sizing: border-box;padding-bottom: 0.4em;background-color: white;}#sk-container-id-7 div.sk-label label {font-family: monospace;font-weight: bold;display: inline-block;line-height: 1.2em;}#sk-container-id-7 div.sk-label-container {text-align: center;}#sk-container-id-7 div.sk-container {/* jupyter's `normalize.less` sets `[hidden] { display: none; }` but bootstrap.min.css set `[hidden] { display: none !important; }` so we also need the `!important` here to be able to override the default hidden behavior on the sphinx rendered scikit-learn.org. See: https://github.com/scikit-learn/scikit-learn/issues/21755 */display: inline-block !important;position: relative;}#sk-container-id-7 div.sk-text-repr-fallback {display: none;}</style><div id=\"sk-container-id-7\" class=\"sk-top-container\"><div class=\"sk-text-repr-fallback\"><pre>XGBClassifier(base_score=None, booster=None, callbacks=None,\n",
       "              colsample_bylevel=None, colsample_bynode=None,\n",
       "              colsample_bytree=None, device=None, early_stopping_rounds=None,\n",
       "              enable_categorical=False, eval_metric=None, feature_types=None,\n",
       "              gamma=None, grow_policy=None, importance_type=None,\n",
       "              interaction_constraints=None, learning_rate=0.01, max_bin=None,\n",
       "              max_cat_threshold=None, max_cat_to_onehot=None,\n",
       "              max_delta_step=None, max_depth=5, max_leaves=None,\n",
       "              min_child_weight=None, missing=nan, monotone_constraints=None,\n",
       "              multi_strategy=None, n_estimators=100, n_jobs=None,\n",
       "              num_parallel_tree=None, random_state=42, ...)</pre><b>In a Jupyter environment, please rerun this cell to show the HTML representation or trust the notebook. <br />On GitHub, the HTML representation is unable to render, please try loading this page with nbviewer.org.</b></div><div class=\"sk-container\" hidden><div class=\"sk-item\"><div class=\"sk-estimator sk-toggleable\"><input class=\"sk-toggleable__control sk-hidden--visually\" id=\"sk-estimator-id-19\" type=\"checkbox\" checked><label for=\"sk-estimator-id-19\" class=\"sk-toggleable__label sk-toggleable__label-arrow\">XGBClassifier</label><div class=\"sk-toggleable__content\"><pre>XGBClassifier(base_score=None, booster=None, callbacks=None,\n",
       "              colsample_bylevel=None, colsample_bynode=None,\n",
       "              colsample_bytree=None, device=None, early_stopping_rounds=None,\n",
       "              enable_categorical=False, eval_metric=None, feature_types=None,\n",
       "              gamma=None, grow_policy=None, importance_type=None,\n",
       "              interaction_constraints=None, learning_rate=0.01, max_bin=None,\n",
       "              max_cat_threshold=None, max_cat_to_onehot=None,\n",
       "              max_delta_step=None, max_depth=5, max_leaves=None,\n",
       "              min_child_weight=None, missing=nan, monotone_constraints=None,\n",
       "              multi_strategy=None, n_estimators=100, n_jobs=None,\n",
       "              num_parallel_tree=None, random_state=42, ...)</pre></div></div></div></div></div>"
      ],
      "text/plain": [
       "XGBClassifier(base_score=None, booster=None, callbacks=None,\n",
       "              colsample_bylevel=None, colsample_bynode=None,\n",
       "              colsample_bytree=None, device=None, early_stopping_rounds=None,\n",
       "              enable_categorical=False, eval_metric=None, feature_types=None,\n",
       "              gamma=None, grow_policy=None, importance_type=None,\n",
       "              interaction_constraints=None, learning_rate=0.01, max_bin=None,\n",
       "              max_cat_threshold=None, max_cat_to_onehot=None,\n",
       "              max_delta_step=None, max_depth=5, max_leaves=None,\n",
       "              min_child_weight=None, missing=nan, monotone_constraints=None,\n",
       "              multi_strategy=None, n_estimators=100, n_jobs=None,\n",
       "              num_parallel_tree=None, random_state=42, ...)"
      ]
     },
     "execution_count": 71,
     "metadata": {},
     "output_type": "execute_result"
    }
   ],
   "source": [
    "xgboost=XGBClassifier(n_estimators=100, max_depth=5, learning_rate=0.01, random_state=42)\n",
    "xgboost.fit(x_train,y_train)"
   ]
  },
  {
   "cell_type": "code",
   "execution_count": 72,
   "id": "d8ca0227",
   "metadata": {
    "execution": {
     "iopub.execute_input": "2024-09-13T22:49:22.669199Z",
     "iopub.status.busy": "2024-09-13T22:49:22.668614Z",
     "iopub.status.idle": "2024-09-13T22:49:23.078771Z",
     "shell.execute_reply": "2024-09-13T22:49:23.077491Z"
    },
    "id": "1AiguNTL0kFO",
    "outputId": "a118e599-1670-4c59-eb7b-81970aed2a45",
    "papermill": {
     "duration": 0.465008,
     "end_time": "2024-09-13T22:49:23.082417",
     "exception": false,
     "start_time": "2024-09-13T22:49:22.617409",
     "status": "completed"
    },
    "tags": []
   },
   "outputs": [
    {
     "name": "stdout",
     "output_type": "stream",
     "text": [
      "-Train accuracy: 86.04%\n",
      "-Validation accuracy: 81.82%\n",
      "-Test accuracy: 84.55%\n",
      "-F1_Score: 82.83%\n",
      "-Precision: 89.13%\n",
      "-Recall: 77.36%\n",
      "\n",
      "\n"
     ]
    },
    {
     "data": {
      "image/png": "[encoded data removed]",
      "text/plain": [
       "<Figure size 640x480 with 2 Axes>"
      ]
     },
     "metadata": {},
     "output_type": "display_data"
    },
    {
     "name": "stdout",
     "output_type": "stream",
     "text": [
      "-Not Overfitting & Test accuracy: 84.55%\n",
      "\n",
      "\n"
     ]
    }
   ],
   "source": [
    "check_overfitting(xgboost,x_train,x_val,x_test)"
   ]
  },
  {
   "cell_type": "code",
   "execution_count": 73,
   "id": "2972dd3a",
   "metadata": {
    "execution": {
     "iopub.execute_input": "2024-09-13T22:49:23.185941Z",
     "iopub.status.busy": "2024-09-13T22:49:23.185413Z",
     "iopub.status.idle": "2024-09-13T22:49:23.191595Z",
     "shell.execute_reply": "2024-09-13T22:49:23.190355Z"
    },
    "id": "g-pjL1n_1SAg",
    "papermill": {
     "duration": 0.061237,
     "end_time": "2024-09-13T22:49:23.194384",
     "exception": false,
     "start_time": "2024-09-13T22:49:23.133147",
     "status": "completed"
    },
    "tags": []
   },
   "outputs": [],
   "source": [
    "Name_models.append('XGBoost')"
   ]
  },
  {
   "cell_type": "code",
   "execution_count": null,
   "id": "c2d5c7ef",
   "metadata": {
    "id": "nmADsKKk285w",
    "papermill": {
     "duration": 0.049959,
     "end_time": "2024-09-13T22:49:23.294626",
     "exception": false,
     "start_time": "2024-09-13T22:49:23.244667",
     "status": "completed"
    },
    "tags": []
   },
   "outputs": [],
   "source": []
  },
  {
   "cell_type": "markdown",
   "id": "b2c830b5",
   "metadata": {
    "id": "dvXJS4oG295f",
    "papermill": {
     "duration": 0.049379,
     "end_time": "2024-09-13T22:49:23.394341",
     "exception": false,
     "start_time": "2024-09-13T22:49:23.344962",
     "status": "completed"
    },
    "tags": []
   },
   "source": [
    "#8- AdaBoost"
   ]
  },
  {
   "cell_type": "code",
   "execution_count": 74,
   "id": "ec5bbbfa",
   "metadata": {
    "execution": {
     "iopub.execute_input": "2024-09-13T22:49:23.497020Z",
     "iopub.status.busy": "2024-09-13T22:49:23.496445Z",
     "iopub.status.idle": "2024-09-13T22:49:24.039776Z",
     "shell.execute_reply": "2024-09-13T22:49:24.038464Z"
    },
    "id": "OYLr2UWI3JSE",
    "outputId": "04076156-aae4-484c-bcc2-ba35a0499cfa",
    "papermill": {
     "duration": 0.598517,
     "end_time": "2024-09-13T22:49:24.042586",
     "exception": false,
     "start_time": "2024-09-13T22:49:23.444069",
     "status": "completed"
    },
    "tags": []
   },
   "outputs": [
    {
     "data": {
      "text/html": [
       "<style>#sk-container-id-8 {color: black;background-color: white;}#sk-container-id-8 pre{padding: 0;}#sk-container-id-8 div.sk-toggleable {background-color: white;}#sk-container-id-8 label.sk-toggleable__label {cursor: pointer;display: block;width: 100%;margin-bottom: 0;padding: 0.3em;box-sizing: border-box;text-align: center;}#sk-container-id-8 label.sk-toggleable__label-arrow:before {content: \"▸\";float: left;margin-right: 0.25em;color: #696969;}#sk-container-id-8 label.sk-toggleable__label-arrow:hover:before {color: black;}#sk-container-id-8 div.sk-estimator:hover label.sk-toggleable__label-arrow:before {color: black;}#sk-container-id-8 div.sk-toggleable__content {max-height: 0;max-width: 0;overflow: hidden;text-align: left;background-color: #f0f8ff;}#sk-container-id-8 div.sk-toggleable__content pre {margin: 0.2em;color: black;border-radius: 0.25em;background-color: #f0f8ff;}#sk-container-id-8 input.sk-toggleable__control:checked~div.sk-toggleable__content {max-height: 200px;max-width: 100%;overflow: auto;}#sk-container-id-8 input.sk-toggleable__control:checked~label.sk-toggleable__label-arrow:before {content: \"▾\";}#sk-container-id-8 div.sk-estimator input.sk-toggleable__control:checked~label.sk-toggleable__label {background-color: #d4ebff;}#sk-container-id-8 div.sk-label input.sk-toggleable__control:checked~label.sk-toggleable__label {background-color: #d4ebff;}#sk-container-id-8 input.sk-hidden--visually {border: 0;clip: rect(1px 1px 1px 1px);clip: rect(1px, 1px, 1px, 1px);height: 1px;margin: -1px;overflow: hidden;padding: 0;position: absolute;width: 1px;}#sk-container-id-8 div.sk-estimator {font-family: monospace;background-color: #f0f8ff;border: 1px dotted black;border-radius: 0.25em;box-sizing: border-box;margin-bottom: 0.5em;}#sk-container-id-8 div.sk-estimator:hover {background-color: #d4ebff;}#sk-container-id-8 div.sk-parallel-item::after {content: \"\";width: 100%;border-bottom: 1px solid gray;flex-grow: 1;}#sk-container-id-8 div.sk-label:hover label.sk-toggleable__label {background-color: #d4ebff;}#sk-container-id-8 div.sk-serial::before {content: \"\";position: absolute;border-left: 1px solid gray;box-sizing: border-box;top: 0;bottom: 0;left: 50%;z-index: 0;}#sk-container-id-8 div.sk-serial {display: flex;flex-direction: column;align-items: center;background-color: white;padding-right: 0.2em;padding-left: 0.2em;position: relative;}#sk-container-id-8 div.sk-item {position: relative;z-index: 1;}#sk-container-id-8 div.sk-parallel {display: flex;align-items: stretch;justify-content: center;background-color: white;position: relative;}#sk-container-id-8 div.sk-item::before, #sk-container-id-8 div.sk-parallel-item::before {content: \"\";position: absolute;border-left: 1px solid gray;box-sizing: border-box;top: 0;bottom: 0;left: 50%;z-index: -1;}#sk-container-id-8 div.sk-parallel-item {display: flex;flex-direction: column;z-index: 1;position: relative;background-color: white;}#sk-container-id-8 div.sk-parallel-item:first-child::after {align-self: flex-end;width: 50%;}#sk-container-id-8 div.sk-parallel-item:last-child::after {align-self: flex-start;width: 50%;}#sk-container-id-8 div.sk-parallel-item:only-child::after {width: 0;}#sk-container-id-8 div.sk-dashed-wrapped {border: 1px dashed gray;margin: 0 0.4em 0.5em 0.4em;box-sizing: border-box;padding-bottom: 0.4em;background-color: white;}#sk-container-id-8 div.sk-label label {font-family: monospace;font-weight: bold;display: inline-block;line-height: 1.2em;}#sk-container-id-8 div.sk-label-container {text-align: center;}#sk-container-id-8 div.sk-container {/* jupyter's `normalize.less` sets `[hidden] { display: none; }` but bootstrap.min.css set `[hidden] { display: none !important; }` so we also need the `!important` here to be able to override the default hidden behavior on the sphinx rendered scikit-learn.org. See: https://github.com/scikit-learn/scikit-learn/issues/21755 */display: inline-block !important;position: relative;}#sk-container-id-8 div.sk-text-repr-fallback {display: none;}</style><div id=\"sk-container-id-8\" class=\"sk-top-container\"><div class=\"sk-text-repr-fallback\"><pre>AdaBoostClassifier(estimator=DecisionTreeClassifier(max_depth=1),\n",
       "                   learning_rate=0.5, n_estimators=200, random_state=42)</pre><b>In a Jupyter environment, please rerun this cell to show the HTML representation or trust the notebook. <br />On GitHub, the HTML representation is unable to render, please try loading this page with nbviewer.org.</b></div><div class=\"sk-container\" hidden><div class=\"sk-item sk-dashed-wrapped\"><div class=\"sk-label-container\"><div class=\"sk-label sk-toggleable\"><input class=\"sk-toggleable__control sk-hidden--visually\" id=\"sk-estimator-id-20\" type=\"checkbox\" ><label for=\"sk-estimator-id-20\" class=\"sk-toggleable__label sk-toggleable__label-arrow\">AdaBoostClassifier</label><div class=\"sk-toggleable__content\"><pre>AdaBoostClassifier(estimator=DecisionTreeClassifier(max_depth=1),\n",
       "                   learning_rate=0.5, n_estimators=200, random_state=42)</pre></div></div></div><div class=\"sk-parallel\"><div class=\"sk-parallel-item\"><div class=\"sk-item\"><div class=\"sk-label-container\"><div class=\"sk-label sk-toggleable\"><input class=\"sk-toggleable__control sk-hidden--visually\" id=\"sk-estimator-id-21\" type=\"checkbox\" ><label for=\"sk-estimator-id-21\" class=\"sk-toggleable__label sk-toggleable__label-arrow\">estimator: DecisionTreeClassifier</label><div class=\"sk-toggleable__content\"><pre>DecisionTreeClassifier(max_depth=1)</pre></div></div></div><div class=\"sk-serial\"><div class=\"sk-item\"><div class=\"sk-estimator sk-toggleable\"><input class=\"sk-toggleable__control sk-hidden--visually\" id=\"sk-estimator-id-22\" type=\"checkbox\" ><label for=\"sk-estimator-id-22\" class=\"sk-toggleable__label sk-toggleable__label-arrow\">DecisionTreeClassifier</label><div class=\"sk-toggleable__content\"><pre>DecisionTreeClassifier(max_depth=1)</pre></div></div></div></div></div></div></div></div></div></div>"
      ],
      "text/plain": [
       "AdaBoostClassifier(estimator=DecisionTreeClassifier(max_depth=1),\n",
       "                   learning_rate=0.5, n_estimators=200, random_state=42)"
      ]
     },
     "execution_count": 74,
     "metadata": {},
     "output_type": "execute_result"
    }
   ],
   "source": [
    "adaboost=AdaBoostClassifier(DecisionTreeClassifier(max_depth=1),\n",
    "                            n_estimators=200,\n",
    "                            learning_rate=0.5,\n",
    "                            random_state=42)\n",
    "adaboost.fit(x_train,y_train)"
   ]
  },
  {
   "cell_type": "code",
   "execution_count": 75,
   "id": "35b6e4a7",
   "metadata": {
    "execution": {
     "iopub.execute_input": "2024-09-13T22:49:24.146496Z",
     "iopub.status.busy": "2024-09-13T22:49:24.145978Z",
     "iopub.status.idle": "2024-09-13T22:49:24.584340Z",
     "shell.execute_reply": "2024-09-13T22:49:24.583086Z"
    },
    "id": "324Z0ilY34zW",
    "outputId": "0fce26b0-34c6-44f5-f540-eb0ed4828f43",
    "papermill": {
     "duration": 0.495066,
     "end_time": "2024-09-13T22:49:24.588456",
     "exception": false,
     "start_time": "2024-09-13T22:49:24.093390",
     "status": "completed"
    },
    "tags": []
   },
   "outputs": [
    {
     "name": "stdout",
     "output_type": "stream",
     "text": [
      "-Train accuracy: 82.91%\n",
      "-Validation accuracy: 83.52%\n",
      "-Test accuracy: 82.27%\n",
      "-F1_Score: 81.86%\n",
      "-Precision: 80.73%\n",
      "-Recall: 83.02%\n",
      "\n",
      "\n"
     ]
    },
    {
     "data": {
      "image/png": "[encoded data removed]",
      "text/plain": [
       "<Figure size 640x480 with 2 Axes>"
      ]
     },
     "metadata": {},
     "output_type": "display_data"
    },
    {
     "name": "stdout",
     "output_type": "stream",
     "text": [
      "-Not Overfitting & Test accuracy: 82.27%\n",
      "\n",
      "\n"
     ]
    }
   ],
   "source": [
    "check_overfitting(adaboost,x_train,x_val,x_test)"
   ]
  },
  {
   "cell_type": "code",
   "execution_count": 76,
   "id": "706c5507",
   "metadata": {
    "execution": {
     "iopub.execute_input": "2024-09-13T22:49:24.693797Z",
     "iopub.status.busy": "2024-09-13T22:49:24.693374Z",
     "iopub.status.idle": "2024-09-13T22:49:24.699523Z",
     "shell.execute_reply": "2024-09-13T22:49:24.698281Z"
    },
    "id": "TEXS2CVE361R",
    "papermill": {
     "duration": 0.061378,
     "end_time": "2024-09-13T22:49:24.702155",
     "exception": false,
     "start_time": "2024-09-13T22:49:24.640777",
     "status": "completed"
    },
    "tags": []
   },
   "outputs": [],
   "source": [
    "Name_models.append('AdaBoost')"
   ]
  },
  {
   "cell_type": "code",
   "execution_count": null,
   "id": "c9682b36",
   "metadata": {
    "id": "3f0_pFOa38ft",
    "papermill": {
     "duration": 0.051405,
     "end_time": "2024-09-13T22:49:24.806788",
     "exception": false,
     "start_time": "2024-09-13T22:49:24.755383",
     "status": "completed"
    },
    "tags": []
   },
   "outputs": [],
   "source": []
  },
  {
   "cell_type": "markdown",
   "id": "74c0d955",
   "metadata": {
    "id": "0TMDzlgj4S5h",
    "papermill": {
     "duration": 0.050778,
     "end_time": "2024-09-13T22:49:24.907895",
     "exception": false,
     "start_time": "2024-09-13T22:49:24.857117",
     "status": "completed"
    },
    "tags": []
   },
   "source": [
    "#9- Gradient Boosting"
   ]
  },
  {
   "cell_type": "code",
   "execution_count": 77,
   "id": "0caaca0b",
   "metadata": {
    "execution": {
     "iopub.execute_input": "2024-09-13T22:49:25.012583Z",
     "iopub.status.busy": "2024-09-13T22:49:25.011522Z",
     "iopub.status.idle": "2024-09-13T22:49:25.412132Z",
     "shell.execute_reply": "2024-09-13T22:49:25.410747Z"
    },
    "id": "Se8s1ZHZ4hEw",
    "outputId": "869fd02c-5e38-4eae-91c8-676d08a998f7",
    "papermill": {
     "duration": 0.455566,
     "end_time": "2024-09-13T22:49:25.414785",
     "exception": false,
     "start_time": "2024-09-13T22:49:24.959219",
     "status": "completed"
    },
    "tags": []
   },
   "outputs": [
    {
     "data": {
      "text/html": [
       "<style>#sk-container-id-9 {color: black;background-color: white;}#sk-container-id-9 pre{padding: 0;}#sk-container-id-9 div.sk-toggleable {background-color: white;}#sk-container-id-9 label.sk-toggleable__label {cursor: pointer;display: block;width: 100%;margin-bottom: 0;padding: 0.3em;box-sizing: border-box;text-align: center;}#sk-container-id-9 label.sk-toggleable__label-arrow:before {content: \"▸\";float: left;margin-right: 0.25em;color: #696969;}#sk-container-id-9 label.sk-toggleable__label-arrow:hover:before {color: black;}#sk-container-id-9 div.sk-estimator:hover label.sk-toggleable__label-arrow:before {color: black;}#sk-container-id-9 div.sk-toggleable__content {max-height: 0;max-width: 0;overflow: hidden;text-align: left;background-color: #f0f8ff;}#sk-container-id-9 div.sk-toggleable__content pre {margin: 0.2em;color: black;border-radius: 0.25em;background-color: #f0f8ff;}#sk-container-id-9 input.sk-toggleable__control:checked~div.sk-toggleable__content {max-height: 200px;max-width: 100%;overflow: auto;}#sk-container-id-9 input.sk-toggleable__control:checked~label.sk-toggleable__label-arrow:before {content: \"▾\";}#sk-container-id-9 div.sk-estimator input.sk-toggleable__control:checked~label.sk-toggleable__label {background-color: #d4ebff;}#sk-container-id-9 div.sk-label input.sk-toggleable__control:checked~label.sk-toggleable__label {background-color: #d4ebff;}#sk-container-id-9 input.sk-hidden--visually {border: 0;clip: rect(1px 1px 1px 1px);clip: rect(1px, 1px, 1px, 1px);height: 1px;margin: -1px;overflow: hidden;padding: 0;position: absolute;width: 1px;}#sk-container-id-9 div.sk-estimator {font-family: monospace;background-color: #f0f8ff;border: 1px dotted black;border-radius: 0.25em;box-sizing: border-box;margin-bottom: 0.5em;}#sk-container-id-9 div.sk-estimator:hover {background-color: #d4ebff;}#sk-container-id-9 div.sk-parallel-item::after {content: \"\";width: 100%;border-bottom: 1px solid gray;flex-grow: 1;}#sk-container-id-9 div.sk-label:hover label.sk-toggleable__label {background-color: #d4ebff;}#sk-container-id-9 div.sk-serial::before {content: \"\";position: absolute;border-left: 1px solid gray;box-sizing: border-box;top: 0;bottom: 0;left: 50%;z-index: 0;}#sk-container-id-9 div.sk-serial {display: flex;flex-direction: column;align-items: center;background-color: white;padding-right: 0.2em;padding-left: 0.2em;position: relative;}#sk-container-id-9 div.sk-item {position: relative;z-index: 1;}#sk-container-id-9 div.sk-parallel {display: flex;align-items: stretch;justify-content: center;background-color: white;position: relative;}#sk-container-id-9 div.sk-item::before, #sk-container-id-9 div.sk-parallel-item::before {content: \"\";position: absolute;border-left: 1px solid gray;box-sizing: border-box;top: 0;bottom: 0;left: 50%;z-index: -1;}#sk-container-id-9 div.sk-parallel-item {display: flex;flex-direction: column;z-index: 1;position: relative;background-color: white;}#sk-container-id-9 div.sk-parallel-item:first-child::after {align-self: flex-end;width: 50%;}#sk-container-id-9 div.sk-parallel-item:last-child::after {align-self: flex-start;width: 50%;}#sk-container-id-9 div.sk-parallel-item:only-child::after {width: 0;}#sk-container-id-9 div.sk-dashed-wrapped {border: 1px dashed gray;margin: 0 0.4em 0.5em 0.4em;box-sizing: border-box;padding-bottom: 0.4em;background-color: white;}#sk-container-id-9 div.sk-label label {font-family: monospace;font-weight: bold;display: inline-block;line-height: 1.2em;}#sk-container-id-9 div.sk-label-container {text-align: center;}#sk-container-id-9 div.sk-container {/* jupyter's `normalize.less` sets `[hidden] { display: none; }` but bootstrap.min.css set `[hidden] { display: none !important; }` so we also need the `!important` here to be able to override the default hidden behavior on the sphinx rendered scikit-learn.org. See: https://github.com/scikit-learn/scikit-learn/issues/21755 */display: inline-block !important;position: relative;}#sk-container-id-9 div.sk-text-repr-fallback {display: none;}</style><div id=\"sk-container-id-9\" class=\"sk-top-container\"><div class=\"sk-text-repr-fallback\"><pre>GradientBoostingClassifier(learning_rate=0.01, max_depth=4, n_estimators=200,\n",
       "                           random_state=42)</pre><b>In a Jupyter environment, please rerun this cell to show the HTML representation or trust the notebook. <br />On GitHub, the HTML representation is unable to render, please try loading this page with nbviewer.org.</b></div><div class=\"sk-container\" hidden><div class=\"sk-item\"><div class=\"sk-estimator sk-toggleable\"><input class=\"sk-toggleable__control sk-hidden--visually\" id=\"sk-estimator-id-23\" type=\"checkbox\" checked><label for=\"sk-estimator-id-23\" class=\"sk-toggleable__label sk-toggleable__label-arrow\">GradientBoostingClassifier</label><div class=\"sk-toggleable__content\"><pre>GradientBoostingClassifier(learning_rate=0.01, max_depth=4, n_estimators=200,\n",
       "                           random_state=42)</pre></div></div></div></div></div>"
      ],
      "text/plain": [
       "GradientBoostingClassifier(learning_rate=0.01, max_depth=4, n_estimators=200,\n",
       "                           random_state=42)"
      ]
     },
     "execution_count": 77,
     "metadata": {},
     "output_type": "execute_result"
    }
   ],
   "source": [
    "gradient_boosting=GradientBoostingClassifier(n_estimators=200,\n",
    "                                            learning_rate=0.01,\n",
    "                                            max_depth=4,\n",
    "                                            random_state=42)\n",
    "gradient_boosting.fit(x_train,y_train)"
   ]
  },
  {
   "cell_type": "code",
   "execution_count": 78,
   "id": "05a09058",
   "metadata": {
    "execution": {
     "iopub.execute_input": "2024-09-13T22:49:25.518855Z",
     "iopub.status.busy": "2024-09-13T22:49:25.518394Z",
     "iopub.status.idle": "2024-09-13T22:49:25.818319Z",
     "shell.execute_reply": "2024-09-13T22:49:25.817103Z"
    },
    "id": "zLbiPkb34nwW",
    "outputId": "aa44f223-48fd-4135-a40a-c0894d1b3044",
    "papermill": {
     "duration": 0.354609,
     "end_time": "2024-09-13T22:49:25.821120",
     "exception": false,
     "start_time": "2024-09-13T22:49:25.466511",
     "status": "completed"
    },
    "tags": []
   },
   "outputs": [
    {
     "name": "stdout",
     "output_type": "stream",
     "text": [
      "-Train accuracy: 86.04%\n",
      "-Validation accuracy: 83.52%\n",
      "-Test accuracy: 84.55%\n",
      "-F1_Score: 82.83%\n",
      "-Precision: 89.13%\n",
      "-Recall: 77.36%\n",
      "\n",
      "\n"
     ]
    },
    {
     "data": {
      "image/png": "[encoded data removed]",
      "text/plain": [
       "<Figure size 640x480 with 2 Axes>"
      ]
     },
     "metadata": {},
     "output_type": "display_data"
    },
    {
     "name": "stdout",
     "output_type": "stream",
     "text": [
      "-Not Overfitting & Test accuracy: 84.55%\n",
      "\n",
      "\n"
     ]
    }
   ],
   "source": [
    "check_overfitting(gradient_boosting,x_train,x_val,x_test)"
   ]
  },
  {
   "cell_type": "code",
   "execution_count": 79,
   "id": "a1a4976b",
   "metadata": {
    "execution": {
     "iopub.execute_input": "2024-09-13T22:49:25.931266Z",
     "iopub.status.busy": "2024-09-13T22:49:25.930774Z",
     "iopub.status.idle": "2024-09-13T22:49:25.936560Z",
     "shell.execute_reply": "2024-09-13T22:49:25.935140Z"
    },
    "id": "y7D1zGOh4p2r",
    "papermill": {
     "duration": 0.064901,
     "end_time": "2024-09-13T22:49:25.939253",
     "exception": false,
     "start_time": "2024-09-13T22:49:25.874352",
     "status": "completed"
    },
    "tags": []
   },
   "outputs": [],
   "source": [
    "Name_models.append('Gradient Boosting')"
   ]
  },
  {
   "cell_type": "code",
   "execution_count": null,
   "id": "a5e13460",
   "metadata": {
    "id": "M52kQ_vr5LQy",
    "papermill": {
     "duration": 0.051308,
     "end_time": "2024-09-13T22:49:26.042417",
     "exception": false,
     "start_time": "2024-09-13T22:49:25.991109",
     "status": "completed"
    },
    "tags": []
   },
   "outputs": [],
   "source": []
  },
  {
   "cell_type": "markdown",
   "id": "4bf0912c",
   "metadata": {
    "id": "-QnFFbxQ5abD",
    "papermill": {
     "duration": 0.05248,
     "end_time": "2024-09-13T22:49:26.145982",
     "exception": false,
     "start_time": "2024-09-13T22:49:26.093502",
     "status": "completed"
    },
    "tags": []
   },
   "source": [
    "#10- Stacking"
   ]
  },
  {
   "cell_type": "code",
   "execution_count": 80,
   "id": "7f112fd5",
   "metadata": {
    "execution": {
     "iopub.execute_input": "2024-09-13T22:49:26.259726Z",
     "iopub.status.busy": "2024-09-13T22:49:26.259299Z",
     "iopub.status.idle": "2024-09-13T22:49:29.139411Z",
     "shell.execute_reply": "2024-09-13T22:49:29.138180Z"
    },
    "id": "DSuXyVoI5eA-",
    "outputId": "c300b0d0-d821-4785-920c-e9a5003faa04",
    "papermill": {
     "duration": 2.935958,
     "end_time": "2024-09-13T22:49:29.142087",
     "exception": false,
     "start_time": "2024-09-13T22:49:26.206129",
     "status": "completed"
    },
    "tags": []
   },
   "outputs": [
    {
     "data": {
      "text/html": [
       "<style>#sk-container-id-10 {color: black;background-color: white;}#sk-container-id-10 pre{padding: 0;}#sk-container-id-10 div.sk-toggleable {background-color: white;}#sk-container-id-10 label.sk-toggleable__label {cursor: pointer;display: block;width: 100%;margin-bottom: 0;padding: 0.3em;box-sizing: border-box;text-align: center;}#sk-container-id-10 label.sk-toggleable__label-arrow:before {content: \"▸\";float: left;margin-right: 0.25em;color: #696969;}#sk-container-id-10 label.sk-toggleable__label-arrow:hover:before {color: black;}#sk-container-id-10 div.sk-estimator:hover label.sk-toggleable__label-arrow:before {color: black;}#sk-container-id-10 div.sk-toggleable__content {max-height: 0;max-width: 0;overflow: hidden;text-align: left;background-color: #f0f8ff;}#sk-container-id-10 div.sk-toggleable__content pre {margin: 0.2em;color: black;border-radius: 0.25em;background-color: #f0f8ff;}#sk-container-id-10 input.sk-toggleable__control:checked~div.sk-toggleable__content {max-height: 200px;max-width: 100%;overflow: auto;}#sk-container-id-10 input.sk-toggleable__control:checked~label.sk-toggleable__label-arrow:before {content: \"▾\";}#sk-container-id-10 div.sk-estimator input.sk-toggleable__control:checked~label.sk-toggleable__label {background-color: #d4ebff;}#sk-container-id-10 div.sk-label input.sk-toggleable__control:checked~label.sk-toggleable__label {background-color: #d4ebff;}#sk-container-id-10 input.sk-hidden--visually {border: 0;clip: rect(1px 1px 1px 1px);clip: rect(1px, 1px, 1px, 1px);height: 1px;margin: -1px;overflow: hidden;padding: 0;position: absolute;width: 1px;}#sk-container-id-10 div.sk-estimator {font-family: monospace;background-color: #f0f8ff;border: 1px dotted black;border-radius: 0.25em;box-sizing: border-box;margin-bottom: 0.5em;}#sk-container-id-10 div.sk-estimator:hover {background-color: #d4ebff;}#sk-container-id-10 div.sk-parallel-item::after {content: \"\";width: 100%;border-bottom: 1px solid gray;flex-grow: 1;}#sk-container-id-10 div.sk-label:hover label.sk-toggleable__label {background-color: #d4ebff;}#sk-container-id-10 div.sk-serial::before {content: \"\";position: absolute;border-left: 1px solid gray;box-sizing: border-box;top: 0;bottom: 0;left: 50%;z-index: 0;}#sk-container-id-10 div.sk-serial {display: flex;flex-direction: column;align-items: center;background-color: white;padding-right: 0.2em;padding-left: 0.2em;position: relative;}#sk-container-id-10 div.sk-item {position: relative;z-index: 1;}#sk-container-id-10 div.sk-parallel {display: flex;align-items: stretch;justify-content: center;background-color: white;position: relative;}#sk-container-id-10 div.sk-item::before, #sk-container-id-10 div.sk-parallel-item::before {content: \"\";position: absolute;border-left: 1px solid gray;box-sizing: border-box;top: 0;bottom: 0;left: 50%;z-index: -1;}#sk-container-id-10 div.sk-parallel-item {display: flex;flex-direction: column;z-index: 1;position: relative;background-color: white;}#sk-container-id-10 div.sk-parallel-item:first-child::after {align-self: flex-end;width: 50%;}#sk-container-id-10 div.sk-parallel-item:last-child::after {align-self: flex-start;width: 50%;}#sk-container-id-10 div.sk-parallel-item:only-child::after {width: 0;}#sk-container-id-10 div.sk-dashed-wrapped {border: 1px dashed gray;margin: 0 0.4em 0.5em 0.4em;box-sizing: border-box;padding-bottom: 0.4em;background-color: white;}#sk-container-id-10 div.sk-label label {font-family: monospace;font-weight: bold;display: inline-block;line-height: 1.2em;}#sk-container-id-10 div.sk-label-container {text-align: center;}#sk-container-id-10 div.sk-container {/* jupyter's `normalize.less` sets `[hidden] { display: none; }` but bootstrap.min.css set `[hidden] { display: none !important; }` so we also need the `!important` here to be able to override the default hidden behavior on the sphinx rendered scikit-learn.org. See: https://github.com/scikit-learn/scikit-learn/issues/21755 */display: inline-block !important;position: relative;}#sk-container-id-10 div.sk-text-repr-fallback {display: none;}</style><div id=\"sk-container-id-10\" class=\"sk-top-container\"><div class=\"sk-text-repr-fallback\"><pre>StackingClassifier(estimators=[(&#x27;rf&#x27;,\n",
       "                                RandomForestClassifier(max_depth=4,\n",
       "                                                       n_estimators=40)),\n",
       "                               (&#x27;gb&#x27;,\n",
       "                                GradientBoostingClassifier(learning_rate=0.01,\n",
       "                                                           max_depth=4,\n",
       "                                                           n_estimators=200,\n",
       "                                                           random_state=42))],\n",
       "                   final_estimator=LogisticRegression())</pre><b>In a Jupyter environment, please rerun this cell to show the HTML representation or trust the notebook. <br />On GitHub, the HTML representation is unable to render, please try loading this page with nbviewer.org.</b></div><div class=\"sk-container\" hidden><div class=\"sk-item sk-dashed-wrapped\"><div class=\"sk-label-container\"><div class=\"sk-label sk-toggleable\"><input class=\"sk-toggleable__control sk-hidden--visually\" id=\"sk-estimator-id-24\" type=\"checkbox\" ><label for=\"sk-estimator-id-24\" class=\"sk-toggleable__label sk-toggleable__label-arrow\">StackingClassifier</label><div class=\"sk-toggleable__content\"><pre>StackingClassifier(estimators=[(&#x27;rf&#x27;,\n",
       "                                RandomForestClassifier(max_depth=4,\n",
       "                                                       n_estimators=40)),\n",
       "                               (&#x27;gb&#x27;,\n",
       "                                GradientBoostingClassifier(learning_rate=0.01,\n",
       "                                                           max_depth=4,\n",
       "                                                           n_estimators=200,\n",
       "                                                           random_state=42))],\n",
       "                   final_estimator=LogisticRegression())</pre></div></div></div><div class=\"sk-serial\"><div class=\"sk-item\"><div class=\"sk-parallel\"><div class=\"sk-parallel-item\"><div class=\"sk-item\"><div class=\"sk-label-container\"><div class=\"sk-label sk-toggleable\"><label>rf</label></div></div><div class=\"sk-serial\"><div class=\"sk-item\"><div class=\"sk-estimator sk-toggleable\"><input class=\"sk-toggleable__control sk-hidden--visually\" id=\"sk-estimator-id-25\" type=\"checkbox\" ><label for=\"sk-estimator-id-25\" class=\"sk-toggleable__label sk-toggleable__label-arrow\">RandomForestClassifier</label><div class=\"sk-toggleable__content\"><pre>RandomForestClassifier(max_depth=4, n_estimators=40)</pre></div></div></div></div></div></div><div class=\"sk-parallel-item\"><div class=\"sk-item\"><div class=\"sk-label-container\"><div class=\"sk-label sk-toggleable\"><label>gb</label></div></div><div class=\"sk-serial\"><div class=\"sk-item\"><div class=\"sk-estimator sk-toggleable\"><input class=\"sk-toggleable__control sk-hidden--visually\" id=\"sk-estimator-id-26\" type=\"checkbox\" ><label for=\"sk-estimator-id-26\" class=\"sk-toggleable__label sk-toggleable__label-arrow\">GradientBoostingClassifier</label><div class=\"sk-toggleable__content\"><pre>GradientBoostingClassifier(learning_rate=0.01, max_depth=4, n_estimators=200,\n",
       "                           random_state=42)</pre></div></div></div></div></div></div></div></div><div class=\"sk-item\"><div class=\"sk-parallel\"><div class=\"sk-parallel-item\"><div class=\"sk-item\"><div class=\"sk-label-container\"><div class=\"sk-label sk-toggleable\"><label>final_estimator</label></div></div><div class=\"sk-serial\"><div class=\"sk-item\"><div class=\"sk-estimator sk-toggleable\"><input class=\"sk-toggleable__control sk-hidden--visually\" id=\"sk-estimator-id-27\" type=\"checkbox\" ><label for=\"sk-estimator-id-27\" class=\"sk-toggleable__label sk-toggleable__label-arrow\">LogisticRegression</label><div class=\"sk-toggleable__content\"><pre>LogisticRegression()</pre></div></div></div></div></div></div></div></div></div></div></div></div>"
      ],
      "text/plain": [
       "StackingClassifier(estimators=[('rf',\n",
       "                                RandomForestClassifier(max_depth=4,\n",
       "                                                       n_estimators=40)),\n",
       "                               ('gb',\n",
       "                                GradientBoostingClassifier(learning_rate=0.01,\n",
       "                                                           max_depth=4,\n",
       "                                                           n_estimators=200,\n",
       "                                                           random_state=42))],\n",
       "                   final_estimator=LogisticRegression())"
      ]
     },
     "execution_count": 80,
     "metadata": {},
     "output_type": "execute_result"
    }
   ],
   "source": [
    "base_models = [('rf',RandomForestClassifier(max_depth= 4, n_estimators= 40)),\n",
    "               ('gb', GradientBoostingClassifier(n_estimators=200, learning_rate=0.01, max_depth=4, random_state=42))]\n",
    "\n",
    "meta_model = LogisticRegression()\n",
    "stacking = StackingClassifier(estimators=base_models,\n",
    "                              final_estimator=meta_model\n",
    "                              )\n",
    "stacking.fit(x_train, y_train)"
   ]
  },
  {
   "cell_type": "code",
   "execution_count": 81,
   "id": "3668138c",
   "metadata": {
    "execution": {
     "iopub.execute_input": "2024-09-13T22:49:29.249433Z",
     "iopub.status.busy": "2024-09-13T22:49:29.248964Z",
     "iopub.status.idle": "2024-09-13T22:49:29.562354Z",
     "shell.execute_reply": "2024-09-13T22:49:29.560730Z"
    },
    "id": "yHxVyjEp72xV",
    "outputId": "1083615c-005e-4617-94ab-8d8fbff59277",
    "papermill": {
     "duration": 0.370108,
     "end_time": "2024-09-13T22:49:29.565602",
     "exception": false,
     "start_time": "2024-09-13T22:49:29.195494",
     "status": "completed"
    },
    "tags": []
   },
   "outputs": [
    {
     "name": "stdout",
     "output_type": "stream",
     "text": [
      "-Train accuracy: 86.18%\n",
      "-Validation accuracy: 84.09%\n",
      "-Test accuracy: 84.09%\n",
      "-F1_Score: 82.41%\n",
      "-Precision: 88.17%\n",
      "-Recall: 77.36%\n",
      "\n",
      "\n"
     ]
    },
    {
     "data": {
      "image/png": "[encoded data removed]",
      "text/plain": [
       "<Figure size 640x480 with 2 Axes>"
      ]
     },
     "metadata": {},
     "output_type": "display_data"
    },
    {
     "name": "stdout",
     "output_type": "stream",
     "text": [
      "-Not Overfitting & Test accuracy: 84.09%\n",
      "\n",
      "\n"
     ]
    }
   ],
   "source": [
    "check_overfitting(stacking,x_train,x_val,x_test)"
   ]
  },
  {
   "cell_type": "code",
   "execution_count": 82,
   "id": "08bee574",
   "metadata": {
    "execution": {
     "iopub.execute_input": "2024-09-13T22:49:29.674918Z",
     "iopub.status.busy": "2024-09-13T22:49:29.674507Z",
     "iopub.status.idle": "2024-09-13T22:49:29.680116Z",
     "shell.execute_reply": "2024-09-13T22:49:29.678842Z"
    },
    "id": "d_o7uHda8VD_",
    "papermill": {
     "duration": 0.062444,
     "end_time": "2024-09-13T22:49:29.682769",
     "exception": false,
     "start_time": "2024-09-13T22:49:29.620325",
     "status": "completed"
    },
    "tags": []
   },
   "outputs": [],
   "source": [
    "Name_models.append('Stacking')"
   ]
  },
  {
   "cell_type": "code",
   "execution_count": null,
   "id": "f6115b20",
   "metadata": {
    "id": "J2zq37Ry8XFu",
    "papermill": {
     "duration": 0.052963,
     "end_time": "2024-09-13T22:49:29.788726",
     "exception": false,
     "start_time": "2024-09-13T22:49:29.735763",
     "status": "completed"
    },
    "tags": []
   },
   "outputs": [],
   "source": []
  },
  {
   "cell_type": "markdown",
   "id": "bcdcc499",
   "metadata": {
    "id": "4CHzv9E-9NlP",
    "papermill": {
     "duration": 0.051673,
     "end_time": "2024-09-13T22:49:29.893153",
     "exception": false,
     "start_time": "2024-09-13T22:49:29.841480",
     "status": "completed"
    },
    "tags": []
   },
   "source": [
    "#Best Model accuracy"
   ]
  },
  {
   "cell_type": "code",
   "execution_count": 83,
   "id": "da1dc8f6",
   "metadata": {
    "execution": {
     "iopub.execute_input": "2024-09-13T22:49:30.002052Z",
     "iopub.status.busy": "2024-09-13T22:49:30.001576Z",
     "iopub.status.idle": "2024-09-13T22:49:30.017570Z",
     "shell.execute_reply": "2024-09-13T22:49:30.016248Z"
    },
    "id": "UEGAGAfSDihe",
    "outputId": "2f187d89-5ab1-4537-f056-3ba0e33b3110",
    "papermill": {
     "duration": 0.073772,
     "end_time": "2024-09-13T22:49:30.020529",
     "exception": false,
     "start_time": "2024-09-13T22:49:29.946757",
     "status": "completed"
    },
    "tags": []
   },
   "outputs": [
    {
     "data": {
      "text/html": [
       "<div>\n",
       "<style scoped>\n",
       "    .dataframe tbody tr th:only-of-type {\n",
       "        vertical-align: middle;\n",
       "    }\n",
       "\n",
       "    .dataframe tbody tr th {\n",
       "        vertical-align: top;\n",
       "    }\n",
       "\n",
       "    .dataframe thead th {\n",
       "        text-align: right;\n",
       "    }\n",
       "</style>\n",
       "<table border=\"1\" class=\"dataframe\">\n",
       "  <thead>\n",
       "    <tr style=\"text-align: right;\">\n",
       "      <th></th>\n",
       "      <th>Model</th>\n",
       "      <th>Accuracy</th>\n",
       "    </tr>\n",
       "  </thead>\n",
       "  <tbody>\n",
       "    <tr>\n",
       "      <th>0</th>\n",
       "      <td>SVC</td>\n",
       "      <td>0.868182</td>\n",
       "    </tr>\n",
       "    <tr>\n",
       "      <th>1</th>\n",
       "      <td>XGBoost</td>\n",
       "      <td>0.845455</td>\n",
       "    </tr>\n",
       "    <tr>\n",
       "      <th>2</th>\n",
       "      <td>Gradient Boosting</td>\n",
       "      <td>0.845455</td>\n",
       "    </tr>\n",
       "    <tr>\n",
       "      <th>3</th>\n",
       "      <td>Stacking</td>\n",
       "      <td>0.840909</td>\n",
       "    </tr>\n",
       "    <tr>\n",
       "      <th>4</th>\n",
       "      <td>Decision Tree</td>\n",
       "      <td>0.827273</td>\n",
       "    </tr>\n",
       "    <tr>\n",
       "      <th>5</th>\n",
       "      <td>KNN</td>\n",
       "      <td>0.827273</td>\n",
       "    </tr>\n",
       "    <tr>\n",
       "      <th>6</th>\n",
       "      <td>Random Forest</td>\n",
       "      <td>0.827273</td>\n",
       "    </tr>\n",
       "    <tr>\n",
       "      <th>7</th>\n",
       "      <td>AdaBoost</td>\n",
       "      <td>0.822727</td>\n",
       "    </tr>\n",
       "    <tr>\n",
       "      <th>8</th>\n",
       "      <td>Logistic Regression</td>\n",
       "      <td>0.818182</td>\n",
       "    </tr>\n",
       "    <tr>\n",
       "      <th>9</th>\n",
       "      <td>Gaussian NB</td>\n",
       "      <td>0.777273</td>\n",
       "    </tr>\n",
       "  </tbody>\n",
       "</table>\n",
       "</div>"
      ],
      "text/plain": [
       "                 Model  Accuracy\n",
       "0                  SVC  0.868182\n",
       "1              XGBoost  0.845455\n",
       "2    Gradient Boosting  0.845455\n",
       "3             Stacking  0.840909\n",
       "4        Decision Tree  0.827273\n",
       "5                  KNN  0.827273\n",
       "6        Random Forest  0.827273\n",
       "7             AdaBoost  0.822727\n",
       "8  Logistic Regression  0.818182\n",
       "9          Gaussian NB  0.777273"
      ]
     },
     "execution_count": 83,
     "metadata": {},
     "output_type": "execute_result"
    }
   ],
   "source": [
    "model_accuracy=pd.DataFrame({'Model':Name_models,'Accuracy':Accuracy_models})\n",
    "model_accuracy.sort_values(by='Accuracy',ascending=False,inplace=True)\n",
    "model_accuracy.reset_index(drop=True,inplace=True)\n",
    "model_accuracy"
   ]
  },
  {
   "cell_type": "code",
   "execution_count": 84,
   "id": "d5017ca8",
   "metadata": {
    "execution": {
     "iopub.execute_input": "2024-09-13T22:49:30.135295Z",
     "iopub.status.busy": "2024-09-13T22:49:30.134801Z",
     "iopub.status.idle": "2024-09-13T22:49:30.524661Z",
     "shell.execute_reply": "2024-09-13T22:49:30.523374Z"
    },
    "id": "4VFXGVRi9Weq",
    "outputId": "1fd358f7-0a65-4c81-bbe4-769b8c1ea8a2",
    "papermill": {
     "duration": 0.4503,
     "end_time": "2024-09-13T22:49:30.527240",
     "exception": false,
     "start_time": "2024-09-13T22:49:30.076940",
     "status": "completed"
    },
    "tags": []
   },
   "outputs": [
    {
     "data": {
      "image/png": "[encoded data removed]",
      "text/plain": [
       "<Figure size 1200x600 with 1 Axes>"
      ]
     },
     "metadata": {},
     "output_type": "display_data"
    }
   ],
   "source": [
    "plt.figure(figsize=(12,6))\n",
    "sns.barplot(x=model_accuracy['Model'],y=model_accuracy['Accuracy'],palette='rocket')\n",
    "\n",
    "for i, v in enumerate(model_accuracy['Accuracy']):\n",
    "    plt.text(i, v + 0.01, f\"{v*100:.1f}%\", ha='center', va='bottom')\n",
    "\n",
    "plt.xticks(rotation=45)\n",
    "plt.xlabel('Models Name')\n",
    "plt.ylabel('Accuracy')\n",
    "plt.title('Accuracy of different models')\n",
    "plt.show()"
   ]
  },
  {
   "cell_type": "code",
   "execution_count": 85,
   "id": "2969cf09",
   "metadata": {
    "execution": {
     "iopub.execute_input": "2024-09-13T22:49:30.640315Z",
     "iopub.status.busy": "2024-09-13T22:49:30.639318Z",
     "iopub.status.idle": "2024-09-13T22:49:31.011175Z",
     "shell.execute_reply": "2024-09-13T22:49:31.009827Z"
    },
    "id": "da8Uoc-Chw85",
    "outputId": "4c10551d-7154-47f1-ff98-c707ba2b64ef",
    "papermill": {
     "duration": 0.42961,
     "end_time": "2024-09-13T22:49:31.013888",
     "exception": false,
     "start_time": "2024-09-13T22:49:30.584278",
     "status": "completed"
    },
    "tags": []
   },
   "outputs": [
    {
     "data": {
      "image/png": "[encoded data removed]",
      "text/plain": [
       "<Figure size 1200x500 with 1 Axes>"
      ]
     },
     "metadata": {},
     "output_type": "display_data"
    }
   ],
   "source": [
    "plt.figure(figsize=(12,5))\n",
    "sns.lineplot(x=model_accuracy['Model'],y=model_accuracy['Accuracy']*100,marker='o',color='r',lw=2)\n",
    "\n",
    "plt.xticks(rotation=45)\n",
    "plt.xlabel('Models Name')\n",
    "plt.ylabel('Accuracy')\n",
    "plt.title('Accuracy of different models')\n",
    "plt.show()"
   ]
  },
  {
   "cell_type": "code",
   "execution_count": 86,
   "id": "185f607f",
   "metadata": {
    "execution": {
     "iopub.execute_input": "2024-09-13T22:49:31.127689Z",
     "iopub.status.busy": "2024-09-13T22:49:31.126619Z",
     "iopub.status.idle": "2024-09-13T22:49:31.134365Z",
     "shell.execute_reply": "2024-09-13T22:49:31.133137Z"
    },
    "id": "hw1STfC2A-bH",
    "outputId": "ac471d03-2e2d-4271-eea0-cd3b6d10ee88",
    "papermill": {
     "duration": 0.067694,
     "end_time": "2024-09-13T22:49:31.137057",
     "exception": false,
     "start_time": "2024-09-13T22:49:31.069363",
     "status": "completed"
    },
    "tags": []
   },
   "outputs": [
    {
     "name": "stdout",
     "output_type": "stream",
     "text": [
      "Best model accuracy is:( SVC ) with accuracy: 86.82%\n"
     ]
    }
   ],
   "source": [
    "print(f'Best model accuracy is:( {model_accuracy.Model[0]} ) with accuracy: {model_accuracy.Accuracy[0]*100:.2f}%')"
   ]
  },
  {
   "cell_type": "markdown",
   "id": "750a9394",
   "metadata": {
    "id": "k9i53_NnH5Os",
    "papermill": {
     "duration": 0.055301,
     "end_time": "2024-09-13T22:49:31.247528",
     "exception": false,
     "start_time": "2024-09-13T22:49:31.192227",
     "status": "completed"
    },
    "tags": []
   },
   "source": [
    "# Thanks"
   ]
  },
  {
   "cell_type": "markdown",
   "id": "cb30d2ad",
   "metadata": {
    "id": "1L2_wXNdqKE2",
    "papermill": {
     "duration": 0.053885,
     "end_time": "2024-09-13T22:49:31.357413",
     "exception": false,
     "start_time": "2024-09-13T22:49:31.303528",
     "status": "completed"
    },
    "tags": []
   },
   "source": [
    "(knn > random-forest > svc) ==> overfitting"
   ]
  }
 ],
 "metadata": {
  "colab": {
   "provenance": []
  },
  "kaggle": {
   "accelerator": "none",
   "dataSources": [
    {
     "datasetId": 1818188,
     "sourceId": 2965537,
     "sourceType": "datasetVersion"
    }
   ],
   "dockerImageVersionId": 30761,
   "isGpuEnabled": false,
   "isInternetEnabled": true,
   "language": "python",
   "sourceType": "notebook"
  },
  "kernelspec": {
   "display_name": "Python 3",
   "language": "python",
   "name": "python3"
  },
  "language_info": {
   "codemirror_mode": {
    "name": "ipython",
    "version": 3
   },
   "file_extension": ".py",
   "mimetype": "text/x-python",
   "name": "python",
   "nbconvert_exporter": "python",
   "pygments_lexer": "ipython3",
   "version": "3.10.14"
  },
  "papermill": {
   "default_parameters": {},
   "duration": 784.426194,
   "end_time": "2024-09-13T22:49:32.235918",
   "environment_variables": {},
   "exception": null,
   "input_path": "__notebook__.ipynb",
   "output_path": "__notebook__.ipynb",
   "parameters": {},
   "start_time": "2024-09-13T22:36:27.809724",
   "version": "2.6.0"
  }
 },
 "nbformat": 4,
 "nbformat_minor": 5
}
